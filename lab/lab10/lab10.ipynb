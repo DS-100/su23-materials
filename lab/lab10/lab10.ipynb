{
 "cells": [
  {
   "cell_type": "code",
   "execution_count": null,
   "metadata": {
    "deletable": false,
    "editable": false
   },
   "outputs": [],
   "source": [
    "# Initialize Otter\n",
    "import otter\n",
    "grader = otter.Notebook(\"lab10.ipynb\")"
   ]
  },
  {
   "cell_type": "markdown",
   "metadata": {
    "nbgrader": {
     "grade": false,
     "grade_id": "intro",
     "locked": true,
     "schema_version": 2,
     "solution": false
    },
    "tags": []
   },
   "source": [
    "### Content Warning\n",
    "This lab includes discusssion about cancer. If you feel uncomfortable with this topic, **please contact your GSI or the instructors, or reach out via the Summer 2023 extenuating circumstances form.**\n",
    "\n",
    "# Lab 10: Logistic Regression\n",
    "\n",
    "In this lab, we will manually construct the logistic regression model and minimize cross-entropy loss using `scipy.minimize`. This structure mirrors the linear regression labs from earlier in the semester and lets us dive deep into how logistic regression works. We also introduce the `sklearn.linear_model.LogisticRegression` module that you would use in practice, and we explore performance metrics for classification."
   ]
  },
  {
   "cell_type": "markdown",
   "metadata": {},
   "source": [
    "### Due Date\n",
    "\n",
    "The on-time deadline is **Saturday, July 29th, 11:59 PM PT**. Please read the syllabus for the grace period policy. No late submissions beyond the grace period will be accepted."
   ]
  },
  {
   "cell_type": "markdown",
   "metadata": {
    "tags": []
   },
   "source": [
    "### Collaboration Policy\n",
    "Data science is a collaborative activity. While you may talk with others about this assignment, we ask that you **write your solutions individually**. If you discuss the assignment with others, please **include their names** in the cell below."
   ]
  },
  {
   "cell_type": "markdown",
   "metadata": {},
   "source": [
    "**Collaborators:** *list names here*"
   ]
  },
  {
   "cell_type": "code",
   "execution_count": null,
   "metadata": {
    "nbgrader": {
     "grade": false,
     "grade_id": "setup",
     "locked": true,
     "schema_version": 2,
     "solution": false
    }
   },
   "outputs": [],
   "source": [
    "# Run this cell to set up your notebook\n",
    "import numpy as np\n",
    "import pandas as pd\n",
    "import sklearn\n",
    "import sklearn.datasets\n",
    "import matplotlib.pyplot as plt\n",
    "import seaborn as sns\n",
    "\n",
    "import plotly.offline as py\n",
    "import plotly.graph_objs as go\n",
    "import plotly.figure_factory as ff\n",
    "\n",
    "\n",
    "%matplotlib inline\n",
    "sns.set()\n",
    "sns.set_context(\"talk\")"
   ]
  },
  {
   "cell_type": "markdown",
   "metadata": {},
   "source": [
    "### Lab Walk-Through\n",
    "In addition to the lab notebook, we have also released a prerecorded walk-through video of the lab. We encourage you to reference this video as you work through the lab. Run the cell below to display the video.\n",
    "\n",
    "**Note**: The walkthrough video is recorded from Spring 2022 wherein this was named Lab 12, but it covers the same content."
   ]
  },
  {
   "cell_type": "code",
   "execution_count": null,
   "metadata": {},
   "outputs": [],
   "source": [
    "from IPython.display import YouTubeVideo\n",
    "YouTubeVideo(\"75hj59nas-M\")"
   ]
  },
  {
   "cell_type": "markdown",
   "metadata": {
    "nbgrader": {
     "grade": false,
     "grade_id": "dataset",
     "locked": true,
     "schema_version": 2,
     "solution": false
    }
   },
   "source": [
    "<br/><br/>\n",
    "<hr style=\"border: 5px solid #003262;\" />\n",
    "<hr style=\"border: 1px solid #fdb515;\" />\n",
    "\n",
    "## Data Loading\n",
    "\n",
    "We will explore a breast cancer dataset from the University of Wisconsin ([source](https://archive.ics.uci.edu/ml/datasets/breast+cancer+wisconsin+(diagnostic))). This dataset can be loaded using the `sklearn.datasets.load_breast_cancer()` method.  "
   ]
  },
  {
   "cell_type": "code",
   "execution_count": null,
   "metadata": {
    "nbgrader": {
     "grade": false,
     "grade_id": "loaddata",
     "locked": true,
     "schema_version": 2,
     "solution": false
    }
   },
   "outputs": [],
   "source": [
    "# Run this cell to load the data, no further action is needed.\n",
    "data = sklearn.datasets.load_breast_cancer()\n",
    "\n",
    "# Data is a dictionary.\n",
    "print(data.keys())\n",
    "print(data.DESCR)"
   ]
  },
  {
   "cell_type": "markdown",
   "metadata": {},
   "source": [
    "<br/>\n",
    "\n",
    "Since the data format is a dictionary, we do some preprocessing to create a `pandas.DataFrame`."
   ]
  },
  {
   "cell_type": "code",
   "execution_count": null,
   "metadata": {
    "nbgrader": {
     "grade": false,
     "grade_id": "dataframe",
     "locked": true,
     "schema_version": 2,
     "solution": false
    }
   },
   "outputs": [],
   "source": [
    "# Run this cell to see the first five rows of the data, no further action is needed.\n",
    "df = pd.DataFrame(data.data, columns=data.feature_names)\n",
    "df.head()"
   ]
  },
  {
   "cell_type": "markdown",
   "metadata": {},
   "source": [
    "The prediction task for this data is to predict whether a tumor is benign or malignant (a binary decision) given characteristics of that tumor. As a classic machine learning dataset, the prediction task is captured by the field `data.target`. To put the data back in its original context, we will create a new column called `\"malignant\"` which will be 1 if the tumor is malignant and 0 if it is benign (reversing the definition of `target`).\n",
    "\n",
    "In this lab, we will fit a simple **classification model** to predict breast cancer from the cell nuclei of a breast mass. For simplicity, we will work with only one feature: the `mean radius` which corresponds to the size of the tumor. Our output (i.e., response) is the `malignant` column."
   ]
  },
  {
   "cell_type": "code",
   "execution_count": null,
   "metadata": {},
   "outputs": [],
   "source": [
    "# Run this cell to define X and Y, no further action is needed.\n",
    "\n",
    "# Target data_dict['target'] = 0 is malignant 1 is benign\n",
    "df['malignant'] = (data.target == 0).astype(int)\n",
    "\n",
    "# Define our features/design matrix X\n",
    "X = df[[\"mean radius\"]]\n",
    "Y = df['malignant']"
   ]
  },
  {
   "cell_type": "markdown",
   "metadata": {},
   "source": [
    "<br/>\n",
    "\n",
    "Before we go further, we will split our dataset into training and testing data. This lets us explore the prediction power of our trained classifier on both seen and unseen data."
   ]
  },
  {
   "cell_type": "code",
   "execution_count": null,
   "metadata": {
    "nbgrader": {
     "grade": false,
     "grade_id": "split",
     "locked": true,
     "schema_version": 2,
     "solution": false
    }
   },
   "outputs": [],
   "source": [
    "# Run this cell to create a 75-25 train-test split, no further action needed. \n",
    "from sklearn.model_selection import train_test_split\n",
    "X_train, X_test, Y_train, Y_test = train_test_split(X,Y, test_size=0.25, random_state=42)\n",
    "print(f\"Training Data Size: {len(X_train)}\")\n",
    "print(f\"Test Data Size: {len(X_test)}\")"
   ]
  },
  {
   "cell_type": "markdown",
   "metadata": {},
   "source": [
    "<br/><br/>\n",
    "<hr style=\"border: 1px solid #fdb515;\" />\n",
    "\n",
    "# Part 1: Defining the Model\n",
    "\n",
    "In these first two parts, you will manually build a logistic regression classifier.\n",
    "\n",
    "Recall that the Logistic Regression model is written as follows:\n",
    "\n",
    "$$\\Large f_{\\theta}(x) = \\sigma ( x^T \\theta)$$\n",
    "\n",
    "where $f_{\\theta}(x)= P(Y=1 | x)$ is the probability that our observation belongs to class 1, and $\\sigma$ is the sigmoid activation function:\n",
    "\n",
    "$$\\Large \\sigma(z) = \\frac{1}{1 + e^{-z}}$$\n",
    "\n",
    "If we have a single feature, then $x$ is a scalar and our model has parameters $\\theta^T = [\\theta_0 \\ \\ \\theta_1]$ as follows:\n",
    "\n",
    "$$\\Large f_{\\theta}(x) = \\sigma (\\theta_0 + \\theta_1 x)$$\n",
    "\n",
    "Therefore just like OLS, if we have $n$ datapoints and $p$ features, then we can construct the design matrix\n",
    "$$\\Large \\mathbb{X} \\in \\mathbb{R}^{n \\times (p + 1)}$$\n",
    "with an all-ones column. Run the below cell to construct `X_intercept_train`. The syntax should look familiar:"
   ]
  },
  {
   "cell_type": "code",
   "execution_count": null,
   "metadata": {},
   "outputs": [],
   "source": [
    "# Run this cell to add the bias column, no further action needed.\n",
    "def add_bias_column(X):\n",
    "    return np.hstack([np.ones((len(X), 1)), X])\n",
    "\n",
    "X_intercept_train = add_bias_column(X_train)\n",
    "X_intercept_train.shape"
   ]
  },
  {
   "cell_type": "markdown",
   "metadata": {},
   "source": [
    "<br/><br/>\n",
    "\n",
    "---\n",
    "\n",
    "### Question 1a\n",
    "\n",
    "Using the above definition for $\\mathbb{X}$, we can also construct a matrix representation of our Logistic Regression model, just like we did for OLS. Noting that $\\theta^T = [\\theta_0 \\ \\ \\theta_1\\ \\ \\dots \\ \\ \\theta_p$], the vector $\\hat{\\mathbb{Y}}$ is:\n",
    "\n",
    "$$\\Large \\hat{\\mathbb{Y}} = \\sigma(\\mathbb{X} \\theta) $$\n",
    "\n",
    "Then the $i$-th element of $\\hat{\\mathbb{Y}}$ is the probability that the $i$-th observation belongs to class 1, given the feature vector is the $i$-th row of design matrix $\\mathbb{X}$ and the parameter vector is $\\theta$.\n",
    "\n",
    "Below, implement the `lr_model` function to evaluate this expression. To matrix-multiply two numpy arrays, use `@` or `np.dot`. In case you're interested, the [matmul documentation](https://numpy.org/devdocs/reference/generated/numpy.matmul.html) contrasts the two methods.\n",
    "\n"
   ]
  },
  {
   "cell_type": "code",
   "execution_count": null,
   "metadata": {
    "tags": []
   },
   "outputs": [],
   "source": [
    "def sigmoid(z):\n",
    "    \"\"\"\n",
    "    The sigmoid function, defined for you.\n",
    "    \"\"\"\n",
    "    return 1 / (1 + np.exp(-z))\n",
    "\n",
    "def lr_model(theta, X):\n",
    "    \"\"\"\n",
    "    Return the logistic regression model as defined above.\n",
    "    You should not need to use a for loop; use @ or np.dot.\n",
    "    \n",
    "    Args:\n",
    "        theta: The model parameters. Dimension (p+1,).\n",
    "        X: The design matrix. Dimension (n, p+1).\n",
    "    \n",
    "    Return:\n",
    "        Probabilities that Y = 1 for each datapoint.\n",
    "        Dimension (n,).\n",
    "    \"\"\"\n",
    "    ..."
   ]
  },
  {
   "cell_type": "code",
   "execution_count": null,
   "metadata": {
    "deletable": false,
    "editable": false
   },
   "outputs": [],
   "source": [
    "grader.check(\"q1a\")"
   ]
  },
  {
   "cell_type": "markdown",
   "metadata": {
    "nbgrader": {
     "grade": false,
     "grade_id": "q3_text",
     "locked": true,
     "schema_version": 2,
     "solution": false
    }
   },
   "source": [
    "<br/><br/>\n",
    "\n",
    "---\n",
    "\n",
    "###  Question 1b: Compute Empirical Risk\n",
    "Now let's try to analyze the cross-entropy loss from logistic regression. Suppose for a single observation, we predict probability $p$ that the true response $y$ is in class 1 (otherwise the prediction is 0 with probability $1 - p$). The cross-entropy loss is:\n",
    "\n",
    "$$- \\Big( y \\log(p) + (1 - y) \\log(1 - p) \\Big)$$\n",
    "\n",
    "For the logistic regression model, the **empirical risk** is therefore defined as the average cross-entropy loss across all $n$ datapoints:\n",
    "\n",
    "$$R(\\theta) = -\\frac{1}{n} \\sum_{i=1}^n \\Bigg( y_i \\log \\Big(\\sigma(X_i^T \\theta)\\Big) + (1 - y_i) \\log\\Big(1 - \\sigma(X_i^T \\theta)\\Big)  \\Bigg)$$\n",
    "\n",
    "Where $y_i$ is the $i-$th response in our dataset, $\\theta$ are the parameters of our model, $X_i^T$ is the i'th row of our design matrix $\\mathbb{X}$, and $\\sigma(X_i^T \\theta)$ is the probability that the response is 1 given input $X_i$.\n",
    "\n",
    "**Note**: In this class, when performing linear algebra operations, we interpret both rows and columns as column vectors. So if we wish to calculate the dot product between column vector $X_i$ and a vector $v$, we write $X_i^Tv$.\n",
    "\n",
    "Below, implement the function `lr_loss` that computes empirical risk over the dataset. Feel free to use functions defined in the previous part."
   ]
  },
  {
   "cell_type": "code",
   "execution_count": null,
   "metadata": {
    "nbgrader": {
     "grade": false,
     "grade_id": "q3_code",
     "locked": false,
     "schema_version": 2,
     "solution": true
    },
    "tags": []
   },
   "outputs": [],
   "source": [
    "def lr_avg_loss(theta, X, Y):\n",
    "    '''\n",
    "    Compute the average cross entropy loss using X, Y, and theta.\n",
    "    You should not need to use a for loop. \n",
    "\n",
    "    Args:\n",
    "        theta: The model parameters. Dimension (p+1,)\n",
    "        X: The design matrix. Dimension (n, p+1).\n",
    "        Y: The label. Dimension (n,).\n",
    "\n",
    "    Return:\n",
    "        The average cross entropy loss.\n",
    "    '''\n",
    "    ...\n",
    "    ..."
   ]
  },
  {
   "cell_type": "code",
   "execution_count": null,
   "metadata": {
    "deletable": false,
    "editable": false
   },
   "outputs": [],
   "source": [
    "grader.check(\"q1b\")"
   ]
  },
  {
   "cell_type": "markdown",
   "metadata": {},
   "source": [
    "<br/><br/>\n",
    "\n",
    "Below is a plot showing the average training cross-entropy loss for various values of $\\theta_0$ and $\\theta_1$ (respectively x and y axis in the plot)."
   ]
  },
  {
   "cell_type": "code",
   "execution_count": null,
   "metadata": {},
   "outputs": [],
   "source": [
    "import matplotlib.pyplot as plt\n",
    "from mpl_toolkits.mplot3d import Axes3D\n",
    "import seaborn as sns\n",
    "import numpy as np\n",
    "import warnings\n",
    "\n",
    "# Suppress warnings\n",
    "warnings.filterwarnings(\"ignore\")\n",
    "\n",
    "# Set the seaborn style\n",
    "sns.set()\n",
    "\n",
    "# Create the grid\n",
    "uvalues = np.linspace(-8,8,70)\n",
    "vvalues = np.linspace(-5,5,70)\n",
    "(u,v) = np.meshgrid(uvalues, vvalues)\n",
    "thetas = np.vstack((u.flatten(),v.flatten()))\n",
    "\n",
    "# Calculate the loss values\n",
    "lr_avg_loss_values = np.array([lr_avg_loss(t, X_intercept_train, Y_train) for t in thetas.T])\n",
    "\n",
    "# Reshape the loss values to match the grid\n",
    "z = np.reshape(lr_avg_loss_values,(len(uvalues), len(vvalues)))\n",
    "\n",
    "# Create the figure and the 3D axis\n",
    "fig = plt.figure(figsize=(10,7))\n",
    "ax = fig.add_subplot(111, projection='3d')\n",
    "\n",
    "# Plot the surface\n",
    "surf = ax.plot_surface(u, v, z, cmap='viridis')\n",
    "\n",
    "# Set the labels\n",
    "ax.set_xlabel('theta_0')\n",
    "ax.set_ylabel('theta_1')\n",
    "ax.set_zlabel('Loss')\n",
    "\n",
    "# Change the perspective, feel free to play around with this to get different views of the plot\n",
    "ax.view_init(elev=35, azim=0)  # elev specifies the elevation angle, azim specifies the azimuth angle\n",
    "\n",
    "# Adjust the z limit\n",
    "ax.set_zlim(bottom=0, top=40)\n",
    "\n",
    "# Add a colorbar\n",
    "fig.colorbar(surf, ax=ax, shrink=0.5, aspect=5)\n",
    "\n",
    "# Show the plot\n",
    "plt.show()\n"
   ]
  },
  {
   "cell_type": "markdown",
   "metadata": {},
   "source": [
    "<br/><br/>\n",
    "\n",
    "---\n",
    "\n",
    "### Question 1c\n",
    "Describe one interesting observation about the loss plot above.\n"
   ]
  },
  {
   "cell_type": "markdown",
   "metadata": {},
   "source": [
    "_Type your answer here, replacing this text._"
   ]
  },
  {
   "cell_type": "markdown",
   "metadata": {},
   "source": [
    "<br/><br/>\n",
    "<hr style=\"border: 1px solid #fdb515;\" />\n",
    "\n",
    "# Part 2: Fit and Predict\n",
    "\n",
    "### [Tutorial] `scipy.optimize.minimize`\n",
    "\n",
    "The next two cells call the `minimize` function from `scipy` on the `lr_avg_loss` function you defined in the previous part. We pass in the training data to `args` ([documentation](https://docs.scipy.org/doc/scipy/reference/generated/scipy.optimize.minimize.html)) to find the `theta_hat` that minimizes the average cross-entropy loss over the training set."
   ]
  },
  {
   "cell_type": "code",
   "execution_count": null,
   "metadata": {},
   "outputs": [],
   "source": [
    "# Run this cell to minimize lr_avg_loss using scipy, no further action needed.\n",
    "from scipy.optimize import minimize\n",
    "\n",
    "min_result = minimize(lr_avg_loss,\n",
    "                      x0=np.zeros(X_intercept_train.shape[1]),\n",
    "                      args=(X_intercept_train, Y_train))\n",
    "min_result"
   ]
  },
  {
   "cell_type": "code",
   "execution_count": null,
   "metadata": {},
   "outputs": [],
   "source": [
    "# Run this cell to print `theta_hat`, no further action needed.\n",
    "theta_hat = min_result['x']\n",
    "theta_hat"
   ]
  },
  {
   "cell_type": "markdown",
   "metadata": {},
   "source": [
    "<br/>\n",
    "\n",
    "Because our design matrix $\\mathbb{X}$ leads with a column of all ones, `theta_hat` has two elements: $\\hat{\\theta}_0$ is the estimate of the intercept/bias term, and $\\hat{\\theta}_1$ is the estimate of the slope of our single feature.\n",
    "\n",
    "<br/>\n",
    "\n",
    "### Recap:\n",
    "* For logistic regression with parameter $\\theta$, $P(Y = 1 | x) = \\sigma(x^T \\theta)$, where $\\sigma$ is the sigmoid function and $x$ is a feature vector. Therefore $\\sigma(x^T \\theta)$ is the Bernoulli probability that the response is 1 given the feature is $x$. Otherwise the response is 0 with probability $P(Y = 0 | x) = 1 - \\sigma(x^T \\theta)$.\n",
    "* The $\\hat{\\theta}$ that *minimizes* average cross entropy loss of our training data also *maximizes* the likelihood of observing the training data according to the logistic regression model (check out lecture for more details).\n",
    "\n",
    "The main takeaway is that logistic regression models **probabilities** of classifying datapoints as 1 or 0. Next, we use this takeaway to implement model predictions."
   ]
  },
  {
   "cell_type": "markdown",
   "metadata": {},
   "source": [
    "<br/><br/>\n",
    "\n",
    "---\n",
    "\n",
    "## Question 2\n",
    "\n",
    "Using the `theta_hat` estimate above, we can construct a **decision rule** for classifying a datapoint with observation $x$. Let $P(Y = 1 | x) = \\sigma(x^T \\hat{\\theta})$:\n",
    "\n",
    "\n",
    "\n",
    "$$ \\text{classify}(x) = \\begin{cases} \n",
    "1, &\\quad\\text{if}\\ \\  P(Y = 1 | x) \\geq 0.5 \\\\ \n",
    "0, &\\quad\\text{if}\\ \\ P(Y = 1 | x) < 0.5 \n",
    "\\end{cases}$$\n",
    "\n",
    "This decision rule has a decision **threshold** $T = 0.5$. This threshold means that we treat the classes $0$ and $1$ \"equally.\" Lower thresholds mean that we are more likely to predict $1$, whereas higher thersholds mean that we are more likely to predict $0$.\n",
    "\n",
    "<br/>\n",
    "\n",
    "Implement the `lr_predict` function below, which returns a vector of predictions according to the logistic regression model. The function  takes a design matrix of observations `X`, parameter estimate `theta`, and decision threshold `threshold` with default value 0.5.\n",
    "\n"
   ]
  },
  {
   "cell_type": "code",
   "execution_count": null,
   "metadata": {
    "tags": []
   },
   "outputs": [],
   "source": [
    "def lr_predict(theta, X, threshold=0.5):\n",
    "    '''\n",
    "    Classification using a logistic regression model\n",
    "    with a given decision rule threshold.\n",
    "\n",
    "    Args:\n",
    "        theta: The model parameters. Dimension (p+1,)\n",
    "        X: The design matrix. Dimension (n, p+1).\n",
    "        threshold: decision rule threshold for predicting class 1.\n",
    "\n",
    "    Return:\n",
    "        A vector of predictions.\n",
    "    '''\n",
    "    ...\n",
    "\n",
    "# Do not modify below this line.\n",
    "Y_train_pred = lr_predict(theta_hat, X_intercept_train)\n",
    "Y_train_pred"
   ]
  },
  {
   "cell_type": "code",
   "execution_count": null,
   "metadata": {
    "deletable": false,
    "editable": false
   },
   "outputs": [],
   "source": [
    "grader.check(\"q2\")"
   ]
  },
  {
   "cell_type": "markdown",
   "metadata": {},
   "source": [
    "<br/><br/>\n",
    "\n",
    "### [Tutorial] Linearly separable data\n",
    "\n",
    "How do these predicted classifications compare to the true responses $\\mathbb{Y}$?\n",
    "\n",
    "Run the below cell to visualize our predicted responses, the true responses, and the probabilities we used to make predictions. We use `sns.stripplot` which introduces some jitter to avoid overplotting."
   ]
  },
  {
   "cell_type": "code",
   "execution_count": null,
   "metadata": {},
   "outputs": [],
   "source": [
    "# Run this cell to generate the visualization, no further action needed.\n",
    "plot_df = pd.DataFrame({\"X\": np.squeeze(X_train),\n",
    "                        \"Y\": Y_train,\n",
    "                        \"Y_pred\": Y_train_pred,\n",
    "                        \"correct\": (Y_train == Y_train_pred)})\n",
    "sns.stripplot(data=plot_df, x=\"X\", y=\"Y\", orient='h', alpha=0.5, hue=\"correct\")\n",
    "plt.xlabel('mean radius, $x$')\n",
    "plt.ylabel('$y$')\n",
    "plt.yticks(ticks=[0, 1], labels=['0:\\nbenign', '1:\\nmalignant'])\n",
    "plt.title(\"Predictions for decision threshold T = 0.5\")\n",
    "plt.show()"
   ]
  },
  {
   "cell_type": "markdown",
   "metadata": {},
   "source": [
    "<br/>\n",
    "The decision threshold (or decision boundary) is the value that determines which class we place a point into based on the predicted probabilities computed. Because we are using a decision threshold $T = 0.5$, we predict $1$ for all $x$ where the predicted probability is greater than or equal to $0.5$. In terms of math, we predict $1$ when $P_\\theta(Y = 1 | x) = \\sigma(\\vec{x}^T\\theta) \\geq 0.5$. To find the boundary where we go from predicting $0$ to predicting $1$ in terms of $x$, we solve:\n",
    "\\begin{align*}\n",
    "\\sigma(\\vec{x}^T\\theta) = &= \\frac{1}{2} \\\\[10pt]\n",
    "\\frac{1}{1+e^{-\\vec{x}^T\\theta}} &= \\frac{1}{2} \\\\[10pt]\n",
    "e^{-\\vec{x}^T\\theta} &= 1 \\\\[10pt]\n",
    "\\vec{x}^T\\theta &= 0\n",
    "\\end{align*}\n",
    "For the single mean radius feature, we can use algebra to solve for the boundary to be approximately $x \\approx 14.8$. We can see this by substituting for $\\theta = \\hat{\\theta}$ in the equation above:\n",
    "$$\n",
    "\\begin{bmatrix}1 & x\\end{bmatrix} \\begin{bmatrix} \\hat{\\theta_0} \\\\ \\hat{\\theta_1} \\end{bmatrix} = 0\n",
    "$$\n",
    "\n",
    "From the minimize function, we found that theta_hat is `[-13.87178638,   0.93723916]`. Plugging for $\\hat{\\theta}$:\n",
    "\n",
    "$$\n",
    "-13.87178638 +  0.93723916x = 0\n",
    "$$\n",
    "Solving for $x$, we get:\n",
    "$$\n",
    "x \\approx 14.8\n",
    "$$\n",
    "In other words, will always predict $0$ (benign) if the mean radius feature is less than 14.8, and $1$ (malignant) otherwise. However, in our training data there are datapoints with large mean radii that are benign, and vice versa. Our data is not *linearly separable* by a vertical line.\n",
    "The above visualization is useful when we have just one feature. In practice, however, we use other performance metrics to diagnose our model performance. Next, we will explore several such metrics: accuracy, precision, recall, and confusion matrices."
   ]
  },
  {
   "cell_type": "markdown",
   "metadata": {},
   "source": [
    "<br/><br/>\n",
    "<hr style=\"border: 1px solid #fdb515;\" />\n",
    "\n",
    "# Part 3: Quantifying Performance\n"
   ]
  },
  {
   "cell_type": "markdown",
   "metadata": {},
   "source": [
    "\n",
    "### [Tutorial] sklearn's `LogisticRegression`\n",
    "Instead of using the model structure we built manually in the previous questions, we will instead use sklearn's `LogisticRegression` model, which operates similarly to the sklearn OLS, Ridge, and LASSO models.\n",
    "\n",
    "Let's first fit a logistic regression model to the training data. Some notes: \n",
    "* Like with linear models, the `fit_intercept` argument specifies if model includes an intercept term. We therefore pass in the original matrix `X_train` (defined at the beginning of the notebook, without intercept term) in the call to `lr.fit()`.\n",
    "* sklearn fits a **L2 regularized** logistic regression model by default as specified in the [documentation](https://scikit-learn.org/stable/modules/generated/sklearn.linear_model.LogisticRegression.html) for more details. The `penalty` argument specifies the type of regularization the model uses."
   ]
  },
  {
   "cell_type": "code",
   "execution_count": null,
   "metadata": {},
   "outputs": [],
   "source": [
    "# Run this cell to fit a sklearn LogisticRegression model, no further action needed. \n",
    "from sklearn.linear_model import LogisticRegression\n",
    "\n",
    "lr = LogisticRegression(\n",
    "        fit_intercept=True,\n",
    "        penalty='l2')\n",
    "\n",
    "lr.fit(X_train, Y_train)\n",
    "lr.intercept_, lr.coef_"
   ]
  },
  {
   "cell_type": "markdown",
   "metadata": {},
   "source": [
    "<br/>\n",
    "\n",
    "Note that because we are now fitting a regularized logistic regression model, the estimated coefficients above deviate slightly from our numerical findings in Question 1.\n",
    "\n",
    "<br/>\n",
    "\n",
    "Like with linear models, we can call `lr.predict(x_train)` to classify our training data with our fitted model."
   ]
  },
  {
   "cell_type": "code",
   "execution_count": null,
   "metadata": {},
   "outputs": [],
   "source": [
    "# Run this cell to make prediction, no further action needed. \n",
    "lr.predict(X_train)"
   ]
  },
  {
   "cell_type": "markdown",
   "metadata": {},
   "source": [
    "Note that for a binary classification task, the sklearn model uses an unadjustable decision rule of 0.5. If you're interested in manually adjusting this threshold, check out the [documentation](https://scikit-learn.org/stable/modules/generated/sklearn.linear_model.LogisticRegression.html#sklearn.linear_model.LogisticRegression.predict_proba) for `lr.predict_proba()`."
   ]
  },
  {
   "cell_type": "markdown",
   "metadata": {},
   "source": [
    "<br/><br/>\n",
    "\n",
    "---\n",
    "\n",
    "### Question 3a: Accuracy\n",
    "\n",
    "Fill in the code below to compute the training and testing accuracy, defined as:\n",
    "\n",
    "$$\n",
    "\\text{Training Accuracy} = \\frac{1}{n_{train\\_set}} \\sum_{i \\in {train\\_set}} {\\mathbb{1}_{y_i == \\hat{y_i}}}\n",
    "$$\n",
    "\n",
    "$$\n",
    "\\text{Testing Accuracy} = \\frac{1}{n_{test\\_set}} \\sum_{i \\in {test\\_set}} {\\mathbb{1}_{y_i == \\hat{y_i}}}\n",
    "$$\n",
    "\n",
    "where for the $i$-th observation in the respective dataset, $\\hat{y_i}$ is the predicted response (class 0 or 1) and $y_i$ the true response.  $\\mathbb{1}_{y_i == \\hat{y_i}}$ is an indicator function which is $1$ if ${y_i} = \\hat{y_i}$ and $ 0$ otherwise.\n"
   ]
  },
  {
   "cell_type": "code",
   "execution_count": null,
   "metadata": {
    "nbgrader": {
     "grade": false,
     "grade_id": "q1_code",
     "locked": false,
     "schema_version": 2,
     "solution": true
    },
    "tags": []
   },
   "outputs": [],
   "source": [
    "train_accuracy = ...\n",
    "test_accuracy = ...\n",
    "\n",
    "print(f\"Train accuracy: {train_accuracy:.4f}\")\n",
    "print(f\"Test accuracy: {test_accuracy:.4f}\")"
   ]
  },
  {
   "cell_type": "code",
   "execution_count": null,
   "metadata": {
    "deletable": false,
    "editable": false
   },
   "outputs": [],
   "source": [
    "grader.check(\"q3a\")"
   ]
  },
  {
   "cell_type": "markdown",
   "metadata": {
    "nbgrader": {
     "grade": false,
     "grade_id": "q2_text",
     "locked": true,
     "schema_version": 2,
     "solution": false
    }
   },
   "source": [
    "<br/><br/>\n",
    "\n",
    "---\n",
    "\n",
    "### Question 3b: Precision and Recall\n",
    "\n",
    "It seems we can get a very high test accuracy. What about precision and recall?  \n",
    "- **Precision** (also called positive predictive value) is the fraction of true positives among the total number of data points predicted as positive.  \n",
    "- **Recall** (also known as sensitivity) is the fraction of true positives among the total number of data points with positive labels.\n",
    "\n",
    "Precision measures the ability of our classifier to not predict negative samples as positive (i.e., avoid false positives), while recall is the ability of the classifier to find all the positive samples (i.e., avoid false negatives).\n",
    "\n",
    "Below is a graphical illustration of precision and recall, modified slightly from [Wikipedia](https://en.wikipedia.org/wiki/Precision_and_recall):\n",
    "![precision_recall](precision_recall.png)\n",
    "\n",
    "Mathematically, Precision and Recall are defined as:\n",
    "$$\n",
    "\\text{Precision} = \\frac{n_{true\\_positives}}{n_{true\\_positives} + n_{false\\_positives}} = \\frac{TP}{TP+FP}\n",
    "$$\n",
    "\n",
    "$$\n",
    "\\text{Recall} = \\frac{n_{true\\_positives}}{n_{true\\_positives} + n_{false\\_negatives}}=\\frac{TP}{TP+FN}\n",
    "$$\n",
    "\n",
    "Use the formulas above to compute the precision and recall for the **test set** using the `lr` model trained using sklearn."
   ]
  },
  {
   "cell_type": "code",
   "execution_count": null,
   "metadata": {
    "nbgrader": {
     "grade": false,
     "grade_id": "q2_code",
     "locked": false,
     "schema_version": 2,
     "solution": true
    },
    "tags": []
   },
   "outputs": [],
   "source": [
    "Y_test_pred = ...\n",
    "\n",
    "precision = ...\n",
    "recall = ...\n",
    "\n",
    "print(f'precision = {precision:.4f}')\n",
    "print(f'recall = {recall:.4f}')"
   ]
  },
  {
   "cell_type": "code",
   "execution_count": null,
   "metadata": {
    "deletable": false,
    "editable": false
   },
   "outputs": [],
   "source": [
    "grader.check(\"q3b\")"
   ]
  },
  {
   "cell_type": "markdown",
   "metadata": {},
   "source": [
    "<br/><br/>\n",
    "\n",
    "\n",
    "Our precision is fairly high, while our recall is a bit lower.\n",
    "\n",
    "Consider the following plots, which display the distribution of the **response variable** $\\mathbb{Y}$ in the training and test sets. Recall class labels are 0: benign, 1: malignant.\n"
   ]
  },
  {
   "cell_type": "code",
   "execution_count": null,
   "metadata": {
    "nbgrader": {
     "grade": false,
     "grade_id": "q2_display2",
     "locked": true,
     "schema_version": 2,
     "solution": false
    },
    "tags": []
   },
   "outputs": [],
   "source": [
    "fig, axes = plt.subplots(1, 2)\n",
    "sns.countplot(x=Y_train, ax=axes[0]);\n",
    "sns.countplot(x=Y_test, ax=axes[1]);\n",
    "\n",
    "axes[0].set_title('Train')\n",
    "axes[1].set_title('Test')\n",
    "plt.tight_layout();"
   ]
  },
  {
   "cell_type": "markdown",
   "metadata": {},
   "source": [
    "<!-- BEGIN QUESTION -->\n",
    "\n",
    "<br><br>\n",
    "\n",
    "---\n",
    "\n",
    "### Question 3c\n",
    "Based on the above distribution, what might explain the observed difference between our precision and recall metrics?"
   ]
  },
  {
   "cell_type": "markdown",
   "metadata": {},
   "source": [
    "_Type your answer here, replacing this text._"
   ]
  },
  {
   "cell_type": "markdown",
   "metadata": {},
   "source": [
    "<!-- END QUESTION -->\n",
    "\n",
    "<br/><br/>\n",
    "\n",
    "\n",
    "### [Tutorial] Confusion Matrices\n",
    "\n",
    "To understand the link between precision and recall, it's useful to create a **confusion matrix** of our predictions. Luckily, `sklearn.metrics` provides us with such a function!\n",
    "\n",
    "The `confusion_matrix` function ([documentation](https://scikit-learn.org/stable/modules/generated/sklearn.metrics.confusion_matrix.html)) categorizes counts of datapoints based if their true and predicted values match.\n",
    "\n",
    "For the 143-datapoint test dataset:"
   ]
  },
  {
   "cell_type": "code",
   "execution_count": null,
   "metadata": {},
   "outputs": [],
   "source": [
    "# Run this cell to define confusion matrix, no further action needed.\n",
    "from sklearn.metrics import confusion_matrix\n",
    "\n",
    "Y_test_pred = lr.predict(X_test)\n",
    "cnf_matrix = confusion_matrix(Y_test, Y_test_pred)\n",
    "cnf_matrix"
   ]
  },
  {
   "cell_type": "markdown",
   "metadata": {},
   "source": [
    "We've implemented the following function to better visualize these four counts against the true and predicted categories:"
   ]
  },
  {
   "cell_type": "code",
   "execution_count": null,
   "metadata": {
    "nbgrader": {
     "grade": false,
     "grade_id": "q2_display",
     "locked": true,
     "schema_version": 2,
     "solution": false
    }
   },
   "outputs": [],
   "source": [
    "# Run this cell to plot confusion matrix, no further action needed.\n",
    "\n",
    "def plot_confusion_matrix(cm, classes,\n",
    "                          title='Confusion matrix',\n",
    "                          cmap=plt.cm.Blues):\n",
    "    \"\"\"\n",
    "    This function prints and plots the confusion matrix.\n",
    "    \"\"\"\n",
    "    import itertools\n",
    "\n",
    "    plt.imshow(cm, interpolation='nearest', cmap=cmap)\n",
    "    plt.title(title)\n",
    "    plt.colorbar()\n",
    "    tick_marks = np.arange(len(classes))\n",
    "    plt.xticks(tick_marks, classes, rotation=45)\n",
    "    plt.yticks(tick_marks, classes)\n",
    "    plt.grid(False)\n",
    "\n",
    "    thresh = cm.max() / 2.\n",
    "    for i, j in itertools.product(range(cm.shape[0]), range(cm.shape[1])):\n",
    "        plt.text(j, i, np.round(cm[i, j], 2),\n",
    "                 horizontalalignment=\"center\",\n",
    "                 color=\"white\" if cm[i, j] > thresh else \"black\")\n",
    "\n",
    "    plt.tight_layout()\n",
    "    plt.ylabel('True label')\n",
    "    plt.xlabel('Predicted label')\n",
    "    \n",
    "class_names = ['False', 'True']\n",
    "\n",
    "plot_confusion_matrix(cnf_matrix, classes=class_names,\n",
    "                      title='Confusion matrix, without normalization')"
   ]
  },
  {
   "cell_type": "markdown",
   "metadata": {},
   "source": [
    "<br><br>\n",
    "\n",
    "---\n",
    "\n",
    "### Question 3d: Normalized Confusion Matrix\n",
    "\n",
    "To better interpret these counts, assign `cnf_matrix_norm` to a **normalized confusion matrix** by the count of each true label category.\n",
    "\n",
    "In other words, build a 2-D NumPy array constructed by normalizing `cnf_matrix` by the count of datapoints in each row. For example, the top-left quadrant of `cnf_matrix_norm` should represent the proportion of true negatives over the total number of datapoints with negative labels. \n",
    "\n",
    "**Hint**: \n",
    "\n",
    "In array broadcasting, you may encounter issues dividing 2-D NumPy arrays by 1-D NumPy arrays. \n",
    "* Check out the `keepdims` parameter in `np.sum` ([documentation](https://numpy.org/doc/stable/reference/generated/numpy.sum.html)), to preserve the dimensions of `cnf_matrix` after using `np.sum`.\n",
    "* Alternatively, add the dimension back using `np.newaxis` ([documentation](https://numpy.org/doc/stable/reference/constants.html#numpy.newaxis))."
   ]
  },
  {
   "cell_type": "code",
   "execution_count": null,
   "metadata": {
    "tags": []
   },
   "outputs": [],
   "source": [
    "cnf_matrix_norm = ...\n",
    "\n",
    "# Do not modify below this line.\n",
    "plot_confusion_matrix(cnf_matrix_norm, classes=class_names,\n",
    "                       title='Normalized confusion matrix')"
   ]
  },
  {
   "cell_type": "code",
   "execution_count": null,
   "metadata": {
    "deletable": false,
    "editable": false
   },
   "outputs": [],
   "source": [
    "grader.check(\"q3d\")"
   ]
  },
  {
   "cell_type": "markdown",
   "metadata": {},
   "source": [
    "<br/>\n",
    "\n",
    "Compare the normalized confusion matrix to the values you computed for precision and recall earlier:"
   ]
  },
  {
   "cell_type": "code",
   "execution_count": null,
   "metadata": {},
   "outputs": [],
   "source": [
    "# Run this cell to see precision and recall again, no further action needed.\n",
    "print(f'precision = {precision:.4f}')\n",
    "print(f'recall = {recall:.4f}')"
   ]
  },
  {
   "cell_type": "markdown",
   "metadata": {},
   "source": [
    "<br/>\n",
    "Based on the definitions of precision and recall, why does only recall appear in the normalized confusion matrix? Why doesn't precision appear? (No answer required for this part; just something to think about.)"
   ]
  },
  {
   "cell_type": "markdown",
   "metadata": {},
   "source": [
    "<br/><br/>\n",
    "<hr style=\"border: 5px solid #003262;\" />\n",
    "<hr style=\"border: 1px solid #fdb515;\" />\n",
    "\n",
    "## Congratulations! You are finished with Lab 10!"
   ]
  },
  {
   "cell_type": "markdown",
   "metadata": {},
   "source": [
    "As promised in Lab 9, here are some staff cat pictures!!\n",
    "\n",
    "<img src=\"lab10_cat1.jpg\" width=200px> | <img src=\"lab10_cat2.jpg\" width=200px> | <img src=\"lab10_cat3.jpg\" width=200px>\n"
   ]
  },
  {
   "cell_type": "markdown",
   "metadata": {
    "deletable": false,
    "editable": false
   },
   "source": [
    "## Submission\n",
    "\n",
    "Make sure you have run all cells in your notebook in order before running the cell below, so that all images/graphs appear in the output. The cell below will generate a zip file for you to submit. **Please save before exporting!**"
   ]
  },
  {
   "cell_type": "code",
   "execution_count": null,
   "metadata": {
    "deletable": false,
    "editable": false
   },
   "outputs": [],
   "source": [
    "# Save your notebook first, then run this cell to export your submission.\n",
    "grader.export(pdf=False, run_tests=True)"
   ]
  },
  {
   "cell_type": "markdown",
   "metadata": {},
   "source": [
    " "
   ]
  }
 ],
 "metadata": {
  "celltoolbar": "Create Assignment",
  "kernelspec": {
   "display_name": "Python 3 (ipykernel)",
   "language": "python",
   "name": "python3"
  },
  "language_info": {
   "codemirror_mode": {
    "name": "ipython",
    "version": 3
   },
   "file_extension": ".py",
   "mimetype": "text/x-python",
   "name": "python",
   "nbconvert_exporter": "python",
   "pygments_lexer": "ipython3",
   "version": "3.11.0"
  },
  "otter": {
   "OK_FORMAT": true,
   "tests": {
    "q1a": {
     "name": "q1a",
     "points": null,
     "suites": [
      {
       "cases": [
        {
         "code": ">>> lr_model(np.arange(-2,2), np.arange(1,5)) == 0.5\nTrue",
         "hidden": false,
         "locked": false
        },
        {
         "code": ">>> (lr_model(2*np.eye(100), np.ones(100)) == sigmoid(2)*np.ones(100)).all()\nTrue",
         "hidden": false,
         "locked": false
        },
        {
         "code": ">>> test_theta = np.array([-3, 2, -1])\n>>> test_x = np.array([[1, 3, 5], [2, 4, 6]])\n>>> expected = np.array([0.11920292, 0.01798621])\n>>> actual = lr_model(test_theta, test_x)\n>>> np.isclose(actual, expected).all()\nTrue",
         "hidden": false,
         "locked": false
        }
       ],
       "scored": true,
       "setup": "",
       "teardown": "",
       "type": "doctest"
      }
     ]
    },
    "q1b": {
     "name": "q1b",
     "points": null,
     "suites": [
      {
       "cases": [
        {
         "code": ">>> np.isclose(lr_avg_loss(np.array([0, 0]), X_intercept_train, Y_train), 0.6931471805599453)\nTrue",
         "hidden": false,
         "locked": false
        },
        {
         "code": ">>> np.isclose(lr_avg_loss([-13.75289919, 0.92881284],\n...                    X_intercept_train, Y_train),\n...            0.31238592774374596)\nTrue",
         "hidden": false,
         "locked": false
        }
       ],
       "scored": true,
       "setup": "",
       "teardown": "",
       "type": "doctest"
      }
     ]
    },
    "q2": {
     "name": "q2",
     "points": null,
     "suites": [
      {
       "cases": [
        {
         "code": ">>> len(lr_predict(theta_hat, X_intercept_train)) == len(Y_train)\nTrue",
         "hidden": false,
         "locked": false
        },
        {
         "code": ">>> np.equal(lr_predict(np.array([2, 3, 0]),\n...                     np.array([[1, 0, -1], [-1, 0, 1]])),\n...          [1, 0])\narray([ True,  True])",
         "hidden": false,
         "locked": false
        },
        {
         "code": ">>> np.sum(Y_train_pred == 1) == 139\nTrue",
         "hidden": false,
         "locked": false
        },
        {
         "code": ">>> np.all(np.array([0, 0, 1, 1, 0]) == Y_train_pred[10:15])\nTrue",
         "hidden": false,
         "locked": false
        }
       ],
       "scored": true,
       "setup": "",
       "teardown": "",
       "type": "doctest"
      }
     ]
    },
    "q3a": {
     "name": "q3a",
     "points": null,
     "suites": [
      {
       "cases": [
        {
         "code": ">>> sum(lr.predict(X_test) == Y_test) == 130\nTrue",
         "hidden": false,
         "locked": false
        },
        {
         "code": ">>> np.isclose(train_accuracy, 0.8709, atol=1e-4)\nTrue",
         "hidden": false,
         "locked": false
        },
        {
         "code": ">>> np.isclose(test_accuracy, 0.9091, atol=1e-4)\nTrue",
         "hidden": false,
         "locked": false
        }
       ],
       "scored": true,
       "setup": "",
       "teardown": "",
       "type": "doctest"
      }
     ]
    },
    "q3b": {
     "name": "q3b",
     "points": null,
     "suites": [
      {
       "cases": [
        {
         "code": ">>> np.isclose(precision, 0.9184, atol=1e-4)\nTrue",
         "hidden": false,
         "locked": false
        },
        {
         "code": ">>> np.isclose(recall, 0.8333, atol=1e-4)\nTrue",
         "hidden": false,
         "locked": false
        }
       ],
       "scored": true,
       "setup": "",
       "teardown": "",
       "type": "doctest"
      }
     ]
    },
    "q3d": {
     "name": "q3d",
     "points": null,
     "suites": [
      {
       "cases": [
        {
         "code": ">>> cnf_matrix_norm.shape == (2, 2)\nTrue",
         "hidden": false,
         "locked": false
        },
        {
         "code": ">>> np.all(np.isclose(cnf_matrix_norm.sum(axis=1), [1, 1]))\nTrue",
         "hidden": false,
         "locked": false
        },
        {
         "code": ">>> np.isclose(cnf_matrix_norm[0, 0], 0.9550561797752809)\nTrue",
         "hidden": false,
         "locked": false
        },
        {
         "code": ">>> np.isclose(cnf_matrix_norm[1, 1], 0.8333333333333334)\nTrue",
         "hidden": false,
         "locked": false
        }
       ],
       "scored": true,
       "setup": "",
       "teardown": "",
       "type": "doctest"
      }
     ]
    }
   }
  }
 },
 "nbformat": 4,
 "nbformat_minor": 4
}
