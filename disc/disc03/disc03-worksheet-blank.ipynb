{
 "cells": [
  {
   "attachments": {},
   "cell_type": "markdown",
   "id": "d60227e8",
   "metadata": {},
   "source": [
    "# Discussion 3: Further Pandas Practice\n",
    "\n",
    "We will be using the `elections` dataset from lecture."
   ]
  },
  {
   "cell_type": "code",
   "execution_count": 1,
   "id": "f26a152e",
   "metadata": {},
   "outputs": [],
   "source": [
    "# import packages\n",
    "import pandas as pd\n",
    "import numpy as np\n",
    "\n",
    "elections = pd.read_csv(\"elections.csv\")"
   ]
  },
  {
   "attachments": {},
   "cell_type": "markdown",
   "id": "1d2866cc",
   "metadata": {},
   "source": [
    "## Dataset\n",
    "\n",
    "![elections_head.png](elections_head.png)"
   ]
  },
  {
   "attachments": {},
   "cell_type": "markdown",
   "id": "ed854707",
   "metadata": {},
   "source": [
    "## Problem 1\n",
    "\n",
    "Write a line of `pandas` code that creates a filtered DataFrame named `filtered_parties` from the elections dataset and keeps only the parties that have at least one election % more than 50%.\n",
    "\n",
    "*Answer*:"
   ]
  },
  {
   "cell_type": "code",
   "execution_count": null,
   "id": "da83b8da",
   "metadata": {},
   "outputs": [],
   "source": []
  },
  {
   "attachments": {},
   "cell_type": "markdown",
   "id": "baf4670f",
   "metadata": {},
   "source": [
    "## Problem 2\n",
    "\n",
    "Write a line of `pandas` code that uses the `filtered_parties` DataFrame to return a new DataFrame with row indices that correspond to the year and columns that correspond to each party. Each entry should be the total percentage of votes for all the candidates that ran during that particular year for the specified party.\n",
    "\n",
    "*Answer:*"
   ]
  },
  {
   "cell_type": "code",
   "execution_count": 1,
   "id": "42c1572a",
   "metadata": {},
   "outputs": [],
   "source": []
  }
 ],
 "metadata": {
  "kernelspec": {
   "display_name": "Python 3",
   "language": "python",
   "name": "python3"
  },
  "language_info": {
   "codemirror_mode": {
    "name": "ipython",
    "version": 3
   },
   "file_extension": ".py",
   "mimetype": "text/x-python",
   "name": "python",
   "nbconvert_exporter": "python",
   "pygments_lexer": "ipython3",
   "version": "3.10.11"
  },
  "vscode": {
   "interpreter": {
    "hash": "aea83e800b3f611b156506e3451d6446f84c720051bc83a1d66a677713fe7b36"
   }
  }
 },
 "nbformat": 4,
 "nbformat_minor": 5
}
