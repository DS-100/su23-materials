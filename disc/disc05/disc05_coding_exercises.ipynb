{
 "cells": [
  {
   "cell_type": "markdown",
   "id": "d21093a4",
   "metadata": {},
   "source": [
    "# Discussion 5: Visualizing Bigfoot"
   ]
  },
  {
   "cell_type": "markdown",
   "id": "a37ebceb",
   "metadata": {},
   "source": [
    "Many of you have probably heard of Bigfoot before. It's a mysterious ape-like creature that is said to live in North American forests. Most doubt its existence, but a passionate few swear that bigfoot is real. In this discussion, you will be working with a dataset on bigfoot sightings, visualizing variable distributions and combinations thereof to better understand how/when/where bigfoot is reportedly spotted, and possibly either confirm or cast doubt on its existence. The bigfoot data contains a ton of variables about each reported bigfoot spotting, including location information, weather, and moon phase."
   ]
  },
  {
   "cell_type": "code",
   "execution_count": null,
   "id": "484c40b6",
   "metadata": {},
   "outputs": [],
   "source": [
    "# Importing packages\n",
    "\n",
    "import pandas as pd\n",
    "import matplotlib.pyplot as plt\n",
    "import seaborn as sns\n",
    "\n",
    "import warnings\n",
    "warnings.filterwarnings('ignore')"
   ]
  },
  {
   "cell_type": "code",
   "execution_count": null,
   "id": "7e62158e",
   "metadata": {},
   "outputs": [],
   "source": [
    "# Loading bigfoot data\n",
    "\n",
    "url = 'https://raw.githubusercontent.com/rfordatascience/tidytuesday/master/data/2022/2022-09-13/bigfoot.csv'\n",
    "df = pd.read_csv(url)"
   ]
  },
  {
   "cell_type": "markdown",
   "id": "2a86b6b2",
   "metadata": {},
   "source": [
    "This dataset is extremely messy, with observations missing many values across multiple columns. This is normally the case with data based on citizen reports (many do not fill out all required fields). For the purposes of this discussion, we will drop all observations with any missing values and some unneeded columns. However, note this is not a good practice and you should almost never do this in real life!"
   ]
  },
  {
   "cell_type": "code",
   "execution_count": null,
   "id": "d93f2db1",
   "metadata": {},
   "outputs": [],
   "source": [
    "# Drop unneeded rows and observations with missing values\n",
    "\n",
    "bigfoot = df.dropna().rename({'temperature_high':'temp_high' ,'temperature_low':'temp_low'},axis = 1)\n",
    "bigfoot = bigfoot.drop(['observed', 'location_details', 'county', 'state', 'title',\n",
    "       'latitude', 'longitude', 'number', 'classification', 'geohash',\n",
    "       'temperature_mid', 'dew_point','precip_probability', 'precip_type','summary', \n",
    "       'wind_bearing'], axis = 1)"
   ]
  },
  {
   "cell_type": "markdown",
   "id": "7e9823a6",
   "metadata": {},
   "source": [
    "Here are the first few entries of the `bigfoot` table:"
   ]
  },
  {
   "cell_type": "code",
   "execution_count": null,
   "id": "1d1d3419",
   "metadata": {},
   "outputs": [],
   "source": [
    "bigfoot.head(5)"
   ]
  },
  {
   "cell_type": "markdown",
   "id": "5e4aeeae",
   "metadata": {},
   "source": [
    "### Task 1\n",
    "\n",
    "Let's first look at distributions of individual quantitative variables. Let's say we're interested in `wind_speed`. "
   ]
  },
  {
   "cell_type": "markdown",
   "id": "e016d182",
   "metadata": {},
   "source": [
    "Write a line of code that produces the visualization that depicts the variable's distribution (example shown below). **Hint**: Make sure to use `seaborn(sns.histplot)` since `matplotlib` does not support adding a KDE curve!\n",
    "\n",
    "![](https://drive.google.com/uc?export=view&id=1wlIyJjkdzxOoppv5400m3OyXwWdif3yO)"
   ]
  },
  {
   "cell_type": "code",
   "execution_count": null,
   "id": "afcdb2db",
   "metadata": {},
   "outputs": [],
   "source": [
    "# YOUR CODE HERE"
   ]
  },
  {
   "cell_type": "markdown",
   "id": "e2e5d6cf",
   "metadata": {},
   "source": [
    "###  Task 2) \n",
    "\n",
    "Now, let's see how two variables might relate to each other when bigfoot is reportedly out. Fill in the function to produce a visualization that shows what combinations of values of `moon_phase` and `wind_speed` are most common when bigfoot is spotted (example shown below). \n",
    "\n",
    "![](https://drive.google.com/uc?export=view&id=1Th31v4jb9i43YrsfhV-HUpls48XszWjD)"
   ]
  },
  {
   "cell_type": "code",
   "execution_count": null,
   "id": "01749db7",
   "metadata": {},
   "outputs": [],
   "source": [
    "sns.kdeplot(data = None, \n",
    "            x = None,\n",
    "            y = None,\n",
    "            fill = None);"
   ]
  },
  {
   "cell_type": "markdown",
   "id": "f8b7839e",
   "metadata": {},
   "source": [
    "### Task 3) \n",
    "\n",
    "Now, let's look at some qualitative variables. Write a line of code that produces a visualization that shows the distribution of bigfoot sightings across the variable `season` (example shown below). **hint:** Use `seaborn(sns.countplot)/matplotlib(plt.bar)`.\n",
    "\n",
    "![](https://drive.google.com/uc?export=view&id=1epvnkLB4Ncqg719_g8guYb5UUC7_Qd2i)"
   ]
  },
  {
   "cell_type": "code",
   "execution_count": null,
   "id": "925453ac",
   "metadata": {},
   "outputs": [],
   "source": [
    "# YOUR CODE HERE"
   ]
  }
 ],
 "metadata": {
  "kernelspec": {
   "display_name": "Python 3 (ipykernel)",
   "language": "python",
   "name": "python3"
  },
  "language_info": {
   "codemirror_mode": {
    "name": "ipython",
    "version": 3
   },
   "file_extension": ".py",
   "mimetype": "text/x-python",
   "name": "python",
   "nbconvert_exporter": "python",
   "pygments_lexer": "ipython3",
   "version": "3.9.0"
  },
  "vscode": {
   "interpreter": {
    "hash": "aea83e800b3f611b156506e3451d6446f84c720051bc83a1d66a677713fe7b36"
   }
  }
 },
 "nbformat": 4,
 "nbformat_minor": 5
}
