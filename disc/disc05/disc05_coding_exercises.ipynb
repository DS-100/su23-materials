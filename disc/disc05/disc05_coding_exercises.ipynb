{
 "cells": [
  {
   "attachments": {},
   "cell_type": "markdown",
   "id": "d21093a4",
   "metadata": {},
   "source": [
    "# Discussion 4: Visualizing Bigfoot"
   ]
  },
  {
   "attachments": {},
   "cell_type": "markdown",
   "id": "a37ebceb",
   "metadata": {},
   "source": [
    "Many of you have probably heard of Bigfoot before. It's a mysterious ape-like creature that is said to live in North American forests. Most doubt it's existence, but a passionate few swear that bigfoot is real. In this discussion, you will be working with a dataset on bigfoot sightings, visualizing variable distributions and combinations thereof to better understand how/when/where bigfoot is reportedly spotted, and possibly either confirm or cast doubt on its existence. The bigfoot data contains a ton of variables about each reported bigfoot spotting, including location information, weather, and moon phase."
   ]
  },
  {
   "cell_type": "code",
   "execution_count": null,
   "id": "484c40b6",
   "metadata": {},
   "outputs": [],
   "source": [
    "# Importing packages\n",
    "\n",
    "import pandas as pd\n",
    "import matplotlib.pyplot as plt\n",
    "import seaborn as sns\n",
    "\n",
    "import warnings\n",
    "warnings.filterwarnings('ignore')"
   ]
  },
  {
   "cell_type": "code",
   "execution_count": null,
   "id": "7e62158e",
   "metadata": {},
   "outputs": [],
   "source": [
    "# Loading bigfoot data\n",
    "\n",
    "url = 'https://raw.githubusercontent.com/rfordatascience/tidytuesday/master/data/2022/2022-09-13/bigfoot.csv'\n",
    "df = pd.read_csv(url)"
   ]
  },
  {
   "attachments": {},
   "cell_type": "markdown",
   "id": "2a86b6b2",
   "metadata": {},
   "source": [
    "This dataset is extremely messy, with observations missing many values across multiple columns. This is normally the case with data based on citizen reports (many do not fill out all required fields). For the purposes of this discussion, we will drop all observations with any missing values and some unneeded columns. However, note this is not a good practice and you should almost never do this in real life!"
   ]
  },
  {
   "cell_type": "code",
   "execution_count": null,
   "id": "d93f2db1",
   "metadata": {},
   "outputs": [],
   "source": [
    "# Drop unneeded rows and observations with missing values\n",
    "\n",
    "bigfoot = df.dropna().rename({'temperature_high':'temp_high' ,'temperature_low':'temp_low'},axis = 1)\n",
    "bigfoot = bigfoot.drop(['observed', 'location_details', 'county', 'state', 'title',\n",
    "       'latitude', 'longitude', 'number', 'classification', 'geohash',\n",
    "       'temperature_mid', 'dew_point','precip_probability', 'precip_type','summary', \n",
    "       'wind_bearing'], axis = 1)"
   ]
  },
  {
   "attachments": {},
   "cell_type": "markdown",
   "id": "7e9823a6",
   "metadata": {},
   "source": [
    "Here are the first few entries of the `bigfoot` table:"
   ]
  },
  {
   "cell_type": "code",
   "execution_count": null,
   "id": "1d1d3419",
   "metadata": {},
   "outputs": [
    {
     "data": {
      "text/html": [
       "<div>\n",
       "<style scoped>\n",
       "    .dataframe tbody tr th:only-of-type {\n",
       "        vertical-align: middle;\n",
       "    }\n",
       "\n",
       "    .dataframe tbody tr th {\n",
       "        vertical-align: top;\n",
       "    }\n",
       "\n",
       "    .dataframe thead th {\n",
       "        text-align: right;\n",
       "    }\n",
       "</style>\n",
       "<table border=\"1\" class=\"dataframe\">\n",
       "  <thead>\n",
       "    <tr style=\"text-align: right;\">\n",
       "      <th></th>\n",
       "      <th>season</th>\n",
       "      <th>date</th>\n",
       "      <th>temp_high</th>\n",
       "      <th>temp_low</th>\n",
       "      <th>humidity</th>\n",
       "      <th>cloud_cover</th>\n",
       "      <th>moon_phase</th>\n",
       "      <th>precip_intensity</th>\n",
       "      <th>pressure</th>\n",
       "      <th>uv_index</th>\n",
       "      <th>visibility</th>\n",
       "      <th>wind_speed</th>\n",
       "    </tr>\n",
       "  </thead>\n",
       "  <tbody>\n",
       "    <tr>\n",
       "      <th>10</th>\n",
       "      <td>Summer</td>\n",
       "      <td>2016-06-07</td>\n",
       "      <td>74.69</td>\n",
       "      <td>53.80</td>\n",
       "      <td>0.79</td>\n",
       "      <td>0.61</td>\n",
       "      <td>0.10</td>\n",
       "      <td>0.0010</td>\n",
       "      <td>998.87</td>\n",
       "      <td>6.0</td>\n",
       "      <td>9.70</td>\n",
       "      <td>0.49</td>\n",
       "    </tr>\n",
       "    <tr>\n",
       "      <th>21</th>\n",
       "      <td>Summer</td>\n",
       "      <td>2015-10-02</td>\n",
       "      <td>49.06</td>\n",
       "      <td>44.24</td>\n",
       "      <td>0.87</td>\n",
       "      <td>0.93</td>\n",
       "      <td>0.67</td>\n",
       "      <td>0.0092</td>\n",
       "      <td>1022.92</td>\n",
       "      <td>3.0</td>\n",
       "      <td>9.16</td>\n",
       "      <td>2.87</td>\n",
       "    </tr>\n",
       "    <tr>\n",
       "      <th>32</th>\n",
       "      <td>Fall</td>\n",
       "      <td>2009-10-31</td>\n",
       "      <td>69.01</td>\n",
       "      <td>34.42</td>\n",
       "      <td>0.77</td>\n",
       "      <td>0.81</td>\n",
       "      <td>0.42</td>\n",
       "      <td>0.0158</td>\n",
       "      <td>1011.48</td>\n",
       "      <td>3.0</td>\n",
       "      <td>1.97</td>\n",
       "      <td>3.94</td>\n",
       "    </tr>\n",
       "    <tr>\n",
       "      <th>34</th>\n",
       "      <td>Summer</td>\n",
       "      <td>1978-07-15</td>\n",
       "      <td>68.56</td>\n",
       "      <td>63.05</td>\n",
       "      <td>0.88</td>\n",
       "      <td>0.80</td>\n",
       "      <td>0.33</td>\n",
       "      <td>0.0285</td>\n",
       "      <td>1014.70</td>\n",
       "      <td>5.0</td>\n",
       "      <td>5.71</td>\n",
       "      <td>5.47</td>\n",
       "    </tr>\n",
       "    <tr>\n",
       "      <th>55</th>\n",
       "      <td>Summer</td>\n",
       "      <td>2015-11-26</td>\n",
       "      <td>20.49</td>\n",
       "      <td>5.35</td>\n",
       "      <td>0.65</td>\n",
       "      <td>0.08</td>\n",
       "      <td>0.54</td>\n",
       "      <td>0.0002</td>\n",
       "      <td>1037.98</td>\n",
       "      <td>1.0</td>\n",
       "      <td>10.00</td>\n",
       "      <td>0.40</td>\n",
       "    </tr>\n",
       "  </tbody>\n",
       "</table>\n",
       "</div>"
      ],
      "text/plain": [
       "    season        date  temp_high  temp_low  humidity  cloud_cover   \n",
       "10  Summer  2016-06-07      74.69     53.80      0.79         0.61  \\\n",
       "21  Summer  2015-10-02      49.06     44.24      0.87         0.93   \n",
       "32    Fall  2009-10-31      69.01     34.42      0.77         0.81   \n",
       "34  Summer  1978-07-15      68.56     63.05      0.88         0.80   \n",
       "55  Summer  2015-11-26      20.49      5.35      0.65         0.08   \n",
       "\n",
       "    moon_phase  precip_intensity  pressure  uv_index  visibility  wind_speed  \n",
       "10        0.10            0.0010    998.87       6.0        9.70        0.49  \n",
       "21        0.67            0.0092   1022.92       3.0        9.16        2.87  \n",
       "32        0.42            0.0158   1011.48       3.0        1.97        3.94  \n",
       "34        0.33            0.0285   1014.70       5.0        5.71        5.47  \n",
       "55        0.54            0.0002   1037.98       1.0       10.00        0.40  "
      ]
     },
     "metadata": {},
     "output_type": "display_data"
    }
   ],
   "source": [
    "bigfoot.head(5)"
   ]
  },
  {
   "attachments": {},
   "cell_type": "markdown",
   "id": "5e4aeeae",
   "metadata": {},
   "source": [
    "### Task 1\n",
    "\n",
    "Let's first look at distributions of individual quantitative variables. Let's say we're interested in `wind_speed`. "
   ]
  },
  {
   "attachments": {},
   "cell_type": "markdown",
   "id": "e016d182",
   "metadata": {},
   "source": [
    "Write a line of code that produces the visualization that depicts the variable's distribution (example shown below). **Hint**: Make sure to use `seaborn(sns.histplot)` since `matplotlib` does not support adding a KDE curve!\n",
    "\n",
    "![](https://drive.google.com/uc?export=view&id=1wlIyJjkdzxOoppv5400m3OyXwWdif3yO)"
   ]
  },
  {
   "cell_type": "code",
   "execution_count": 1,
   "id": "afcdb2db",
   "metadata": {},
   "outputs": [],
   "source": [
    "# YOUR CODE HERE"
   ]
  },
  {
   "attachments": {},
   "cell_type": "markdown",
   "id": "e2e5d6cf",
   "metadata": {},
   "source": [
    "###  Task 2) \n",
    "\n",
    "Now, let's see how two variables might relate to each other when bigfoot is reportedly out. Fill in the function to produce a visualization that shows what combinations of values of `moon_phase` and `wind_speed` are most common when bigfoot is spotted (example shown below). \n",
    "\n",
    "![](https://drive.google.com/uc?export=view&id=1Th31v4jb9i43YrsfhV-HUpls48XszWjD)"
   ]
  },
  {
   "cell_type": "code",
   "execution_count": null,
   "id": "01749db7",
   "metadata": {},
   "outputs": [],
   "source": [
    "sns.kdeplot(data = None, \n",
    "            x = None,\n",
    "            y = None,\n",
    "            shade = None);"
   ]
  },
  {
   "attachments": {},
   "cell_type": "markdown",
   "id": "f8b7839e",
   "metadata": {},
   "source": [
    "### Task 3) \n",
    "\n",
    "Now, let's look at some qualitative variables. Write a line of code that produces a visualization that shows the distribution of bigfoot sightings across the variable `season` (example shown below). **hint:** Use `seaborn(sns.countplot)/matplotlib(plt.bar)`.\n",
    "\n",
    "![](https://drive.google.com/uc?export=view&id=1epvnkLB4Ncqg719_g8guYb5UUC7_Qd2i)"
   ]
  },
  {
   "cell_type": "code",
   "execution_count": null,
   "id": "925453ac",
   "metadata": {},
   "outputs": [],
   "source": [
    "# YOUR CODE HERE"
   ]
  }
 ],
 "metadata": {
  "kernelspec": {
   "display_name": "Python 3 (ipykernel)",
   "language": "python",
   "name": "python3"
  },
  "language_info": {
   "codemirror_mode": {
    "name": "ipython",
    "version": 3
   },
   "file_extension": ".py",
   "mimetype": "text/x-python",
   "name": "python",
   "nbconvert_exporter": "python",
   "pygments_lexer": "ipython3",
   "version": "3.10.11"
  },
  "vscode": {
   "interpreter": {
    "hash": "aea83e800b3f611b156506e3451d6446f84c720051bc83a1d66a677713fe7b36"
   }
  }
 },
 "nbformat": 4,
 "nbformat_minor": 5
}
