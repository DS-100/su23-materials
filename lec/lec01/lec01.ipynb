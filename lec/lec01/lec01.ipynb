{
 "cells": [
  {
   "cell_type": "markdown",
   "metadata": {},
   "source": [
    "# Lecture 1 – Data 100, Summer 2023\n",
    "\n",
    "by Lisa Yan\n",
    "\n",
    "- adapted from Joseph E. Gonzalez, Anthony D. Joseph, Josh Hug, Suraj Rampure.\n",
    "- minor updates by Narges Norouzi, Fernando Pérez, and Dominic Liu."
   ]
  },
  {
   "cell_type": "markdown",
   "metadata": {},
   "source": [
    "## Software Packages \n",
    "We will be using a wide range of different Python software packages.  To install and manage these packages we will be using the Conda environment manager.  The following is a list of packages we will routinely use in lectures and homeworks:"
   ]
  },
  {
   "cell_type": "code",
   "execution_count": null,
   "metadata": {},
   "outputs": [],
   "source": [
    "# linear algebra, probability\n",
    "import numpy as np\n",
    "\n",
    "# data manipulation\n",
    "import pandas as pd\n",
    "\n",
    "# visualization\n",
    "import matplotlib.pyplot as plt\n",
    "import seaborn as sns\n",
    "\n",
    "## interactive visualization library\n",
    "import plotly.offline as py\n",
    "py.init_notebook_mode()\n",
    "import plotly.graph_objs as go\n",
    "import plotly.figure_factory as ff\n",
    "import plotly.express as px"
   ]
  },
  {
   "cell_type": "markdown",
   "metadata": {},
   "source": [
    "We will learn how to use all of the technologies used in this demo.\n",
    "\n",
    "For now, just sit back and think critically about the data and our guided analysis."
   ]
  },
  {
   "cell_type": "markdown",
   "metadata": {},
   "source": [
    "# 1. Starting with a Question: **Who are you (the students of Data 100)?**\n",
    "\n",
    "<img src=\"images/ask.png\" width=\"300px\" />\n",
    "\n",
    "This is a pretty vague question but let's start with the goal of learning something about the students in the class.\n",
    "\n",
    "Here are some \"simple\" questions:\n",
    "1. How many students do we have?\n",
    "1. What are your majors?\n",
    "1. What year are you?\n",
    "1. Diversity ...?\n"
   ]
  },
  {
   "cell_type": "markdown",
   "metadata": {},
   "source": [
    "# 2. Data Acquisition and Cleaning \n",
    "\n",
    "**In Data 100 we will study various methods to collect data.**\n",
    "\n",
    "<img src=\"images/data_acquisition.PNG\" width=\"300px\" />\n",
    "\n",
    "To answer this question, I downloaded the course roster and extracted everyone's names and majors."
   ]
  },
  {
   "cell_type": "code",
   "execution_count": null,
   "metadata": {},
   "outputs": [],
   "source": [
    "# pd stands for pandas, which we will learn starting from tomorrow\n",
    "# some pandas syntax shared with data8's datascience package\n",
    "majors = pd.read_csv(\"data/majors.csv\")\n",
    "names = pd.read_csv(\"data/names.csv\")"
   ]
  },
  {
   "cell_type": "markdown",
   "metadata": {},
   "source": [
    "# 3. Exploratory Data Analysis\n",
    "\n",
    "**In Data 100 we will study exploratory data analysis and practice analyzing new datasets.**\n",
    "\n",
    "<img src=\"images/understand_data.PNG\" width=\"300px\" />\n",
    "\n",
    "I didn't tell you the details of the data! Let's check out the data and infer its structure. Then we can start answering the simple questions we posed."
   ]
  },
  {
   "cell_type": "markdown",
   "metadata": {},
   "source": [
    "### Peeking at the Data"
   ]
  },
  {
   "cell_type": "code",
   "execution_count": null,
   "metadata": {},
   "outputs": [],
   "source": [
    "majors.head(20)"
   ]
  },
  {
   "cell_type": "code",
   "execution_count": null,
   "metadata": {},
   "outputs": [],
   "source": [
    "names.head()"
   ]
  },
  {
   "cell_type": "markdown",
   "metadata": {},
   "source": [
    "### What is one potential issue we may need to address in this data?\n",
    "\n",
    "**Answer:**\n",
    "Some names appear capitalized. \n",
    "\n",
    "In the above sample we notice that some of the names are capitalized and some are not.  This will be an issue in our later analysis so let's convert all names to lower case."
   ]
  },
  {
   "cell_type": "code",
   "execution_count": null,
   "metadata": {},
   "outputs": [],
   "source": [
    "names['Name'] = names['Name'].str.lower()"
   ]
  },
  {
   "cell_type": "code",
   "execution_count": null,
   "metadata": {},
   "outputs": [],
   "source": [
    "names.head()"
   ]
  },
  {
   "cell_type": "markdown",
   "metadata": {},
   "source": [
    "### How many records do we have?"
   ]
  },
  {
   "cell_type": "code",
   "execution_count": null,
   "metadata": {},
   "outputs": [],
   "source": [
    "print(len(names))\n",
    "print(len(majors))"
   ]
  },
  {
   "cell_type": "markdown",
   "metadata": {},
   "source": [
    "Based on what we know of our class, each record is most likely a student."
   ]
  },
  {
   "cell_type": "markdown",
   "metadata": {},
   "source": [
    "### Understanding the structure of data\n",
    "\n",
    "It is important that we understand the meaning of each field and how the data is organized."
   ]
  },
  {
   "cell_type": "code",
   "execution_count": null,
   "metadata": {},
   "outputs": [],
   "source": [
    "names.head()"
   ]
  },
  {
   "cell_type": "markdown",
   "metadata": {},
   "source": [
    "**Q: What is the meaning of the *Role* field?**\n",
    "\n",
    "A: Understanding the meaning of field can often be achieved by looking at the types of data it contains (in particular the *counts of its unique values*).\n",
    "\n",
    "We use the `value_counts()` function in pandas:"
   ]
  },
  {
   "cell_type": "code",
   "execution_count": null,
   "metadata": {},
   "outputs": [],
   "source": [
    "names['Role'].value_counts().to_frame()  # counts of unique Roles"
   ]
  },
  {
   "cell_type": "markdown",
   "metadata": {},
   "source": [
    "It appears that one student has an erroneous role given as \"#REF!\". What else can we learn about this student? Let's see their name."
   ]
  },
  {
   "cell_type": "code",
   "execution_count": null,
   "metadata": {},
   "outputs": [],
   "source": [
    "# boolean index to find rows where Role is #REF!\n",
    "names[names['Role'] == \"#REF!\"]"
   ]
  },
  {
   "cell_type": "markdown",
   "metadata": {},
   "source": [
    "Though this single bad record won't have much of an impact on our analysis, we can clean our data by removing this record."
   ]
  },
  {
   "cell_type": "code",
   "execution_count": null,
   "metadata": {},
   "outputs": [],
   "source": [
    "names = names[names['Role'] != \"#REF!\"]"
   ]
  },
  {
   "cell_type": "markdown",
   "metadata": {},
   "source": [
    "**Double check**: Let's double check that our record removal only removed the single bad record."
   ]
  },
  {
   "cell_type": "code",
   "execution_count": null,
   "metadata": {},
   "outputs": [],
   "source": [
    "names['Role'].value_counts().to_frame()  # again, counts of unique Roles"
   ]
  },
  {
   "cell_type": "markdown",
   "metadata": {},
   "source": [
    "Remember we loaded in two files. Let's explore the fields of `majors` and check for bad records:"
   ]
  },
  {
   "cell_type": "code",
   "execution_count": null,
   "metadata": {},
   "outputs": [],
   "source": [
    "majors.columns   # get column names"
   ]
  },
  {
   "cell_type": "code",
   "execution_count": null,
   "metadata": {},
   "outputs": [],
   "source": [
    "majors['Terms in Attendance'].value_counts().to_frame()"
   ]
  },
  {
   "cell_type": "markdown",
   "metadata": {},
   "source": [
    "It looks like numbers represents semesters, `G` represents graduate students, and `U` might represent something else---maybe campus visitors. But we do still have a bad record:"
   ]
  },
  {
   "cell_type": "code",
   "execution_count": null,
   "metadata": {},
   "outputs": [],
   "source": [
    "majors[majors['Terms in Attendance'] == \"#REF!\"]"
   ]
  },
  {
   "cell_type": "code",
   "execution_count": null,
   "metadata": {},
   "outputs": [],
   "source": [
    "majors = majors[majors['Terms in Attendance'] != \"#REF!\"]\n",
    "majors['Terms in Attendance'].value_counts().to_frame()"
   ]
  },
  {
   "cell_type": "markdown",
   "metadata": {},
   "source": [
    "Detail: The deleted `majors` record number is different from the record number of the bad `names` record. So while the number of records in each table matches, the row indices don't match, so we'll have to keep these tables separate in order to do our analysis."
   ]
  },
  {
   "cell_type": "markdown",
   "metadata": {},
   "source": [
    "### Summarizing the Data\n",
    "\n",
    "We will often want to numerically or visually summarize the data. The `describe()` method provides a brief high level description of our data frame. "
   ]
  },
  {
   "cell_type": "code",
   "execution_count": null,
   "metadata": {},
   "outputs": [],
   "source": [
    "names.describe()"
   ]
  },
  {
   "cell_type": "code",
   "execution_count": null,
   "metadata": {},
   "outputs": [],
   "source": [
    "majors.describe()"
   ]
  },
  {
   "cell_type": "markdown",
   "metadata": {},
   "source": [
    "**Q: What do you think `top` and `freq` represent?**\n",
    "\n",
    "A: `top`: most frequent entry, `freq`: the frequency of that entry"
   ]
  },
  {
   "cell_type": "markdown",
   "metadata": {},
   "source": [
    "---\n",
    "\n",
    "<img src=\"images/understand_world.PNG\" width=\"300px\" />\n",
    "\n",
    "\n",
    "### What are your majors?"
   ]
  },
  {
   "cell_type": "markdown",
   "metadata": {},
   "source": [
    "What are the top majors:"
   ]
  },
  {
   "cell_type": "code",
   "execution_count": null,
   "metadata": {},
   "outputs": [],
   "source": [
    "majors_count = (       # method chaining in pandas\n",
    "    majors['Majors']\n",
    "    .value_counts()\n",
    "    .sort_values(ascending=False) # highest first\n",
    "    .to_frame()\n",
    "    .head(20)          # get the top 20\n",
    ")\n",
    "\n",
    "# or, comment out to parse double majors\n",
    "# majors_count = (\n",
    "#     majors['Majors']\n",
    "#     .str.split(\", \") # get double majors\n",
    "#     .explode()       # one major to every row\n",
    "#     .value_counts()\n",
    "#     .sort_values(ascending=True)\n",
    "#     .to_frame()\n",
    "#     .tail(20)\n",
    "# )\n",
    "\n",
    "majors_count"
   ]
  },
  {
   "cell_type": "markdown",
   "metadata": {},
   "source": [
    "### We will often use visualizations to make sense of data\n",
    "**In Data 100, we will deal with many different kinds of data (not just numbers) and we will study techniques to describe types of data.**\n",
    "\n",
    "**How can we summarize the Majors field?** A good starting point might be to use a bar plot:"
   ]
  },
  {
   "cell_type": "code",
   "execution_count": null,
   "metadata": {},
   "outputs": [],
   "source": [
    "# interactive using plotly\n",
    "fig = px.bar(majors_count, orientation='h')\n",
    "fig.update_layout(showlegend=False,\n",
    "                  xaxis_title='Count',\n",
    "                  yaxis_title='Major')"
   ]
  },
  {
   "cell_type": "markdown",
   "metadata": {},
   "source": [
    "### What year are you?"
   ]
  },
  {
   "cell_type": "code",
   "execution_count": null,
   "metadata": {},
   "outputs": [],
   "source": [
    "fig = px.histogram(majors['Terms in Attendance'].sort_values(),\n",
    "                   histnorm='probability')\n",
    "fig.update_layout(showlegend=False,\n",
    "                  xaxis_title=\"Term\",\n",
    "                  yaxis_title=\"Fraction of Class\")"
   ]
  },
  {
   "cell_type": "markdown",
   "metadata": {},
   "source": [
    "---\n",
    "\n",
    "\n",
    "## Diversity and Data Science:\n",
    "\n",
    "Unfortunately, surveys of data scientists suggest that there are far fewer women in data science:\n",
    "\n",
    "<img src=\"images/kaggle_gender_data.png\" width=\"600px\" />\n",
    "\n",
    "To learn more check out the [Kaggle Executive Summary](https://www.kaggle.com/kaggle-survey-2022) or study the [Raw Data](https://www.kaggle.com/c/kaggle-survey-2022).\n"
   ]
  },
  {
   "cell_type": "markdown",
   "metadata": {},
   "source": [
    "\n",
    "---\n",
    "\n",
    "## What fraction of the students are female?\n",
    "\n",
    "<img src=\"images/ask.png\" width=\"300px\" />\n",
    "\n",
    "We often ask this question because we want to improve the data science program here in Berkeley, especially it has now grown into a new college—[College of Computing, Data Science, and Society](https://data.berkeley.edu/)—Berkeley's first new college in 50 years.\n",
    "\n",
    "This is actually a fairly complex question.  What do we mean by female? Is this a question about the **sex** or **gender identity** of the students?  **They are not the same thing.**  \n",
    "\n",
    "* **Sex** refers predominantly to biological characteristics. \n",
    "* **Gender** is much more complex with societal and cultural implications and refers to how people identify themselves.  \n",
    "\n",
    "Most likely, the college of CDSS is interested in improving **gender diversity**, by ensuring that our program is inclusive. Let's reword this question:\n",
    "\n",
    "\n",
    "## Reworded: What is the gender diversity of our students?\n"
   ]
  },
  {
   "cell_type": "markdown",
   "metadata": {},
   "source": [
    "\n",
    "\n",
    "### How could we answer this question?\n",
    "\n"
   ]
  },
  {
   "cell_type": "code",
   "execution_count": null,
   "metadata": {},
   "outputs": [],
   "source": [
    "print(majors.columns)\n",
    "print(names.columns)"
   ]
  },
  {
   "cell_type": "markdown",
   "metadata": {},
   "source": [
    "\n",
    "---\n",
    "\n",
    "### We don't have the data.\n",
    "\n",
    "Where can we get the data?\n",
    "\n",
    "<img src=\"images/data_acquisition.PNG\" width=\"300px\" />"
   ]
  },
  {
   "cell_type": "markdown",
   "metadata": {},
   "source": [
    "\n",
    "---\n",
    "\n",
    "### (1) We could run a survey!\n",
    "\n",
    "**In Data 100, we will learn different ways people collect data (e.g. sampling and census) and their limitations.**\n",
    "\n",
    "We actually did, in the Pre-semester Survey. However, it's not due yet, so we don't have the complete data. Here's what we have so far:\n",
    "\n",
    "<img src=\"images/survey.png\" width=\"600px\" />\n",
    "\n",
    "\n",
    "Considering UC Berkeley's enrolled undergraduate students are [54% women](https://diversity.berkeley.edu/reports-data/diversity-data-dashboard), Data 100 is not doing great :(\n",
    "\n",
    "Two limitations of this result:\n",
    "- Not everyone filled out the form. (But is it a representative sample of our students?)\n",
    "- The question is optional, so some students chose not to answer it. (What problem will this cause?)"
   ]
  },
  {
   "cell_type": "markdown",
   "metadata": {},
   "source": [
    "\n",
    "### (2) ... or we could try to use the data we have to estimate the <u>_sex_ of the students as a proxy for gender</u>?!?!\n",
    "\n",
    "Please do not attempt option (2) alone. What I am about to do is **flawed in so many ways** and we will discuss these flaws in a moment and throughout the semester.\n",
    "\n",
    "However, it will illustrate some very basic inferential modeling and how we might combine **multiple data sources** to try and reason about something we haven't measured. \n",
    "\n",
    "The idea is to use **first name** as a proxy for **sex**, as a proxy for **gender**.\n",
    "\n",
    "$$\n",
    "\\text{Name} \\rightarrow \\text{Sex} \\rightarrow \\text{Gender}\n",
    "$$\n",
    "\n",
    "What potential problems do you see with the method?\n",
    "\n",
    "\n",
    "To attempt option (2), we will first look at a second data source.\n"
   ]
  },
  {
   "cell_type": "markdown",
   "metadata": {},
   "source": [
    "\n",
    "---\n",
    "\n",
    "# US Social Security Data\n",
    "\n",
    "To study what a name tells about a person we will download data from the United States Social Security office containing the number of registered names broken down by **year**, **sex**, and **name**. This is often called the Baby Names Data as social security numbers (SSNs) are typically given at birth."
   ]
  },
  {
   "cell_type": "markdown",
   "metadata": {},
   "source": [
    "## 1. What does a name tell us about a person?\n",
    "\n",
    "A: In this demo we'll use a person's name to estimate their sex. But a person's name tells us *many* things (more on this later)."
   ]
  },
  {
   "cell_type": "markdown",
   "metadata": {
    "tags": []
   },
   "source": [
    "## 2. Acquire data programatically\n",
    "\n",
    "Note 1: In the following we download the data programmatically to ensure that the process is reproducible.\n",
    "\n",
    "Note 2: We also load the data directly into python without decompressing the zipfile.\n",
    "\n",
    "**In Data 100 we will think a bit more about how we can be efficient in our data analysis to support processing large datasets.**"
   ]
  },
  {
   "cell_type": "code",
   "execution_count": null,
   "metadata": {},
   "outputs": [],
   "source": [
    "import urllib.request\n",
    "import os.path\n",
    "\n",
    "# Download data from the web directly\n",
    "data_url = \"https://www.ssa.gov/oact/babynames/names.zip\"\n",
    "local_filename = \"babynames.zip\"\n",
    "if not os.path.exists(local_filename): # if the data exists don't download again\n",
    "    with urllib.request.urlopen(data_url) as resp, open(local_filename, 'wb') as f:\n",
    "        f.write(resp.read())\n",
    "\n",
    "        \n",
    "# Load data without unzipping the file\n",
    "import zipfile\n",
    "babynames = [] \n",
    "with zipfile.ZipFile(local_filename, \"r\") as zf:\n",
    "    data_files = [f for f in zf.filelist if f.filename[-3:] == \"txt\"]\n",
    "    def extract_year_from_filename(fn):\n",
    "        return int(fn[3:7])\n",
    "    for f in data_files:\n",
    "        year = extract_year_from_filename(f.filename)\n",
    "        with zf.open(f) as fp:\n",
    "            df = pd.read_csv(fp, names=[\"Name\", \"Sex\", \"Count\"])\n",
    "            df[\"Year\"] = year\n",
    "            babynames.append(df)\n",
    "babynames = pd.concat(babynames)\n",
    "\n",
    "\n",
    "babynames.head() # show the first few rows"
   ]
  },
  {
   "cell_type": "markdown",
   "metadata": {},
   "source": [
    "---\n",
    "## 2 (cont). Understanding the Setting\n",
    "\n",
    "**In Data 100 you will have to learn about different data sources (and their limitations) on your own.**\n",
    "\n",
    "Reading from [SSN Office description](https://www.ssa.gov/oact/babynames/background.html), bolded for readability: \n",
    "\n",
    "\n",
    "> All names are from Social Security card applications for **births that occurred in the United States** after 1879. **Note that many people born before 1937 never applied** for a Social Security card, so their names are not included in our data. For others who did apply, our records may not show the place of birth, and again their names are not included in our data.\n",
    "\n",
    "> **To safeguard privacy, we exclude** from our tabulated lists of names those that would indicate, or would allow the ability to determine, **names with fewer than 5 occurrences** in any geographic area. If a name has less than 5 occurrences for a year of birth in any state, the sum of the state counts for that year will be less than the national count.\n",
    "\n",
    "> All data are from a **100% sample** of our records on Social Security card applications as of March 2022.\n",
    "\n",
    "\n"
   ]
  },
  {
   "cell_type": "markdown",
   "metadata": {},
   "source": [
    "## A little bit of data cleaning\n",
    "\n",
    "Examining the data:"
   ]
  },
  {
   "cell_type": "code",
   "execution_count": null,
   "metadata": {},
   "outputs": [],
   "source": [
    "babynames"
   ]
  },
  {
   "cell_type": "markdown",
   "metadata": {},
   "source": [
    "In our earlier analysis we converted names to lower case. We will do the same again here:"
   ]
  },
  {
   "cell_type": "code",
   "execution_count": null,
   "metadata": {},
   "outputs": [],
   "source": [
    "babynames['Name'] = babynames['Name'].str.lower()\n",
    "babynames.head()"
   ]
  },
  {
   "cell_type": "markdown",
   "metadata": {},
   "source": [
    "## 3. Exploratory Data Analysis (and Visualization)\n",
    "\n",
    "<img src=\"images/understand_data.PNG\" width=\"300px\" />"
   ]
  },
  {
   "cell_type": "markdown",
   "metadata": {},
   "source": [
    "How many people does this data represent?"
   ]
  },
  {
   "cell_type": "code",
   "execution_count": null,
   "metadata": {},
   "outputs": [],
   "source": [
    "format(babynames['Count'].sum(), ',d') # sum of 'Count' column"
   ]
  },
  {
   "cell_type": "code",
   "execution_count": null,
   "metadata": {},
   "outputs": [],
   "source": [
    "format(len(babynames), ',d')       # number of rows"
   ]
  },
  {
   "cell_type": "markdown",
   "metadata": {},
   "source": [
    "**Q: Is this number low or high?**\n",
    "\n",
    "**Answer**\n",
    "\n",
    "It seems low (the 2021 US population was 331.9 million). However the social security website states: \n",
    "\n",
    "> All names are from Social Security card applications for births that occurred in the United States after 1879. **Note that many people born before 1937 never applied for a Social Security card, so their names are not included in our data.** For others who did apply, our records may not show the place of birth, and again their names are not included in our data. All data are from a 100% sample of our records on Social Security card applications as of the end of February 2016."
   ]
  },
  {
   "cell_type": "markdown",
   "metadata": {},
   "source": [
    "Trying a simple query:"
   ]
  },
  {
   "cell_type": "code",
   "execution_count": null,
   "metadata": {},
   "outputs": [],
   "source": [
    "# how many Nora's were born in 2018?\n",
    "babynames[(babynames['Name'] == 'nora') & (babynames['Year'] == 2018)]"
   ]
  },
  {
   "cell_type": "markdown",
   "metadata": {},
   "source": [
    "Trying a more complex query using `query()` (to be discussed soon!): "
   ]
  },
  {
   "cell_type": "code",
   "execution_count": null,
   "metadata": {},
   "outputs": [],
   "source": [
    "# how many baby names contain the word \"data\"?\n",
    "babynames.query('Name.str.contains(\"data\")', engine='python')"
   ]
  },
  {
   "cell_type": "markdown",
   "metadata": {},
   "source": [
    "### Temporal Patterns Conditioned on Male/Female\n",
    "\n",
    "**In Data 100 we still study how to visualize and analyze relationships in data.**"
   ]
  },
  {
   "cell_type": "markdown",
   "metadata": {},
   "source": [
    "In this example we construct a **pivot table** which aggregates the number of babies registered for each year by `Sex`.\n",
    "\n",
    "We'll discuss pivot tables in detail in the next few lectures."
   ]
  },
  {
   "cell_type": "code",
   "execution_count": null,
   "metadata": {},
   "outputs": [],
   "source": [
    "# counts number of M and F babies per year\n",
    "year_sex = pd.pivot_table(\n",
    "        babynames, \n",
    "        index=['Year'], # the row index\n",
    "        columns=['Sex'], # the column values\n",
    "        values='Count', # the field(s) to processed in each group\n",
    "        aggfunc=np.sum,\n",
    "    )[[\"M\", \"F\"]]\n",
    "\n",
    "year_sex.head()"
   ]
  },
  {
   "cell_type": "markdown",
   "metadata": {},
   "source": [
    "We can visualize these descriptive statistics:"
   ]
  },
  {
   "cell_type": "code",
   "execution_count": null,
   "metadata": {},
   "outputs": [],
   "source": [
    "# more interactive using plotly\n",
    "fig = px.line(year_sex)\n",
    "fig.update_layout(title=\"Total Babies per Year\",\n",
    "                  yaxis_title=\"Number of Babies\")"
   ]
  },
  {
   "cell_type": "markdown",
   "metadata": {},
   "source": [
    "### How many unique names for each year?"
   ]
  },
  {
   "cell_type": "code",
   "execution_count": null,
   "metadata": {},
   "outputs": [],
   "source": [
    "# counts number of M and F *names* per year\n",
    "year_sex_unique = pd.pivot_table(babynames, \n",
    "        index=['Year'], \n",
    "        columns=['Sex'], \n",
    "        values='Name', \n",
    "        aggfunc=lambda x: len(np.unique(x)),\n",
    "    )\n",
    "fig = px.line(year_sex_unique)\n",
    "fig.update_layout(title=\"Unique Names Per Year\",\n",
    "                  yaxis_title=\"Number of Baby Names\")"
   ]
  },
  {
   "cell_type": "markdown",
   "metadata": {},
   "source": [
    "**Some observations:**\n",
    "1. Registration data seems limited in the early 1900s.  Because many people did not register before 1937.  \n",
    "1. You can see the [baby boomers](https://en.wikipedia.org/wiki/Baby_boomers) (born 1940s-1960s) and the [Echo Boomers](https://en.wikipedia.org/wiki/Echo%20Boomers) (aka millenials, 1980s to 2000).\n",
    "1. Females have greater a sightly greater diversity of names."
   ]
  },
  {
   "cell_type": "markdown",
   "metadata": {},
   "source": [
    "## 4. Understand the World: Prediction and Inference\n",
    "\n",
    "<img src=\"images/understand_world.PNG\" width=\"300px\" />"
   ]
  },
  {
   "cell_type": "markdown",
   "metadata": {},
   "source": [
    "Let's use the Baby Names dataset to estimate the fraction of female students in the class."
   ]
  },
  {
   "cell_type": "markdown",
   "metadata": {},
   "source": [
    "### Compute the Proportion of Female Babies For Each Name\n",
    "\n",
    "First, we construct a pivot table to compute the total number of babies registered for each Name, broken down by Sex."
   ]
  },
  {
   "cell_type": "code",
   "execution_count": null,
   "metadata": {},
   "outputs": [],
   "source": [
    "# counts number of M and F babies per name\n",
    "name_sex = pd.pivot_table(babynames, index='Name', columns='Sex', values='Count',\n",
    "                            aggfunc='sum', fill_value=0., margins=True)\n",
    "name_sex.sample(5)"
   ]
  },
  {
   "cell_type": "code",
   "execution_count": null,
   "metadata": {},
   "outputs": [],
   "source": [
    "name_sex.loc[\"alex\",]"
   ]
  },
  {
   "cell_type": "markdown",
   "metadata": {},
   "source": [
    "Second, we compute proportion of female babies for each name. This is our **estimated probability** that the baby is Female:\n",
    "\n",
    "$$ \\hat{\\textbf{P}\\hspace{0pt}}(\\text{Female} \\,\\,\\, | \\,\\,\\, \\text{Name} ) = \\frac{\\textbf{Count}(\\text{Female and Name})}{\\textbf{Count}(\\text{Name})}\n",
    "$$"
   ]
  },
  {
   "cell_type": "code",
   "execution_count": null,
   "metadata": {},
   "outputs": [],
   "source": [
    "prop_female = (name_sex['F'] / name_sex['All']).rename(\"Prop. Female\")\n",
    "prop_female.to_frame().sample(10)"
   ]
  },
  {
   "cell_type": "markdown",
   "metadata": {},
   "source": [
    "### Test a few names"
   ]
  },
  {
   "cell_type": "code",
   "execution_count": null,
   "metadata": {},
   "outputs": [],
   "source": [
    "prop_female[\"bella\"]"
   ]
  },
  {
   "cell_type": "code",
   "execution_count": null,
   "metadata": {},
   "outputs": [],
   "source": [
    "prop_female[\"dominic\"]"
   ]
  },
  {
   "cell_type": "code",
   "execution_count": null,
   "metadata": {},
   "outputs": [],
   "source": [
    "prop_female[\"joey\"]"
   ]
  },
  {
   "cell_type": "code",
   "execution_count": null,
   "metadata": {},
   "outputs": [],
   "source": [
    "prop_female[\"ani\"]"
   ]
  },
  {
   "cell_type": "code",
   "execution_count": null,
   "metadata": {},
   "outputs": [],
   "source": [
    "prop_female[\"minh\"]"
   ]
  },
  {
   "cell_type": "code",
   "execution_count": null,
   "metadata": {},
   "outputs": [],
   "source": [
    "prop_female[\"pat\"]"
   ]
  },
  {
   "cell_type": "code",
   "execution_count": null,
   "metadata": {},
   "outputs": [],
   "source": [
    "prop_female[\"jaspreet\"]"
   ]
  },
  {
   "cell_type": "markdown",
   "metadata": {},
   "source": [
    "### Next, Build a Simple Classifier (Model)\n",
    "\n",
    "We can define a function to return the most likely `Sex` for a name. If there is an exact tie or the name does not appear in the social security dataset the function returns `Unknown`."
   ]
  },
  {
   "cell_type": "code",
   "execution_count": null,
   "metadata": {},
   "outputs": [],
   "source": [
    "def sex_from_name(name):\n",
    "    lower_name = name.lower()\n",
    "    if lower_name not in prop_female.index or prop_female[lower_name] == 0.5:\n",
    "        return \"Unknown\"\n",
    "    elif prop_female[lower_name] > 0.5:\n",
    "        return \"F\"\n",
    "    else:\n",
    "        return \"M\""
   ]
  },
  {
   "cell_type": "code",
   "execution_count": null,
   "metadata": {},
   "outputs": [],
   "source": [
    "sex_from_name(\"nora\")"
   ]
  },
  {
   "cell_type": "code",
   "execution_count": null,
   "metadata": {},
   "outputs": [],
   "source": [
    "sex_from_name(\"joey\")"
   ]
  },
  {
   "cell_type": "code",
   "execution_count": null,
   "metadata": {},
   "outputs": [],
   "source": [
    "sex_from_name(\"pat\")"
   ]
  },
  {
   "cell_type": "markdown",
   "metadata": {},
   "source": [
    "## 4 (cont). Estimating the fraction of female and male students in Data 100\n",
    "Let's try out our simple classifier! We'll use the `apply()` function to classify each student name:"
   ]
  },
  {
   "cell_type": "code",
   "execution_count": null,
   "metadata": {},
   "outputs": [],
   "source": [
    "# apply sex_from_name to each student name\n",
    "names['Pred. Sex'] = names['Name'].apply(sex_from_name)\n",
    "px.bar(names['Pred. Sex'].value_counts()/len(names))"
   ]
  },
  {
   "cell_type": "markdown",
   "metadata": {},
   "source": [
    "### Interpreting the unknowns\n",
    "\n",
    "That's a lot of `Unknown`s."
   ]
  },
  {
   "cell_type": "markdown",
   "metadata": {},
   "source": [
    "...But we can still estimate the fraction of female students in the class:"
   ]
  },
  {
   "cell_type": "code",
   "execution_count": null,
   "metadata": {},
   "outputs": [],
   "source": [
    "count_by_sex = names['Pred. Sex'].value_counts().to_frame()\n",
    "count_by_sex"
   ]
  },
  {
   "cell_type": "code",
   "execution_count": null,
   "metadata": {},
   "outputs": [],
   "source": [
    "count_by_sex.loc['F']/(count_by_sex.loc['M'] + count_by_sex.loc['F'])"
   ]
  },
  {
   "cell_type": "markdown",
   "metadata": {},
   "source": [
    "**Questions**:\n",
    "1. **How do we feel about this estimate?**\n",
    "1. **Do we trust it?**\n",
    "\n",
    "---\n",
    "<br/><br/><br/>\n",
    "\n",
    "**Q: What fraction of students in Data 100 this semester have names in the SSN dataset?**"
   ]
  },
  {
   "cell_type": "code",
   "execution_count": null,
   "metadata": {},
   "outputs": [],
   "source": [
    "print(\"Fraction of names in the babynames data:\", \n",
    "      names['Name'].isin(prop_female.index).mean())"
   ]
  },
  {
   "cell_type": "markdown",
   "metadata": {},
   "source": [
    "**Q: Which names are *not* in the dataset?**\n",
    "\n",
    "Why might these names not appear?  "
   ]
  },
  {
   "cell_type": "code",
   "execution_count": null,
   "metadata": {},
   "outputs": [],
   "source": [
    "# the tilde ~ negates the boolean index. More next week.\n",
    "names[~names['Name'].isin(prop_female.index)].sample(10)"
   ]
  },
  {
   "cell_type": "code",
   "execution_count": null,
   "metadata": {},
   "outputs": [],
   "source": [
    "\"hangxing\" in prop_female.index"
   ]
  },
  {
   "cell_type": "markdown",
   "metadata": {},
   "source": [
    "### Using simulation to estimate uncertainty\n",
    "\n",
    "Previously we treated a name which is given to females 40% of the time as a \"Male\" name, because the probability was less than 0.5.  This doesn't capture our uncertainty.\n",
    "\n",
    "We can use simulation to provide a better distributional estimate. We'll use 50% for names not in the Baby Names dataset."
   ]
  },
  {
   "cell_type": "code",
   "execution_count": null,
   "metadata": {},
   "outputs": [],
   "source": [
    "# add the computed SSN F proportion to each row. 0.5 for Unknowns.\n",
    "# merge() effectively \"join\"s two tables together. to be covered next week.\n",
    "names['Prop. Female'] = (\n",
    "    names[['Name']].merge(prop_female, how='left', left_on='Name', \n",
    "                          right_index=True)['Prop. Female']\n",
    "        .fillna(0.5)\n",
    ")\n",
    "names.head(10)"
   ]
  },
  {
   "cell_type": "markdown",
   "metadata": {},
   "source": [
    "### Running the simulation"
   ]
  },
  {
   "cell_type": "code",
   "execution_count": null,
   "metadata": {},
   "outputs": [],
   "source": [
    "# if a randomly picked number from [0.0, 1.0) is under the Female proportion, then F\n",
    "names['Sim. Female'] = np.random.rand(len(names)) < names['Prop. Female']\n",
    "names.tail(20)"
   ]
  },
  {
   "cell_type": "markdown",
   "metadata": {},
   "source": [
    "Given such a simulation, we can compute the fraction of the class that is female.\n",
    "\n",
    "1. **How do we feel about this new estimate?** \n",
    "1. **Do we trust it?**"
   ]
  },
  {
   "cell_type": "code",
   "execution_count": null,
   "metadata": {},
   "outputs": [],
   "source": [
    "# proportion of Trues in the 'Sim. Female' column\n",
    "names['Sim. Female'].mean()"
   ]
  },
  {
   "cell_type": "markdown",
   "metadata": {},
   "source": [
    "Now that we're performing a simulation, the above proportion is *random*: it depends on the random numbers we picked to determine whether a student was Female.\n",
    "\n",
    "Let's run the above simulation several times and see what the distribution of this Female proportion is. The below cell may take a few seconds to run."
   ]
  },
  {
   "cell_type": "code",
   "execution_count": null,
   "metadata": {},
   "outputs": [],
   "source": [
    "# function that performs many simulations\n",
    "def simulate_class(students):\n",
    "    is_female = names['Prop. Female'] > np.random.rand(len(names['Prop. Female'])) \n",
    "    return np.mean(is_female)\n",
    "\n",
    "sim_frac_female = np.array([simulate_class(names) for n in range(10000)])"
   ]
  },
  {
   "cell_type": "code",
   "execution_count": null,
   "metadata": {},
   "outputs": [],
   "source": [
    "fig = ff.create_distplot([sim_frac_female], ['Fraction Female'], bin_size=0.0025, show_rug=False)\n",
    "fig.update_layout(xaxis_title='Prop. Female',\n",
    "                  yaxis_title='Percentage',\n",
    "                  title='Distribution of Simulated Proportions of Females in the Class')\n",
    "ax = sns.histplot(sim_frac_female, stat='probability', kde=True, bins=20)\n",
    "sns.rugplot(sim_frac_female, ax=ax)\n",
    "ax.set_xlabel(\"Fraction Female\")\n",
    "ax.set_title('Distribution of Simulated Fractions Female in the Class');"
   ]
  },
  {
   "cell_type": "markdown",
   "metadata": {},
   "source": [
    "**In Data 100 we will understand Kernel Density Functions, Rug Plots, and other visualization techniques.**"
   ]
  },
  {
   "cell_type": "markdown",
   "metadata": {},
   "source": [
    "---\n",
    "<br/><br/><br/>\n",
    "## Limitations of Baby Names dataset"
   ]
  },
  {
   "cell_type": "markdown",
   "metadata": {},
   "source": [
    "### UC Berkeley teaches students from around the world.\n",
    "\n",
    "We saw with our Simple Classifier that many student names were classified as \"Unknown,\" often because they weren't in the SSN Baby Names Dataset.\n",
    "\n",
    "Recall the SSN dataset:\n",
    "\n",
    "> All names are from Social Security card applications for births that occurred in the United States after 1879.\n",
    "\n",
    "That statement is not reflective of all of our students!!"
   ]
  },
  {
   "cell_type": "code",
   "execution_count": null,
   "metadata": {},
   "outputs": [],
   "source": [
    "# students who were not in the SSN Baby Names Dataset\n",
    "names[~names['Name'].isin(prop_female.index)].sample(10)"
   ]
  },
  {
   "cell_type": "markdown",
   "metadata": {},
   "source": [
    "### Names change over time.\n",
    "\n",
    "Using data from 1879 (or even 1937) does not represent the diversity and **context** of U.S. baby names today.\n",
    "\n",
    "Here are some choice names to show you how the distribution of particular names has varied with time:"
   ]
  },
  {
   "cell_type": "code",
   "execution_count": null,
   "metadata": {},
   "outputs": [],
   "source": [
    "subset_names = [\"edris\", \"jamie\", \"jordan\", \"leslie\", \"taylor\", \"willie\"]\n",
    "subset_babynames_year = (pd.pivot_table(\n",
    "                    babynames[babynames['Name'].isin(subset_names)],\n",
    "                    index=['Name', 'Year'], columns='Sex', values='Count',\n",
    "                    aggfunc='sum', fill_value=0, margins=True)\n",
    "                 .drop(labels='All', level=0, axis=0) # drop cumulative row\n",
    "                 .rename_axis(None, axis=1) # remove pivot table col name\n",
    "                 .reset_index() # move (name, year) back into columns\n",
    "                 .assign(Propf = lambda row: row.F/(row.F + row.M))\n",
    "                )\n",
    "ax = sns.lineplot(data=subset_babynames_year,\n",
    "                  x='Year', y='Propf', hue='Name')\n",
    "ax.set_title(\"Ratio of Female Babies over Time for Select Names\")\n",
    "ax.set_ylabel(\"Proportion of Female Names in a Year\")\n",
    "ax.legend(loc=\"lower left\");"
   ]
  },
  {
   "cell_type": "markdown",
   "metadata": {
    "tags": []
   },
   "source": [
    "### Bonus: How we selected which names to plot\n",
    "\n",
    "Curious as to how we got the above names? We picked out two types of names:\n",
    "* names that had a high variability in F/M naming over years\n",
    "* common names that had an average F/M ratio over a set threshold\n",
    "\n",
    "Check it out:"
   ]
  },
  {
   "cell_type": "code",
   "execution_count": null,
   "metadata": {
    "tags": []
   },
   "outputs": [],
   "source": [
    "\"\"\"\n",
    "get a subset of names that:\n",
    "    have had propf above a threshold, as well as\n",
    "    have been counted for more than a certain number of years\n",
    "Note: while we could do our analysis over all names,\n",
    "    it turns out many names don't matter.\n",
    "    So to save computation power, we just work\n",
    "    with a subset of names we know may be candidates.\n",
    "\"\"\"\n",
    "# these are thresholds we set as data analysts\n",
    "propf_min = 0.2\n",
    "propf_max = 0.8\n",
    "year_thresh = 30\n",
    "\n",
    "propf_countyear = (babynames\n",
    "                   .groupby('Name').count()\n",
    "                   .merge(prop_female.to_frame(), on='Name')\n",
    "                   .rename(columns={'Prop. Female': 'Propf'})\n",
    "                   .query(\"@propf_min < Propf < @propf_max & Year > @year_thresh & Name != 'All'\")\n",
    "                  )[['Propf', 'Year']]\n",
    "propf_countyear"
   ]
  },
  {
   "cell_type": "code",
   "execution_count": null,
   "metadata": {},
   "outputs": [],
   "source": [
    "# construct a pivot table of (name, year) to count\n",
    "keep_names = propf_countyear.reset_index()['Name']\n",
    "name_year_sex = (pd.pivot_table(\n",
    "                    babynames[babynames['Name'].isin(keep_names)],\n",
    "                    index=['Name', 'Year'], columns='Sex', values='Count',\n",
    "                    aggfunc='sum', fill_value=0, margins=True)\n",
    "                 .drop(labels='All', level=0, axis=0) # drop cumulative row\n",
    "                 .rename_axis(None, axis=1) # remove pivot table col name\n",
    "                 .reset_index() # move (name, year) back into columns\n",
    "                 .assign(Propf = lambda row: row.F/(row.F + row.M))\n",
    "                )\n",
    "name_year_sex"
   ]
  },
  {
   "cell_type": "code",
   "execution_count": null,
   "metadata": {},
   "outputs": [],
   "source": [
    "\"\"\"\n",
    "Compute two statistics per name:\n",
    "- Count of number of babies with name\n",
    "- Variance of proportion of females\n",
    "  (i.e., how much the proportion of females varied\n",
    "  across different years)\n",
    "\"\"\"\n",
    "names_to_include = 40\n",
    "group_names =  (name_year_sex\n",
    "                       .groupby('Name')\n",
    "                       .agg({'Propf': 'var', 'All': 'sum'})\n",
    "                       .rename(columns={'Propf': 'Propf Var', 'All': 'Total'})\n",
    "                       .reset_index()\n",
    "                      )\n"
   ]
  },
  {
   "cell_type": "code",
   "execution_count": null,
   "metadata": {},
   "outputs": [],
   "source": [
    "# pick some high variance names\n",
    "high_variance_names = (group_names\n",
    "                       .sort_values('Propf Var', ascending=False)\n",
    "                       .head(names_to_include)\n",
    "                       .sort_values('Total', ascending=False)\n",
    "                      )\n",
    "\n",
    "high_variance_names.head(5)"
   ]
  },
  {
   "cell_type": "code",
   "execution_count": null,
   "metadata": {},
   "outputs": [],
   "source": [
    "# pick some common names\n",
    "common_names = (group_names\n",
    "                .sort_values('Total', ascending=False)\n",
    "                .head(names_to_include)\n",
    "               )\n",
    "common_names.head(10)"
   ]
  }
 ],
 "metadata": {
  "kernelspec": {
   "display_name": "Python 3 (ipykernel)",
   "language": "python",
   "name": "python3"
  },
  "language_info": {
   "codemirror_mode": {
    "name": "ipython",
    "version": 3
   },
   "file_extension": ".py",
   "mimetype": "text/x-python",
   "name": "python",
   "nbconvert_exporter": "python",
   "pygments_lexer": "ipython3",
   "version": "3.9.0"
  }
 },
 "nbformat": 4,
 "nbformat_minor": 4
}
