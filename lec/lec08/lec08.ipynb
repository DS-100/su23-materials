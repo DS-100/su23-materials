{
 "cells": [
  {
   "cell_type": "markdown",
   "id": "8848a155-69fb-4e89-b179-ebc52a2d9009",
   "metadata": {},
   "source": [
    "# Sampling\n",
    "\n",
    "Content credits on the [Acknowledgments Page](https://ds100.org/sp23/acks/).\n",
    "\n",
    "Updated by Dominic Liu"
   ]
  },
  {
   "cell_type": "code",
   "execution_count": 1,
   "id": "69c92aba-18f9-43d7-90a7-9c850375cbaf",
   "metadata": {},
   "outputs": [],
   "source": [
    "import matplotlib.pyplot as plt\n",
    "import numpy as np\n",
    "import pandas as pd\n",
    "import seaborn as sns\n",
    "\n",
    "sns.set_theme(style='darkgrid', font_scale = 1.5,\n",
    "              rc={'figure.figsize':(7,5)})\n",
    "\n",
    "rng = np.random.default_rng()"
   ]
  },
  {
   "cell_type": "markdown",
   "id": "6fc02f3c-6adc-445a-9419-cd0c1b264e62",
   "metadata": {
    "tags": []
   },
   "source": [
    "## Barbie v. Oppenheimer\n",
    "\n",
    "We are trying to collect a sample from Berkeley residents to predict the which one of Barbie and Oppenheimer would perform better on their opening day, July 21st.\n",
    "\n",
    "First, let's grab a dataset that has every single residents in Berkeley (this is a fake dataset) and which movie they **actually** watched on July 21st.\n",
    "\n",
    "For the purposes of this demo, assume:\n",
    "* `is_male` indicates if a resident identifies as male.\n",
    "* There are only two movies they can watch on July 21st: Barbie and Oppenheimer.\n",
    "* Every resident watches a movie (either Barbie or Oppenheimer) on July 21st.\n"
   ]
  },
  {
   "cell_type": "code",
   "execution_count": 2,
   "id": "143c1a2c-370c-42f9-b7f8-117b3b93d7f9",
   "metadata": {
    "tags": []
   },
   "outputs": [
    {
     "data": {
      "text/html": [
       "<div>\n",
       "<style scoped>\n",
       "    .dataframe tbody tr th:only-of-type {\n",
       "        vertical-align: middle;\n",
       "    }\n",
       "\n",
       "    .dataframe tbody tr th {\n",
       "        vertical-align: top;\n",
       "    }\n",
       "\n",
       "    .dataframe thead th {\n",
       "        text-align: right;\n",
       "    }\n",
       "</style>\n",
       "<table border=\"1\" class=\"dataframe\">\n",
       "  <thead>\n",
       "    <tr style=\"text-align: right;\">\n",
       "      <th></th>\n",
       "      <th>age</th>\n",
       "      <th>is_male</th>\n",
       "      <th>movie</th>\n",
       "      <th>barbie</th>\n",
       "    </tr>\n",
       "  </thead>\n",
       "  <tbody>\n",
       "    <tr>\n",
       "      <th>0</th>\n",
       "      <td>35</td>\n",
       "      <td>False</td>\n",
       "      <td>Barbie</td>\n",
       "      <td>1</td>\n",
       "    </tr>\n",
       "    <tr>\n",
       "      <th>1</th>\n",
       "      <td>42</td>\n",
       "      <td>True</td>\n",
       "      <td>Oppenheimer</td>\n",
       "      <td>0</td>\n",
       "    </tr>\n",
       "    <tr>\n",
       "      <th>2</th>\n",
       "      <td>55</td>\n",
       "      <td>False</td>\n",
       "      <td>Barbie</td>\n",
       "      <td>1</td>\n",
       "    </tr>\n",
       "    <tr>\n",
       "      <th>3</th>\n",
       "      <td>77</td>\n",
       "      <td>True</td>\n",
       "      <td>Oppenheimer</td>\n",
       "      <td>0</td>\n",
       "    </tr>\n",
       "    <tr>\n",
       "      <th>4</th>\n",
       "      <td>31</td>\n",
       "      <td>False</td>\n",
       "      <td>Barbie</td>\n",
       "      <td>1</td>\n",
       "    </tr>\n",
       "    <tr>\n",
       "      <th>...</th>\n",
       "      <td>...</td>\n",
       "      <td>...</td>\n",
       "      <td>...</td>\n",
       "      <td>...</td>\n",
       "    </tr>\n",
       "    <tr>\n",
       "      <th>1299995</th>\n",
       "      <td>62</td>\n",
       "      <td>True</td>\n",
       "      <td>Barbie</td>\n",
       "      <td>1</td>\n",
       "    </tr>\n",
       "    <tr>\n",
       "      <th>1299996</th>\n",
       "      <td>78</td>\n",
       "      <td>True</td>\n",
       "      <td>Oppenheimer</td>\n",
       "      <td>0</td>\n",
       "    </tr>\n",
       "    <tr>\n",
       "      <th>1299997</th>\n",
       "      <td>68</td>\n",
       "      <td>False</td>\n",
       "      <td>Oppenheimer</td>\n",
       "      <td>0</td>\n",
       "    </tr>\n",
       "    <tr>\n",
       "      <th>1299998</th>\n",
       "      <td>82</td>\n",
       "      <td>True</td>\n",
       "      <td>Oppenheimer</td>\n",
       "      <td>0</td>\n",
       "    </tr>\n",
       "    <tr>\n",
       "      <th>1299999</th>\n",
       "      <td>23</td>\n",
       "      <td>False</td>\n",
       "      <td>Barbie</td>\n",
       "      <td>1</td>\n",
       "    </tr>\n",
       "  </tbody>\n",
       "</table>\n",
       "<p>1300000 rows × 4 columns</p>\n",
       "</div>"
      ],
      "text/plain": [
       "         age  is_male        movie  barbie\n",
       "0         35    False       Barbie       1\n",
       "1         42     True  Oppenheimer       0\n",
       "2         55    False       Barbie       1\n",
       "3         77     True  Oppenheimer       0\n",
       "4         31    False       Barbie       1\n",
       "...      ...      ...          ...     ...\n",
       "1299995   62     True       Barbie       1\n",
       "1299996   78     True  Oppenheimer       0\n",
       "1299997   68    False  Oppenheimer       0\n",
       "1299998   82     True  Oppenheimer       0\n",
       "1299999   23    False       Barbie       1\n",
       "\n",
       "[1300000 rows x 4 columns]"
      ]
     },
     "execution_count": 2,
     "metadata": {},
     "output_type": "execute_result"
    }
   ],
   "source": [
    "movie = pd.read_csv(\"movie.csv\")\n",
    "\n",
    "# create a 1/0 int that indicates Barbie vote\n",
    "movie['barbie'] = (movie['movie'] == 'Barbie').astype(int)\n",
    "movie"
   ]
  },
  {
   "cell_type": "markdown",
   "id": "bc40ee2f-4849-4a5f-bca7-c05085a63229",
   "metadata": {},
   "source": [
    "What fraction of Berkeley residents chose Barbie?"
   ]
  },
  {
   "cell_type": "code",
   "execution_count": 3,
   "id": "16c4d531-8207-4f2a-99b1-9276eb70feef",
   "metadata": {},
   "outputs": [
    {
     "data": {
      "text/plain": [
       "0.5302792307692308"
      ]
     },
     "execution_count": 3,
     "metadata": {},
     "output_type": "execute_result"
    }
   ],
   "source": [
    "actual_barbie = np.mean(movie[\"barbie\"])\n",
    "actual_barbie"
   ]
  },
  {
   "cell_type": "markdown",
   "id": "43d2a184-f19f-4612-b441-83197cd7c994",
   "metadata": {},
   "source": [
    "This is the **actual outcome** of the competition. Based on this result, Barbie would win. How did our sample of retirees do?"
   ]
  },
  {
   "cell_type": "markdown",
   "id": "08b7b196-d446-4cb7-9381-5e5d841c4c46",
   "metadata": {},
   "source": [
    "## Convenience sample: retirees"
   ]
  },
  {
   "cell_type": "code",
   "execution_count": 4,
   "id": "82557452-d991-4815-9452-7708a3e96eca",
   "metadata": {},
   "outputs": [
    {
     "data": {
      "text/plain": [
       "0.3744755089093924"
      ]
     },
     "execution_count": 4,
     "metadata": {},
     "output_type": "execute_result"
    }
   ],
   "source": [
    "convenience_sample = movie[movie['age'] >= 65]\n",
    "np.mean(convenience_sample[\"barbie\"])"
   ]
  },
  {
   "cell_type": "markdown",
   "id": "118fc64a-ee4c-49ef-8e97-0c48d72c7c2e",
   "metadata": {},
   "source": [
    "Based on this result, we would have predicted that Oppenheimer would win! What happened?"
   ]
  },
  {
   "cell_type": "markdown",
   "id": "766bdf34-bcbb-43fe-a797-5b7065aa0e91",
   "metadata": {},
   "source": [
    "### Chance error?\n",
    "\n",
    "Is the sample too small / noisy?"
   ]
  },
  {
   "cell_type": "code",
   "execution_count": 5,
   "id": "81e06573-8521-4deb-88ef-64206154217e",
   "metadata": {},
   "outputs": [
    {
     "data": {
      "text/plain": [
       "359396"
      ]
     },
     "execution_count": 5,
     "metadata": {},
     "output_type": "execute_result"
    }
   ],
   "source": [
    "len(convenience_sample)"
   ]
  },
  {
   "cell_type": "code",
   "execution_count": 6,
   "id": "ad2dc4cb-b41b-463b-a692-a4670274dfe3",
   "metadata": {},
   "outputs": [
    {
     "data": {
      "text/plain": [
       "0.27645846153846154"
      ]
     },
     "execution_count": 6,
     "metadata": {},
     "output_type": "execute_result"
    }
   ],
   "source": [
    "len(convenience_sample)/len(movie)"
   ]
  },
  {
   "cell_type": "markdown",
   "id": "1561f990-b766-49e2-8ad7-491201450351",
   "metadata": {},
   "source": [
    "Seems really large, so the error is definitely not solely chance error. There is some bias afoot."
   ]
  },
  {
   "cell_type": "markdown",
   "id": "a4cccfcf-6252-4c25-9f56-b39b13401bd4",
   "metadata": {},
   "source": [
    "### Check for bias"
   ]
  },
  {
   "cell_type": "markdown",
   "id": "05b6e116-391e-4e67-be25-c463d12723ee",
   "metadata": {},
   "source": [
    "Let us aggregate all choices by age and visualize the fraction of Barbie views, split by gender."
   ]
  },
  {
   "cell_type": "code",
   "execution_count": 8,
   "id": "02d1e1ff-13d0-4e08-a3ac-ddb5537b209e",
   "metadata": {},
   "outputs": [
    {
     "data": {
      "text/html": [
       "<div>\n",
       "<style scoped>\n",
       "    .dataframe tbody tr th:only-of-type {\n",
       "        vertical-align: middle;\n",
       "    }\n",
       "\n",
       "    .dataframe tbody tr th {\n",
       "        vertical-align: top;\n",
       "    }\n",
       "\n",
       "    .dataframe thead th {\n",
       "        text-align: right;\n",
       "    }\n",
       "</style>\n",
       "<table border=\"1\" class=\"dataframe\">\n",
       "  <thead>\n",
       "    <tr style=\"text-align: right;\">\n",
       "      <th></th>\n",
       "      <th>age</th>\n",
       "      <th>is_male</th>\n",
       "      <th>barbie</th>\n",
       "    </tr>\n",
       "  </thead>\n",
       "  <tbody>\n",
       "    <tr>\n",
       "      <th>0</th>\n",
       "      <td>18</td>\n",
       "      <td>False</td>\n",
       "      <td>0.819594</td>\n",
       "    </tr>\n",
       "    <tr>\n",
       "      <th>1</th>\n",
       "      <td>18</td>\n",
       "      <td>True</td>\n",
       "      <td>0.667001</td>\n",
       "    </tr>\n",
       "    <tr>\n",
       "      <th>2</th>\n",
       "      <td>19</td>\n",
       "      <td>False</td>\n",
       "      <td>0.812214</td>\n",
       "    </tr>\n",
       "    <tr>\n",
       "      <th>3</th>\n",
       "      <td>19</td>\n",
       "      <td>True</td>\n",
       "      <td>0.661252</td>\n",
       "    </tr>\n",
       "    <tr>\n",
       "      <th>4</th>\n",
       "      <td>20</td>\n",
       "      <td>False</td>\n",
       "      <td>0.805281</td>\n",
       "    </tr>\n",
       "    <tr>\n",
       "      <th>...</th>\n",
       "      <td>...</td>\n",
       "      <td>...</td>\n",
       "      <td>...</td>\n",
       "    </tr>\n",
       "    <tr>\n",
       "      <th>125</th>\n",
       "      <td>80</td>\n",
       "      <td>True</td>\n",
       "      <td>0.259731</td>\n",
       "    </tr>\n",
       "    <tr>\n",
       "      <th>126</th>\n",
       "      <td>81</td>\n",
       "      <td>False</td>\n",
       "      <td>0.394946</td>\n",
       "    </tr>\n",
       "    <tr>\n",
       "      <th>127</th>\n",
       "      <td>81</td>\n",
       "      <td>True</td>\n",
       "      <td>0.256759</td>\n",
       "    </tr>\n",
       "    <tr>\n",
       "      <th>128</th>\n",
       "      <td>82</td>\n",
       "      <td>False</td>\n",
       "      <td>0.398970</td>\n",
       "    </tr>\n",
       "    <tr>\n",
       "      <th>129</th>\n",
       "      <td>82</td>\n",
       "      <td>True</td>\n",
       "      <td>0.248060</td>\n",
       "    </tr>\n",
       "  </tbody>\n",
       "</table>\n",
       "<p>130 rows × 3 columns</p>\n",
       "</div>"
      ],
      "text/plain": [
       "     age  is_male    barbie\n",
       "0     18    False  0.819594\n",
       "1     18     True  0.667001\n",
       "2     19    False  0.812214\n",
       "3     19     True  0.661252\n",
       "4     20    False  0.805281\n",
       "..   ...      ...       ...\n",
       "125   80     True  0.259731\n",
       "126   81    False  0.394946\n",
       "127   81     True  0.256759\n",
       "128   82    False  0.398970\n",
       "129   82     True  0.248060\n",
       "\n",
       "[130 rows x 3 columns]"
      ]
     },
     "execution_count": 8,
     "metadata": {},
     "output_type": "execute_result"
    }
   ],
   "source": [
    "votes_by_barbie = movie.groupby([\"age\",\"is_male\"]).agg(\"mean\").reset_index()\n",
    "votes_by_barbie"
   ]
  },
  {
   "cell_type": "code",
   "execution_count": 9,
   "id": "0ede26e2-0a87-48ce-af49-6acd98af1357",
   "metadata": {},
   "outputs": [
    {
     "data": {
      "image/png": "[encoded data removed]",
      "text/plain": [
       "<Figure size 700x500 with 1 Axes>"
      ]
     },
     "metadata": {},
     "output_type": "display_data"
    }
   ],
   "source": [
    "import matplotlib.ticker as ticker\n",
    "fig = plt.figure();\n",
    "red_blue = [\"#bf1518\", \"#397eb7\"]\n",
    "with sns.color_palette(sns.color_palette(red_blue)):\n",
    "    ax = sns.pointplot(data=votes_by_barbie, x = \"age\", y = \"barbie\", hue = \"is_male\")\n",
    "\n",
    "ax.set_title(\"Preferences by Demographics\")\n",
    "fig.canvas.draw()\n",
    "new_ticks = [i.get_text() for i in ax.get_xticklabels()];\n",
    "plt.xticks(range(0, len(new_ticks), 10), new_ticks[::10]);\n"
   ]
  },
  {
   "cell_type": "markdown",
   "id": "a3734e93-bcf8-4c74-b19f-dae29f2a85bd",
   "metadata": {},
   "source": [
    "* We see that retirees (in Berkeley) tend to watch Oppenheimer.\n",
    "* We also see that residents who identify as non-male tend to prefer Barbie."
   ]
  },
  {
   "cell_type": "markdown",
   "id": "e85c9a04-c048-4fda-95b2-9415446c4966",
   "metadata": {},
   "source": [
    "## Simple Random Sample"
   ]
  },
  {
   "cell_type": "markdown",
   "id": "b2ed52f3-8683-4d54-85ba-efb5c53d7663",
   "metadata": {},
   "source": [
    "What if we instead took a simple random sample (SRS) to collect our sample?\n",
    "\n",
    "Suppose we took an SRS of the same size as our retiree sample:"
   ]
  },
  {
   "cell_type": "code",
   "execution_count": 10,
   "id": "76e18d6e-f0d4-412f-9c06-45c186c7f5c1",
   "metadata": {},
   "outputs": [
    {
     "data": {
      "text/plain": [
       "0.5295662723013055"
      ]
     },
     "execution_count": 10,
     "metadata": {},
     "output_type": "execute_result"
    }
   ],
   "source": [
    "## By default, replace = False\n",
    "n = len(convenience_sample)\n",
    "random_sample = movie.sample(n, replace = False)\n",
    "\n",
    "np.mean(random_sample[\"barbie\"])"
   ]
  },
  {
   "cell_type": "markdown",
   "id": "ba801f5d-6476-4ea9-a795-c2baf2917d4b",
   "metadata": {},
   "source": [
    "This is very close to the actual vote!"
   ]
  },
  {
   "cell_type": "code",
   "execution_count": 11,
   "id": "e8e3bcdd-9b97-4d62-9bf2-3844b705c84b",
   "metadata": {},
   "outputs": [
    {
     "data": {
      "text/plain": [
       "0.5302792307692308"
      ]
     },
     "execution_count": 11,
     "metadata": {},
     "output_type": "execute_result"
    }
   ],
   "source": [
    "actual_barbie"
   ]
  },
  {
   "cell_type": "markdown",
   "id": "2938ff0e-6951-414f-b7e2-864aff5e10bc",
   "metadata": {},
   "source": [
    "It turns out that we can get similar results with a **much smaller sample size**, say, 800:"
   ]
  },
  {
   "cell_type": "code",
   "execution_count": 12,
   "id": "231149d1-57ac-4424-aa8a-d20798fa23b5",
   "metadata": {},
   "outputs": [
    {
     "data": {
      "text/plain": [
       "0.51875"
      ]
     },
     "execution_count": 12,
     "metadata": {},
     "output_type": "execute_result"
    }
   ],
   "source": [
    "n = 800\n",
    "random_sample = movie.sample(n, replace = False)\n",
    "np.mean(random_sample[\"barbie\"])"
   ]
  },
  {
   "cell_type": "markdown",
   "id": "d8358d76-0626-4a28-be7d-169a734b7a8b",
   "metadata": {},
   "source": [
    "We'll learn how to choose this number when we (re)learn the Central Limit Theorem later in the semester."
   ]
  },
  {
   "cell_type": "markdown",
   "id": "6bca35a6-2c3a-4cc6-9825-ff87a133c604",
   "metadata": {},
   "source": [
    "### Quantifying chance error"
   ]
  },
  {
   "cell_type": "markdown",
   "id": "a11f189c-41f9-4a97-a8e3-1265d25c1761",
   "metadata": {},
   "source": [
    "In our SRS of size 800, what would be our chance error?\n",
    "\n",
    "Let's simulate 1000 versions of taking the 800-sized SRS from before:"
   ]
  },
  {
   "cell_type": "code",
   "execution_count": 13,
   "id": "56ad3032-fed5-42f4-b5cf-3da7560be2e7",
   "metadata": {},
   "outputs": [],
   "source": [
    "nrep = 1000   # number of simulations\n",
    "n = 800       # size of our sample\n",
    "poll_result = []\n",
    "for i in range(0, nrep):\n",
    "    random_sample = movie.sample(n, replace = False)\n",
    "    poll_result.append(np.mean(random_sample[\"barbie\"]))"
   ]
  },
  {
   "cell_type": "code",
   "execution_count": 14,
   "id": "2af7aee4-f15a-438c-b076-4ff967910053",
   "metadata": {},
   "outputs": [
    {
     "data": {
      "image/png": "[encoded data removed]",
      "text/plain": [
       "<Figure size 700x500 with 1 Axes>"
      ]
     },
     "metadata": {},
     "output_type": "display_data"
    }
   ],
   "source": [
    "sns.histplot(poll_result, stat='density');"
   ]
  },
  {
   "cell_type": "markdown",
   "id": "b95fd263-8320-48ea-b1b3-b5147a0fbba1",
   "metadata": {},
   "source": [
    "What fraction of these simulated samples would have predicted Barbie?"
   ]
  },
  {
   "cell_type": "code",
   "execution_count": 15,
   "id": "22ab6384-0d07-44fc-9e95-a6632b8a2eef",
   "metadata": {},
   "outputs": [
    {
     "data": {
      "text/plain": [
       "0.945"
      ]
     },
     "execution_count": 15,
     "metadata": {},
     "output_type": "execute_result"
    }
   ],
   "source": [
    "poll_result = pd.Series(poll_result)\n",
    "np.sum(poll_result > 0.5)/1000"
   ]
  },
  {
   "cell_type": "markdown",
   "id": "a27867ba-7e41-4a5b-8eb2-9fde62317ff5",
   "metadata": {},
   "source": [
    "You can see the curve looks roughly Gaussian/normal. Using KDE:"
   ]
  },
  {
   "cell_type": "code",
   "execution_count": 16,
   "id": "be1f358c-222a-493c-a11c-7552f2d9d18b",
   "metadata": {},
   "outputs": [
    {
     "data": {
      "image/png": "[encoded data removed]",
      "text/plain": [
       "<Figure size 700x500 with 1 Axes>"
      ]
     },
     "metadata": {},
     "output_type": "display_data"
    }
   ],
   "source": [
    "sns.histplot(poll_result, stat='density', kde=True);"
   ]
  },
  {
   "cell_type": "markdown",
   "id": "b5772aaa-42b1-4788-bcc1-485b2a126cab",
   "metadata": {},
   "source": [
    "---\n",
    "\n",
    "## Simulating from a Multinomial Distribution"
   ]
  },
  {
   "cell_type": "markdown",
   "id": "e554bff2-94b2-4fae-83b9-47783f065029",
   "metadata": {},
   "source": [
    "Sometimes instead of having individual reports in the population, we have **aggregate** statistics. For example, we could have only learned that 53\\% of election voters voted Democrat. Even so, we can still simulate probability samples if we assume the population is large.\n",
    "\n",
    "Specifically, we can use **multinomial** probabilities to simulate random samples **with replacement**."
   ]
  },
  {
   "cell_type": "markdown",
   "id": "c3cbab5e-ebeb-423b-a036-1a4b158b3b55",
   "metadata": {},
   "source": [
    "### Marbles"
   ]
  },
  {
   "cell_type": "markdown",
   "id": "08f20ae4-2a09-49af-917a-8a0a1e09ef70",
   "metadata": {},
   "source": [
    "Suppose we have a very large bag of marbles with the following statistics:\n",
    "* 60\\% blue\n",
    "* 30\\% green\n",
    "* 10\\% red\n",
    "\n",
    "We then draw 100 marbles from this bag at random with replacement."
   ]
  },
  {
   "cell_type": "code",
   "execution_count": 18,
   "id": "74a56536-ce12-4bef-ad57-d7961b849ece",
   "metadata": {},
   "outputs": [
    {
     "data": {
      "text/plain": [
       "array([56, 36,  8])"
      ]
     },
     "execution_count": 18,
     "metadata": {},
     "output_type": "execute_result"
    }
   ],
   "source": [
    "np.random.multinomial(n = 100, pvals = [0.60, 0.30, 0.10])"
   ]
  },
  {
   "cell_type": "markdown",
   "id": "c478514a-d1ff-4f2e-9226-f4a3c5f23de8",
   "metadata": {},
   "source": [
    "We can repeat this simulation multiple times, say 20:"
   ]
  },
  {
   "cell_type": "code",
   "execution_count": 19,
   "id": "9eafdf83-7f92-411a-92de-4ffc5525bba9",
   "metadata": {},
   "outputs": [
    {
     "data": {
      "text/plain": [
       "array([[56, 35,  9],\n",
       "       [59, 32,  9],\n",
       "       [63, 30,  7],\n",
       "       [59, 31, 10],\n",
       "       [56, 35,  9],\n",
       "       [65, 29,  6],\n",
       "       [54, 34, 12],\n",
       "       [58, 29, 13],\n",
       "       [57, 34,  9],\n",
       "       [58, 35,  7],\n",
       "       [66, 25,  9],\n",
       "       [60, 27, 13],\n",
       "       [58, 28, 14],\n",
       "       [69, 23,  8],\n",
       "       [53, 31, 16],\n",
       "       [74, 24,  2],\n",
       "       [58, 36,  6],\n",
       "       [66, 26,  8],\n",
       "       [65, 28,  7],\n",
       "       [57, 33, 10]])"
      ]
     },
     "execution_count": 19,
     "metadata": {},
     "output_type": "execute_result"
    }
   ],
   "source": [
    "np.random.multinomial(100, [0.60, 0.30, 0.10], size=20)"
   ]
  },
  {
   "cell_type": "code",
   "execution_count": null,
   "id": "77b0d92d-cfbe-484d-b694-14a6267fb3a4",
   "metadata": {},
   "outputs": [],
   "source": []
  }
 ],
 "metadata": {
  "kernelspec": {
   "display_name": "Python 3 (ipykernel)",
   "language": "python",
   "name": "python3"
  },
  "language_info": {
   "codemirror_mode": {
    "name": "ipython",
    "version": 3
   },
   "file_extension": ".py",
   "mimetype": "text/x-python",
   "name": "python",
   "nbconvert_exporter": "python",
   "pygments_lexer": "ipython3",
   "version": "3.9.0"
  }
 },
 "nbformat": 4,
 "nbformat_minor": 5
}
