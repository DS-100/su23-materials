{
 "cells": [
  {
   "cell_type": "markdown",
   "metadata": {
    "tags": []
   },
   "source": [
    "# Multiple Linear Regression (Ordinary Least Squares)\n",
    "\n",
    "\n",
    "Content credits on [Acknowledgments Page](https://ds100.org/su23/acks/)\n"
   ]
  },
  {
   "cell_type": "code",
   "execution_count": 17,
   "metadata": {},
   "outputs": [],
   "source": [
    "import numpy as np\n",
    "import pandas as pd\n",
    "import matplotlib.pyplot as plt\n",
    "%matplotlib inline\n",
    "import seaborn as sns\n",
    "import plotly.express as px\n",
    "import plotly.graph_objs as go"
   ]
  },
  {
   "cell_type": "markdown",
   "metadata": {},
   "source": [
    "## Multiple Linear Regression"
   ]
  },
  {
   "cell_type": "markdown",
   "metadata": {},
   "source": [
    "Let's load in a new dataset. This is aggregate per-player data from the 2018-19 NBA season, downloaded from [Kaggle](https://www.kaggle.com/schmadam97/nba-regular-season-stats-20182019)."
   ]
  },
  {
   "cell_type": "code",
   "execution_count": 18,
   "metadata": {},
   "outputs": [],
   "source": [
    "nba = pd.read_csv('nba18-19.csv', index_col=0)\n",
    "nba.index.name = None # Drops name of index (players are ordered by rank)"
   ]
  },
  {
   "cell_type": "code",
   "execution_count": 19,
   "metadata": {},
   "outputs": [
    {
     "data": {
      "text/html": [
       "<div>\n",
       "<style scoped>\n",
       "    .dataframe tbody tr th:only-of-type {\n",
       "        vertical-align: middle;\n",
       "    }\n",
       "\n",
       "    .dataframe tbody tr th {\n",
       "        vertical-align: top;\n",
       "    }\n",
       "\n",
       "    .dataframe thead th {\n",
       "        text-align: right;\n",
       "    }\n",
       "</style>\n",
       "<table border=\"1\" class=\"dataframe\">\n",
       "  <thead>\n",
       "    <tr style=\"text-align: right;\">\n",
       "      <th></th>\n",
       "      <th>Player</th>\n",
       "      <th>Pos</th>\n",
       "      <th>Age</th>\n",
       "      <th>Tm</th>\n",
       "      <th>G</th>\n",
       "      <th>GS</th>\n",
       "      <th>MP</th>\n",
       "      <th>FG</th>\n",
       "      <th>FGA</th>\n",
       "      <th>FG%</th>\n",
       "      <th>...</th>\n",
       "      <th>FT%</th>\n",
       "      <th>ORB</th>\n",
       "      <th>DRB</th>\n",
       "      <th>TRB</th>\n",
       "      <th>AST</th>\n",
       "      <th>STL</th>\n",
       "      <th>BLK</th>\n",
       "      <th>TOV</th>\n",
       "      <th>PF</th>\n",
       "      <th>PTS</th>\n",
       "    </tr>\n",
       "  </thead>\n",
       "  <tbody>\n",
       "    <tr>\n",
       "      <th>1</th>\n",
       "      <td>Álex Abrines\\abrinal01</td>\n",
       "      <td>SG</td>\n",
       "      <td>25</td>\n",
       "      <td>OKC</td>\n",
       "      <td>31</td>\n",
       "      <td>2</td>\n",
       "      <td>19.0</td>\n",
       "      <td>1.8</td>\n",
       "      <td>5.1</td>\n",
       "      <td>0.357</td>\n",
       "      <td>...</td>\n",
       "      <td>0.923</td>\n",
       "      <td>0.2</td>\n",
       "      <td>1.4</td>\n",
       "      <td>1.5</td>\n",
       "      <td>0.6</td>\n",
       "      <td>0.5</td>\n",
       "      <td>0.2</td>\n",
       "      <td>0.5</td>\n",
       "      <td>1.7</td>\n",
       "      <td>5.3</td>\n",
       "    </tr>\n",
       "    <tr>\n",
       "      <th>2</th>\n",
       "      <td>Quincy Acy\\acyqu01</td>\n",
       "      <td>PF</td>\n",
       "      <td>28</td>\n",
       "      <td>PHO</td>\n",
       "      <td>10</td>\n",
       "      <td>0</td>\n",
       "      <td>12.3</td>\n",
       "      <td>0.4</td>\n",
       "      <td>1.8</td>\n",
       "      <td>0.222</td>\n",
       "      <td>...</td>\n",
       "      <td>0.700</td>\n",
       "      <td>0.3</td>\n",
       "      <td>2.2</td>\n",
       "      <td>2.5</td>\n",
       "      <td>0.8</td>\n",
       "      <td>0.1</td>\n",
       "      <td>0.4</td>\n",
       "      <td>0.4</td>\n",
       "      <td>2.4</td>\n",
       "      <td>1.7</td>\n",
       "    </tr>\n",
       "    <tr>\n",
       "      <th>3</th>\n",
       "      <td>Jaylen Adams\\adamsja01</td>\n",
       "      <td>PG</td>\n",
       "      <td>22</td>\n",
       "      <td>ATL</td>\n",
       "      <td>34</td>\n",
       "      <td>1</td>\n",
       "      <td>12.6</td>\n",
       "      <td>1.1</td>\n",
       "      <td>3.2</td>\n",
       "      <td>0.345</td>\n",
       "      <td>...</td>\n",
       "      <td>0.778</td>\n",
       "      <td>0.3</td>\n",
       "      <td>1.4</td>\n",
       "      <td>1.8</td>\n",
       "      <td>1.9</td>\n",
       "      <td>0.4</td>\n",
       "      <td>0.1</td>\n",
       "      <td>0.8</td>\n",
       "      <td>1.3</td>\n",
       "      <td>3.2</td>\n",
       "    </tr>\n",
       "    <tr>\n",
       "      <th>4</th>\n",
       "      <td>Steven Adams\\adamsst01</td>\n",
       "      <td>C</td>\n",
       "      <td>25</td>\n",
       "      <td>OKC</td>\n",
       "      <td>80</td>\n",
       "      <td>80</td>\n",
       "      <td>33.4</td>\n",
       "      <td>6.0</td>\n",
       "      <td>10.1</td>\n",
       "      <td>0.595</td>\n",
       "      <td>...</td>\n",
       "      <td>0.500</td>\n",
       "      <td>4.9</td>\n",
       "      <td>4.6</td>\n",
       "      <td>9.5</td>\n",
       "      <td>1.6</td>\n",
       "      <td>1.5</td>\n",
       "      <td>1.0</td>\n",
       "      <td>1.7</td>\n",
       "      <td>2.6</td>\n",
       "      <td>13.9</td>\n",
       "    </tr>\n",
       "    <tr>\n",
       "      <th>5</th>\n",
       "      <td>Bam Adebayo\\adebaba01</td>\n",
       "      <td>C</td>\n",
       "      <td>21</td>\n",
       "      <td>MIA</td>\n",
       "      <td>82</td>\n",
       "      <td>28</td>\n",
       "      <td>23.3</td>\n",
       "      <td>3.4</td>\n",
       "      <td>5.9</td>\n",
       "      <td>0.576</td>\n",
       "      <td>...</td>\n",
       "      <td>0.735</td>\n",
       "      <td>2.0</td>\n",
       "      <td>5.3</td>\n",
       "      <td>7.3</td>\n",
       "      <td>2.2</td>\n",
       "      <td>0.9</td>\n",
       "      <td>0.8</td>\n",
       "      <td>1.5</td>\n",
       "      <td>2.5</td>\n",
       "      <td>8.9</td>\n",
       "    </tr>\n",
       "  </tbody>\n",
       "</table>\n",
       "<p>5 rows × 29 columns</p>\n",
       "</div>"
      ],
      "text/plain": [
       "                   Player Pos  Age   Tm   G  GS    MP   FG   FGA    FG%  ...  \\\n",
       "1  Álex Abrines\\abrinal01  SG   25  OKC  31   2  19.0  1.8   5.1  0.357  ...   \n",
       "2      Quincy Acy\\acyqu01  PF   28  PHO  10   0  12.3  0.4   1.8  0.222  ...   \n",
       "3  Jaylen Adams\\adamsja01  PG   22  ATL  34   1  12.6  1.1   3.2  0.345  ...   \n",
       "4  Steven Adams\\adamsst01   C   25  OKC  80  80  33.4  6.0  10.1  0.595  ...   \n",
       "5   Bam Adebayo\\adebaba01   C   21  MIA  82  28  23.3  3.4   5.9  0.576  ...   \n",
       "\n",
       "     FT%  ORB  DRB  TRB  AST  STL  BLK  TOV   PF   PTS  \n",
       "1  0.923  0.2  1.4  1.5  0.6  0.5  0.2  0.5  1.7   5.3  \n",
       "2  0.700  0.3  2.2  2.5  0.8  0.1  0.4  0.4  2.4   1.7  \n",
       "3  0.778  0.3  1.4  1.8  1.9  0.4  0.1  0.8  1.3   3.2  \n",
       "4  0.500  4.9  4.6  9.5  1.6  1.5  1.0  1.7  2.6  13.9  \n",
       "5  0.735  2.0  5.3  7.3  2.2  0.9  0.8  1.5  2.5   8.9  \n",
       "\n",
       "[5 rows x 29 columns]"
      ]
     },
     "execution_count": 19,
     "metadata": {},
     "output_type": "execute_result"
    }
   ],
   "source": [
    "nba.head(5)"
   ]
  },
  {
   "cell_type": "markdown",
   "metadata": {},
   "source": [
    "<br/><br/>\n",
    "We are interested in predicting the number of points (`PTS`) an athlete will score in a basketball game from this season.\n",
    "\n",
    "Suppose we want to fit a linear model by using some characteristics, or **feature**s of a player. Specifically, we'll focus on field goals, assists, and 3 point attempts.\n",
    "\n",
    "- `FG`, the number of (2 point) field goals per game\n",
    "- `AST`, the average number of assists per game, and\n",
    "- `3PA`, the number of 3 point field goals attempted per game\n",
    "\n",
    "This is how we express that model:\n",
    "\n",
    "$$\n",
    "\\hat{y}\n",
    "=\n",
    "\\theta_0 + \n",
    "\\theta_1 \\cdot \\textbf{FG} +\n",
    "\\theta_2 \\cdot \\textbf{AST} +\n",
    "\\theta_3 \\cdot \\textbf{3PA} \n",
    "$$"
   ]
  },
  {
   "cell_type": "code",
   "execution_count": 20,
   "metadata": {},
   "outputs": [
    {
     "data": {
      "text/html": [
       "<div>\n",
       "<style scoped>\n",
       "    .dataframe tbody tr th:only-of-type {\n",
       "        vertical-align: middle;\n",
       "    }\n",
       "\n",
       "    .dataframe tbody tr th {\n",
       "        vertical-align: top;\n",
       "    }\n",
       "\n",
       "    .dataframe thead th {\n",
       "        text-align: right;\n",
       "    }\n",
       "</style>\n",
       "<table border=\"1\" class=\"dataframe\">\n",
       "  <thead>\n",
       "    <tr style=\"text-align: right;\">\n",
       "      <th></th>\n",
       "      <th>FG</th>\n",
       "      <th>AST</th>\n",
       "      <th>3PA</th>\n",
       "      <th>PTS</th>\n",
       "    </tr>\n",
       "  </thead>\n",
       "  <tbody>\n",
       "    <tr>\n",
       "      <th>1</th>\n",
       "      <td>1.8</td>\n",
       "      <td>0.6</td>\n",
       "      <td>4.1</td>\n",
       "      <td>5.3</td>\n",
       "    </tr>\n",
       "    <tr>\n",
       "      <th>2</th>\n",
       "      <td>0.4</td>\n",
       "      <td>0.8</td>\n",
       "      <td>1.5</td>\n",
       "      <td>1.7</td>\n",
       "    </tr>\n",
       "    <tr>\n",
       "      <th>3</th>\n",
       "      <td>1.1</td>\n",
       "      <td>1.9</td>\n",
       "      <td>2.2</td>\n",
       "      <td>3.2</td>\n",
       "    </tr>\n",
       "    <tr>\n",
       "      <th>4</th>\n",
       "      <td>6.0</td>\n",
       "      <td>1.6</td>\n",
       "      <td>0.0</td>\n",
       "      <td>13.9</td>\n",
       "    </tr>\n",
       "    <tr>\n",
       "      <th>5</th>\n",
       "      <td>3.4</td>\n",
       "      <td>2.2</td>\n",
       "      <td>0.2</td>\n",
       "      <td>8.9</td>\n",
       "    </tr>\n",
       "    <tr>\n",
       "      <th>...</th>\n",
       "      <td>...</td>\n",
       "      <td>...</td>\n",
       "      <td>...</td>\n",
       "      <td>...</td>\n",
       "    </tr>\n",
       "    <tr>\n",
       "      <th>528</th>\n",
       "      <td>4.0</td>\n",
       "      <td>0.8</td>\n",
       "      <td>0.0</td>\n",
       "      <td>11.5</td>\n",
       "    </tr>\n",
       "    <tr>\n",
       "      <th>529</th>\n",
       "      <td>3.1</td>\n",
       "      <td>0.9</td>\n",
       "      <td>0.0</td>\n",
       "      <td>7.8</td>\n",
       "    </tr>\n",
       "    <tr>\n",
       "      <th>530</th>\n",
       "      <td>3.6</td>\n",
       "      <td>1.1</td>\n",
       "      <td>0.0</td>\n",
       "      <td>8.9</td>\n",
       "    </tr>\n",
       "    <tr>\n",
       "      <th>530</th>\n",
       "      <td>3.4</td>\n",
       "      <td>0.8</td>\n",
       "      <td>0.0</td>\n",
       "      <td>8.5</td>\n",
       "    </tr>\n",
       "    <tr>\n",
       "      <th>530</th>\n",
       "      <td>3.8</td>\n",
       "      <td>1.5</td>\n",
       "      <td>0.0</td>\n",
       "      <td>9.4</td>\n",
       "    </tr>\n",
       "  </tbody>\n",
       "</table>\n",
       "<p>708 rows × 4 columns</p>\n",
       "</div>"
      ],
      "text/plain": [
       "      FG  AST  3PA   PTS\n",
       "1    1.8  0.6  4.1   5.3\n",
       "2    0.4  0.8  1.5   1.7\n",
       "3    1.1  1.9  2.2   3.2\n",
       "4    6.0  1.6  0.0  13.9\n",
       "5    3.4  2.2  0.2   8.9\n",
       "..   ...  ...  ...   ...\n",
       "528  4.0  0.8  0.0  11.5\n",
       "529  3.1  0.9  0.0   7.8\n",
       "530  3.6  1.1  0.0   8.9\n",
       "530  3.4  0.8  0.0   8.5\n",
       "530  3.8  1.5  0.0   9.4\n",
       "\n",
       "[708 rows x 4 columns]"
      ]
     },
     "execution_count": 20,
     "metadata": {},
     "output_type": "execute_result"
    }
   ],
   "source": [
    "nba[['FG', 'AST', '3PA', 'PTS']]"
   ]
  },
  {
   "cell_type": "markdown",
   "metadata": {},
   "source": [
    "<br/><br/>\n",
    "In lecture, we saw that the predictions for the entire data set $\\hat{\\mathbb{Y}}$ can be computed as:\n",
    "\n",
    "$$ \\Large\n",
    "\\hat{\\mathbb{Y}} = \\mathbb{X} \\theta  \n",
    "$$\n",
    "\n",
    "The **design matrix** $\\mathbb{X} \\in \\mathbb{R}^{n,d+1}$ has $n$ rows corresponding to each record in the dataset and $d+1$ columns corresponding to the original $d$ columns in the data plus an additional 1s column vector (**bias/intercept feature**).\n",
    "\n",
    "Let's build this design matrix using Pandas:"
   ]
  },
  {
   "cell_type": "code",
   "execution_count": 21,
   "metadata": {},
   "outputs": [
    {
     "data": {
      "text/html": [
       "<div>\n",
       "<style scoped>\n",
       "    .dataframe tbody tr th:only-of-type {\n",
       "        vertical-align: middle;\n",
       "    }\n",
       "\n",
       "    .dataframe tbody tr th {\n",
       "        vertical-align: top;\n",
       "    }\n",
       "\n",
       "    .dataframe thead th {\n",
       "        text-align: right;\n",
       "    }\n",
       "</style>\n",
       "<table border=\"1\" class=\"dataframe\">\n",
       "  <thead>\n",
       "    <tr style=\"text-align: right;\">\n",
       "      <th></th>\n",
       "      <th>Bias</th>\n",
       "      <th>FG</th>\n",
       "      <th>AST</th>\n",
       "      <th>3PA</th>\n",
       "    </tr>\n",
       "  </thead>\n",
       "  <tbody>\n",
       "    <tr>\n",
       "      <th>1</th>\n",
       "      <td>1</td>\n",
       "      <td>1.8</td>\n",
       "      <td>0.6</td>\n",
       "      <td>4.1</td>\n",
       "    </tr>\n",
       "    <tr>\n",
       "      <th>2</th>\n",
       "      <td>1</td>\n",
       "      <td>0.4</td>\n",
       "      <td>0.8</td>\n",
       "      <td>1.5</td>\n",
       "    </tr>\n",
       "    <tr>\n",
       "      <th>3</th>\n",
       "      <td>1</td>\n",
       "      <td>1.1</td>\n",
       "      <td>1.9</td>\n",
       "      <td>2.2</td>\n",
       "    </tr>\n",
       "    <tr>\n",
       "      <th>4</th>\n",
       "      <td>1</td>\n",
       "      <td>6.0</td>\n",
       "      <td>1.6</td>\n",
       "      <td>0.0</td>\n",
       "    </tr>\n",
       "    <tr>\n",
       "      <th>5</th>\n",
       "      <td>1</td>\n",
       "      <td>3.4</td>\n",
       "      <td>2.2</td>\n",
       "      <td>0.2</td>\n",
       "    </tr>\n",
       "    <tr>\n",
       "      <th>...</th>\n",
       "      <td>...</td>\n",
       "      <td>...</td>\n",
       "      <td>...</td>\n",
       "      <td>...</td>\n",
       "    </tr>\n",
       "    <tr>\n",
       "      <th>528</th>\n",
       "      <td>1</td>\n",
       "      <td>4.0</td>\n",
       "      <td>0.8</td>\n",
       "      <td>0.0</td>\n",
       "    </tr>\n",
       "    <tr>\n",
       "      <th>529</th>\n",
       "      <td>1</td>\n",
       "      <td>3.1</td>\n",
       "      <td>0.9</td>\n",
       "      <td>0.0</td>\n",
       "    </tr>\n",
       "    <tr>\n",
       "      <th>530</th>\n",
       "      <td>1</td>\n",
       "      <td>3.6</td>\n",
       "      <td>1.1</td>\n",
       "      <td>0.0</td>\n",
       "    </tr>\n",
       "    <tr>\n",
       "      <th>530</th>\n",
       "      <td>1</td>\n",
       "      <td>3.4</td>\n",
       "      <td>0.8</td>\n",
       "      <td>0.0</td>\n",
       "    </tr>\n",
       "    <tr>\n",
       "      <th>530</th>\n",
       "      <td>1</td>\n",
       "      <td>3.8</td>\n",
       "      <td>1.5</td>\n",
       "      <td>0.0</td>\n",
       "    </tr>\n",
       "  </tbody>\n",
       "</table>\n",
       "<p>708 rows × 4 columns</p>\n",
       "</div>"
      ],
      "text/plain": [
       "     Bias   FG  AST  3PA\n",
       "1       1  1.8  0.6  4.1\n",
       "2       1  0.4  0.8  1.5\n",
       "3       1  1.1  1.9  2.2\n",
       "4       1  6.0  1.6  0.0\n",
       "5       1  3.4  2.2  0.2\n",
       "..    ...  ...  ...  ...\n",
       "528     1  4.0  0.8  0.0\n",
       "529     1  3.1  0.9  0.0\n",
       "530     1  3.6  1.1  0.0\n",
       "530     1  3.4  0.8  0.0\n",
       "530     1  3.8  1.5  0.0\n",
       "\n",
       "[708 rows x 4 columns]"
      ]
     },
     "execution_count": 21,
     "metadata": {},
     "output_type": "execute_result"
    }
   ],
   "source": [
    "X = nba[['FG', 'AST', '3PA']]\n",
    "X.insert(0, 'Bias', 1)\n",
    "X"
   ]
  },
  {
   "cell_type": "code",
   "execution_count": 22,
   "metadata": {},
   "outputs": [
    {
     "data": {
      "text/plain": [
       "(708, 4)"
      ]
     },
     "execution_count": 22,
     "metadata": {},
     "output_type": "execute_result"
    }
   ],
   "source": [
    "X = X.to_numpy()\n",
    "X.shape"
   ]
  },
  {
   "cell_type": "markdown",
   "metadata": {},
   "source": [
    "While we're at it, let's build the $\\mathbb{Y}$ vector of our true `PTS` values."
   ]
  },
  {
   "cell_type": "code",
   "execution_count": 23,
   "metadata": {},
   "outputs": [
    {
     "name": "stdout",
     "output_type": "stream",
     "text": [
      "number datapoints 708\n"
     ]
    },
    {
     "data": {
      "text/plain": [
       "array([[ 5.3],\n",
       "       [ 1.7],\n",
       "       [ 3.2],\n",
       "       [13.9],\n",
       "       [ 8.9]])"
      ]
     },
     "execution_count": 23,
     "metadata": {},
     "output_type": "execute_result"
    }
   ],
   "source": [
    "# For nba data\n",
    "Y = nba[[\"PTS\"]].to_numpy()\n",
    "n = len(Y)\n",
    "print(\"number datapoints\", n)\n",
    "Y[:5]"
   ]
  },
  {
   "cell_type": "markdown",
   "metadata": {},
   "source": [
    "---\n",
    "## Example prediction\n",
    "\n",
    "Suppose we decide to pick an arbitrary parameter $\\theta$:\n",
    "\n",
    "$$\\theta = \\begin{bmatrix}0.50 \\\\ -0.14 \\\\ 0.65 \\\\ 1.52 \\end{bmatrix}$$\n",
    "\n",
    "(For those interested: I drew these from random values simulated from a standard normal distribution using `np.random.randn`.)"
   ]
  },
  {
   "cell_type": "code",
   "execution_count": 24,
   "metadata": {},
   "outputs": [
    {
     "data": {
      "text/plain": [
       "array([[ 0.5 ],\n",
       "       [-1.14],\n",
       "       [ 0.65],\n",
       "       [ 1.52]])"
      ]
     },
     "execution_count": 24,
     "metadata": {},
     "output_type": "execute_result"
    }
   ],
   "source": [
    "theta_arbitrary = np.array([[0.5], [-1.14], [0.65], [1.52]])\n",
    "theta_arbitrary"
   ]
  },
  {
   "cell_type": "markdown",
   "metadata": {},
   "source": [
    "For this value of $\\theta$ we can make a prediction using our model with matrix multiplication.\n",
    "\n",
    "The `@` symbol is the matrix multiply operation and is equivalent to writing `xt.dot(theta)`."
   ]
  },
  {
   "cell_type": "code",
   "execution_count": 25,
   "metadata": {},
   "outputs": [
    {
     "data": {
      "text/plain": [
       "array([[ 5.07 ],\n",
       "       [ 2.844],\n",
       "       [ 3.825],\n",
       "       [-5.3  ],\n",
       "       [-1.642]])"
      ]
     },
     "metadata": {},
     "output_type": "display_data"
    },
    {
     "data": {
      "text/plain": [
       "array([[ 5.3],\n",
       "       [ 1.7],\n",
       "       [ 3.2],\n",
       "       [13.9],\n",
       "       [ 8.9]])"
      ]
     },
     "metadata": {},
     "output_type": "display_data"
    }
   ],
   "source": [
    "display((X @ theta_arbitrary)[:5])\n",
    "\n",
    "display(Y[:5])"
   ]
  },
  {
   "cell_type": "markdown",
   "metadata": {},
   "source": [
    "## Computing MSE\n",
    "\n",
    "For Ordinary Least Squares, the average loss is MSE:\n",
    "\n",
    "$$ \\Large R(\\theta) = \\frac{1}{n} || \\mathbb{Y} - \\mathbb{X}\\theta||^2_2 $$\n",
    "\n",
    "NumPy has a handy function `np.linalg.norm` that computes the norm of a matrix (default is L2 norm)."
   ]
  },
  {
   "cell_type": "code",
   "execution_count": 26,
   "metadata": {},
   "outputs": [
    {
     "data": {
      "text/plain": [
       "57637.9018454746"
      ]
     },
     "execution_count": 26,
     "metadata": {},
     "output_type": "execute_result"
    }
   ],
   "source": [
    "theta_arbitrary = np.array([0.5, -1.14, 0.65, 1.52])\n",
    "def mse_nba(theta):\n",
    "    \"\"\"\n",
    "    Y is PTS\n",
    "    X is intercept, FG, AST, 3PA\n",
    "    \"\"\"\n",
    "    return (1/n) * (np.linalg.norm(Y - X @ theta) ** 2)\n",
    "\n",
    "theta_arbitrary\n",
    "mse_nba(theta_arbitrary)"
   ]
  },
  {
   "cell_type": "markdown",
   "metadata": {},
   "source": [
    "Is this good? Is this bad? Let's compute the optimal theta and compare!"
   ]
  },
  {
   "cell_type": "markdown",
   "metadata": {},
   "source": [
    "---\n",
    "## Implementing Least Squares\n",
    "\n",
    "From lecture, the Least Squares Estimate $\\hat{\\theta}$ is:\n",
    "$$\n",
    "\\Large \\hat{\\theta} = \\left( \\mathbb{X}^{\\top} \\mathbb{X} \\right)^{-1} \\mathbb{X}^{\\top} \\mathbb{Y}\n",
    "$$"
   ]
  },
  {
   "cell_type": "markdown",
   "metadata": {},
   "source": [
    "While it is not as numerically stable or efficient. We can compute $\\hat{\\theta}$ by direction using matrix inversion.  To do this, we import the `inv` function for the numpy linear algebra library:"
   ]
  },
  {
   "cell_type": "code",
   "execution_count": 27,
   "metadata": {},
   "outputs": [],
   "source": [
    "from numpy.linalg import inv"
   ]
  },
  {
   "cell_type": "code",
   "execution_count": 28,
   "metadata": {},
   "outputs": [
    {
     "data": {
      "text/plain": [
       "array([[-0.29253798],\n",
       "       [ 2.51705703],\n",
       "       [ 0.05075571],\n",
       "       [ 0.31307653]])"
      ]
     },
     "execution_count": 28,
     "metadata": {},
     "output_type": "execute_result"
    }
   ],
   "source": [
    "def least_squares_estimate(X, Y):\n",
    "    return inv(X.T @ X) @ X.T @ Y\n",
    "\n",
    "theta_hat = least_squares_estimate(X, Y)\n",
    "theta_hat"
   ]
  },
  {
   "cell_type": "code",
   "execution_count": 29,
   "metadata": {},
   "outputs": [
    {
     "name": "stdout",
     "output_type": "stream",
     "text": [
      "Arbitrary theta MSE:  57637.9018454746\n",
      "Optimal theta MSE: 0.3963133329080335\n"
     ]
    }
   ],
   "source": [
    "print(\"Arbitrary theta MSE: \", mse_nba(theta_arbitrary))\n",
    "print(\"Optimal theta MSE:\"  , mse_nba(theta_hat))"
   ]
  },
  {
   "cell_type": "markdown",
   "metadata": {},
   "source": [
    "Nice!!!\n",
    "\n",
    "---\n",
    "## Making Least Squares Predictions\n",
    "\n",
    "Now that we have estimated the model parameters $\\hat{\\theta}$ we can now also predict the points scored $\\hat{\\mathbb{Y}}$ for each of our players."
   ]
  },
  {
   "cell_type": "code",
   "execution_count": 30,
   "metadata": {},
   "outputs": [],
   "source": [
    "Y_hat = X @ theta_hat"
   ]
  },
  {
   "cell_type": "markdown",
   "metadata": {},
   "source": [
    "<br/><br/>\n",
    "\n",
    "---\n",
    "\n",
    "## Model Performance/Diagnosing the Model\n",
    "\n",
    "In previous lectures we have plotted the residual vs. our single input feature $x$.\n",
    "\n",
    "For higher dimensional regression models, we often graph the residual with respect to the fitted values $\\hat{y}$."
   ]
  },
  {
   "cell_type": "code",
   "execution_count": 31,
   "metadata": {},
   "outputs": [
    {
     "data": {
      "application/vnd.plotly.v1+json": {
       "config": {
        "plotlyServerURL": "https://plot.ly"
       },
       "data": [
        {
         "hovertemplate": "x=%{x}<br>y=%{y}<extra></extra>",
         "legendgroup": "",
         "marker": {
          "color": "#636efa",
          "opacity": 0.8,
          "symbol": "circle"
         },
         "mode": "markers",
         "name": "",
         "orientation": "v",
         "showlegend": false,
         "type": "scatter",
         "x": [
          5.552231884123173,
          1.224504199277468,
          3.2614289703682604,
          14.89101334339066,
          8.439733791612255,
          1.6086147929477523,
          0.9478108915190593,
          21.129093049813804,
          3.4213104213234096,
          5.087692657437185,
          10.538005464362456,
          9.063324166633674,
          8.92379480371843,
          3.505936468878116,
          8.919889978752952,
          2.262634665029812,
          3.7555434647580515,
          0.4088704907894663,
          -0.2773112638040265,
          26.05410529491411,
          -0.2925379757029062,
          14.070109133678475,
          7.478274598400502,
          6.509493662795922,
          12.690985521881972,
          9.8405496763098,
          14.142435527189695,
          10.982680510546672,
          17.952940575604416,
          7.437206052535813,
          14.57505760746354,
          0.7951037184663718,
          1.0256529097271319,
          0.04591640900785848,
          1.4461467271849728,
          11.332140265880193,
          6.51032396541564,
          11.627793719275475,
          15.663651189971953,
          16.596463077081925,
          13.82933506890661,
          12.118150853190151,
          5.30425961471173,
          9.685255888449483,
          6.833965813520472,
          5.424804905252984,
          11.552978369938923,
          25.68070748229306,
          12.15709676504822,
          7.276836694042535,
          10.420534696166962,
          3.538878848501205,
          9.04980591344847,
          5.2395456011330355,
          3.1417379091838438,
          7.947035166362613,
          7.3200518006509645,
          4.2787692460506355,
          3.765206698485842,
          10.150161436954178,
          7.543378860535024,
          16.59172794949673,
          4.450143975166671,
          14.648335889313898,
          17.420905789940882,
          3.7855089810176814,
          4.972613186084718,
          0.3716330376450728,
          25.244522972135325,
          3.14000552373305,
          10.86679661534543,
          9.211029501298585,
          17.14423640891959,
          6.518742721230767,
          4.490748540230349,
          7.704138467584129,
          3.6992482069944823,
          8.554910921947023,
          8.10223129524063,
          3.624773300705695,
          3.945488090955132,
          15.910207590243248,
          7.23796451442965,
          6.892335851816424,
          4.454365316442793,
          13.522188337350443,
          2.3730288143051457,
          6.853853920759365,
          4.973003434640546,
          9.713976926796448,
          11.035096822115706,
          11.566570355369311,
          12.251897880605966,
          9.697579469230087,
          11.009742895688026,
          11.990333625764135,
          9.557048412467637,
          8.174143513458905,
          7.5988198889417555,
          11.01864955904128,
          1.666544777179813,
          2.4902069929271136,
          16.95887944581734,
          19.960777986529536,
          16.613250783204112,
          8.021046091850389,
          2.465243315055261,
          11.50097818569666,
          6.137242669105232,
          7.860700660094231,
          4.717100316952106,
          1.4135945961177117,
          17.649624936768546,
          9.771590394717864,
          4.1367011218019965,
          7.622563015638064,
          10.337909696899455,
          4.299949684676432,
          4.176427530771719,
          4.947185527411857,
          8.293834574643322,
          6.159619732169454,
          12.666266580109408,
          2.525735987357833,
          0.6241929701513467,
          2.511753753371618,
          2.521904894637538,
          2.5066781827386584,
          6.296733871504554,
          7.134768569793896,
          4.363883201143471,
          2.2752747621210605,
          0.7121861296253392,
          4.292361231481023,
          1.7714731072663596,
          5.681195930479553,
          3.0901279734974074,
          7.145773940416653,
          17.91206734770433,
          19.752605858333,
          6.546707189203197,
          11.145929073421105,
          4.569054539239432,
          19.561464607697488,
          7.63817997609277,
          7.681737477782788,
          15.742663953847511,
          13.103890886144406,
          11.175261557059446,
          13.963082096322424,
          9.696334991317421,
          5.826728825629778,
          7.688081453065533,
          3.9208907349019877,
          3.1395415429320406,
          7.622465356655762,
          11.896972306083658,
          3.0816115586999793,
          8.11706775858368,
          26.791311806046984,
          6.460056166624171,
          24.63145006019853,
          4.048220054789875,
          5.537297761797819,
          -0.2925379757029062,
          10.911208346392286,
          6.709565503521804,
          6.237461750377527,
          6.709565503521804,
          0.9659905400442778,
          5.779754406512412,
          1.369573113626684,
          7.498136826868452,
          7.170273637487497,
          20.849860980722003,
          4.051660898954343,
          6.308495812501847,
          3.654812549210508,
          6.264938310811828,
          15.223659513831048,
          5.516238908891444,
          19.854238856711618,
          6.182508629508925,
          3.196691030052446,
          10.242839918505304,
          11.33851011993388,
          3.4272402213132063,
          13.976526617262447,
          17.806163202541526,
          4.871515948718468,
          12.499625026544743,
          24.72922803911974,
          1.59885390023766,
          1.5921436031362082,
          5.660039418590876,
          5.39310700354256,
          5.665114989223835,
          10.779755344210576,
          8.757203055661826,
          12.545526358976929,
          24.084090903653813,
          6.629234529488402,
          7.226568895251066,
          5.1566280122920025,
          1.484628658242031,
          1.4148390740303762,
          0.9054978677417058,
          0.8792657852200692,
          0.020538555843059025,
          10.112923983809786,
          6.349978533659481,
          10.523632981820414,
          5.128663544319573,
          13.082148807735301,
          12.163319154611543,
          3.7965143516404383,
          4.631205864747614,
          7.2718587823918766,
          5.99888405185747,
          7.786665807869334,
          12.454482603894297,
          16.242341926408386,
          16.591654217251545,
          1.6623234359036902,
          5.486980157498286,
          5.214117942460173,
          6.300491231979667,
          3.7343869528693747,
          3.447152255289218,
          8.641952193081877,
          16.663689973223068,
          8.565526044013952,
          7.472735046966532,
          13.360134446880613,
          15.608160356057162,
          8.837850546005875,
          3.4428571817679128,
          3.70471402618327,
          0.8111846597220886,
          14.276841465997745,
          26.140635119147095,
          10.748252373091377,
          7.366074331429193,
          10.978825491089257,
          14.659609922773063,
          0.8851955852098663,
          16.375137065485067,
          16.654490720296288,
          5.064339779296705,
          4.680717093164549,
          5.447303554036626,
          13.75359175796804,
          4.17855016477834,
          -0.07338440362073056,
          10.792395441301826,
          7.888127415020469,
          9.665881567519662,
          9.403072834765167,
          9.786329199078613,
          9.077356206127952,
          11.685383260459771,
          23.064651920701944,
          3.164529147541012,
          4.392628166227556,
          17.217076588739886,
          17.4840090037882,
          16.467889279281373,
          31.404955978315,
          8.44910443576652,
          16.735870854277753,
          5.48915259701297,
          12.964214058738795,
          13.759545484694959,
          20.230273089648364,
          20.69730127215968,
          18.7877297476939,
          2.5134861388224112,
          2.5375955873374267,
          3.2525223070150044,
          1.5591274912679374,
          6.47223228291441,
          8.109893480681219,
          1.5573951058171436,
          2.862067738061977,
          11.201810155891728,
          5.984511569315426,
          5.596179634369019,
          6.5217195845942255,
          8.903882769742415,
          3.0151651596704916,
          21.437289328691413,
          2.054486463570393,
          3.293102945341565,
          7.685958819058911,
          11.10998590369744,
          6.7002925183498405,
          4.269106012322844,
          5.862257820060497,
          22.428761891637034,
          10.896469542031534,
          12.110196078176036,
          9.71405065904163,
          -0.2925379757029062,
          8.597126286742077,
          7.80772466077571,
          11.151908678918964,
          11.696778879638355,
          9.80538700369779,
          15.207090665037203,
          8.749540870221237,
          11.809638058001898,
          10.639224287448128,
          3.4166988314914586,
          18.09283664771175,
          5.6299762433489455,
          16.35097976349581,
          6.064866470085948,
          6.792092843807009,
          12.918972025072224,
          -0.042076750466134016,
          18.0426661205292,
          24.746187136469413,
          9.66876077190082,
          4.417982092655237,
          3.333317261849417,
          8.694490090370333,
          13.351667837591245,
          11.775865375759095,
          7.503652451565302,
          6.7849185659045474,
          8.752029826046567,
          15.297280190762999,
          27.398161941047075,
          1.736334361391468,
          4.4641262091528855,
          1.13775551771614,
          5.071611716181468,
          6.124968893832692,
          0.49896235753296053,
          3.7944156443709365,
          3.2927126967857374,
          3.2927126967857374,
          2.5375955873374267,
          8.230829019778302,
          7.350945278512614,
          8.01089495058447,
          5.669336330499958,
          10.859622337442968,
          11.091025758060566,
          10.076564686759347,
          3.384536948980025,
          3.6049349989748656,
          2.4403294426914712,
          20.52377803026608,
          5.305894341180223,
          7.0035842304485945,
          4.318593314002659,
          5.3854687448390886,
          1.279067071590243,
          7.341988809651297,
          10.14413397798208,
          10.380612969232637,
          10.1796629724128,
          7.610629683413287,
          8.012139428497136,
          14.045804367198855,
          14.307661211614214,
          13.527166249001104,
          10.206456694717746,
          6.270013881444788,
          -0.2925379757029062,
          7.021397557155105,
          7.124617428527976,
          2.85872455287981,
          9.25756386635206,
          12.624124947559539,
          5.736636958886284,
          6.872521476822713,
          8.633216920956105,
          6.365278977803545,
          9.261858939873365,
          4.032139113534158,
          8.71057103162605,
          19.583915403006895,
          2.9411542341827137,
          2.5003581341930334,
          3.3244105984961614,
          14.97785968393429,
          22.6758320782174,
          8.076853442075832,
          4.1632995261423416,
          4.291507002124186,
          4.711146590225189,
          4.097341034650982,
          4.915927679765323,
          16.069161079596377,
          11.148931815555507,
          24.84896890581222,
          5.86943209796296,
          3.8439029460507514,
          14.215104315782508,
          23.957273418041176,
          8.702078543565742,
          9.508805588700486,
          6.863150832668448,
          4.077819249230798,
          0.020538555843059025,
          6.6109572219808825,
          12.815801959207413,
          10.213533313637907,
          14.502022497052018,
          14.17074043820989,
          1.7139333715901262,
          0.071294262172658,
          4.480207150408602,
          1.5409239160055994,
          6.790848365894345,
          0.849666590779147,
          8.803639761733002,
          2.35904658031893,
          7.889421698441198,
          8.182586196011151,
          1.13775551771614,
          3.4636234451007626,
          4.159956340960175,
          3.4234091285929105,
          4.773371647978555,
          4.700605200403443,
          4.846138095553668,
          6.863517154487155,
          5.810159976835932,
          8.466820103490729,
          18.394786222915542,
          2.6831284824876525,
          5.133763041689652,
          1.1225288058172604,
          11.708272157799241,
          12.777710276706182,
          6.433848010839653,
          10.423511559530422,
          5.236568737769577,
          5.054652618831795,
          2.336645590517589,
          1.9119304317836252,
          2.3053379373629923,
          22.503286603433885,
          7.367342736078975,
          7.394502780202632,
          13.146008591957155,
          7.905966620497923,
          5.011095117141777,
          3.6785556759068156,
          5.959523964706453,
          7.022642035067769,
          3.8155721562596137,
          5.498839757477881,
          1.5210118820295875,
          18.479362464962183,
          6.218501604740653,
          5.333078312040997,
          9.414566112926053,
          8.26940860981766,
          3.138761045820386,
          9.951798054941973,
          12.107511804386103,
          4.7209074829352815,
          15.017293503330487,
          16.364669407908497,
          11.787822634720989,
          23.66493922309094,
          1.0205773390941721,
          9.000392344013838,
          5.0550428673876215,
          4.541480319822829,
          3.508425424703445,
          12.5034082657908,
          12.918924171597983,
          1.3209161145665866,
          -0.2925379757029062,
          1.8657863152859766,
          2.525735987357833,
          13.99687870530235,
          9.683987483799699,
          11.685383260459771,
          6.8234004969616056,
          11.338436387688699,
          2.2397457676903416,
          4.294850187306352,
          15.128004168916464,
          18.78899815234368,
          2.579054381757943,
          6.8099061705135195,
          6.877597047455672,
          6.098346562755228,
          3.179365610884065,
          3.2055976934057018,
          1.9423838555813846,
          3.99919673391107,
          9.65260609839992,
          8.674211734575612,
          5.369387803583372,
          4.077038752119142,
          6.358397289474609,
          5.023735214233025,
          7.539645426797031,
          6.232410106481687,
          2.2787156062855285,
          1.8027807604209563,
          5.412262467144036,
          14.59404167983753,
          6.52555067731452,
          5.475170363026756,
          3.637877378597954,
          3.249155195095719,
          8.835703985262136,
          6.149492517640654,
          7.220639095261269,
          19.217544403797937,
          9.357416625805646,
          13.20366991335281,
          14.89455184653743,
          12.761605408713345,
          16.770717010579116,
          3.076926236622848,
          15.36743609679336,
          14.82256589607397,
          15.948689521300308,
          9.741843735786576,
          7.779491529966873,
          3.6937823878056952,
          1.7393112247549258,
          15.122122222400908,
          6.542900023220021,
          5.976873310611955,
          8.267212243565858,
          11.699241956692742,
          4.2715949681481735,
          4.106247698004237,
          7.945619297222465,
          4.283844816683595,
          5.809305747479096,
          1.0852913526728667,
          14.59460331962084,
          13.488781976926346,
          17.86467875329402,
          15.06373020940166,
          14.65041066984628,
          15.225344045807601,
          9.849334753943634,
          8.714792372902172,
          4.874859133900634,
          2.2245190557914616,
          5.898153136309925,
          5.31145781935131,
          20.343156194749028,
          17.199751169571503,
          1.1064478645615436,
          4.867294607442345,
          16.486873351655365,
          1.0586690215954029,
          8.968230461502403,
          7.51170488556172,
          9.601948051052622,
          6.643119104492316,
          3.4632331965449348,
          4.162055048229677,
          3.542319692665673,
          7.540792245727394,
          10.648861642404976,
          18.70473842660768,
          15.577390415948756,
          9.507170862231995,
          11.998800235053501,
          22.892910869767192,
          14.012788255330582,
          5.434565797963076,
          19.228501920946456,
          10.605794000286911,
          10.812697723833665,
          10.506795470190161,
          8.641976119818997,
          15.954643248027224,
          6.035731256446034,
          5.092768228070145,
          8.17336301634725,
          3.7576421720275524,
          7.048019888232569,
          5.423560427340319,
          8.158916801560025,
          16.84426395526588,
          8.900149336004421,
          8.219897381400726,
          10.51235894836125,
          7.972413019527413,
          9.376474430424823,
          5.169365768365553,
          17.07098205380635,
          2.5375955873374267,
          17.245576430351303,
          6.459982434378988,
          6.742995790683021,
          5.039840082225862,
          -0.2925379757029062,
          3.7364856601388756,
          8.807885029746243,
          14.260784451479147,
          13.480289488866037,
          15.832779747328122,
          9.954677259323129,
          7.19230830547013,
          2.918753244381373,
          3.2808530968061436,
          1.949167884928019,
          3.345664769367139,
          6.428284532668564,
          6.167281917610045,
          4.321082269827989,
          -0.2925379757029062,
          4.572787972977426,
          5.920651785093567,
          5.679097223210051,
          6.192659770774845,
          4.841062524920709,
          2.2245190557914616,
          7.518024934107345,
          2.6205131761784597,
          2.0921141652706137,
          1.8353328914882172,
          3.264772155550427,
          15.885683966435288,
          11.477989677341064,
          7.92204756175364,
          9.682743005887033,
          4.4632719797960485,
          3.1463494990157943,
          2.3941853261938224,
          3.0151651596704916,
          4.766953940450629,
          -0.2417822693733072,
          5.608819731460268,
          7.978733068073037,
          2.1433338524012227,
          4.549142505263419,
          23.383244076944752,
          11.63914148497982,
          0.540421151953477,
          4.55172912007105,
          23.47028534807961,
          2.92975861500413,
          9.522763895949584,
          7.532471148894569,
          7.172322539248936,
          13.439660997065237,
          2.249896908956261,
          -0.2925379757029062,
          15.44564443682014,
          12.656579419644498,
          20.237349708568523,
          1.0074493344647941,
          10.956058179469206,
          7.981222023898367,
          22.95835752698331,
          15.646642287114217,
          4.5804501584180155,
          13.242639751947996,
          25.19510940270069,
          2.2486524310435967,
          21.189681429064855,
          3.6124995254331544,
          13.680458988574218,
          3.656935183217129,
          18.466210533595685,
          2.4204174087154593,
          2.594281093656823,
          1.4309200152860932,
          23.65046712953277,
          10.379392418057092,
          -0.07338440362073056,
          13.402789865739553,
          18.453106455703427,
          3.8278220047950353,
          2.8612135087051396,
          6.560201515651284,
          6.6525136753837,
          17.563412016219587,
          10.678170199306196,
          2.4863759002068186,
          5.6761203598465935,
          6.114817752566773,
          13.480289488866037,
          7.402921536017758,
          2.1081951065263307,
          15.916113463495927,
          8.618306725367873,
          6.927010616890306,
          11.990747801057084,
          2.2122692072560404,
          2.372638565749318,
          14.241702720122852,
          18.35791313955603,
          9.755802043035672,
          6.6016603100718,
          -0.11062185676512412,
          9.816294715338245,
          7.556018957626273,
          8.824698614639377,
          8.306060496441624,
          9.34841230347009
         ],
         "xaxis": "x",
         "y": [
          -0.252231884123173,
          0.47549580072253206,
          -0.06142897036826023,
          -0.9910133433906605,
          0.4602662083877451,
          0.09138520705224762,
          0.052189108480940716,
          0.17090695018619684,
          0.2786895786765906,
          0.5123073425628144,
          0.36199453563754425,
          0.8366758333663267,
          0.47620519628157076,
          0.19406353112188413,
          -0.919889978752952,
          0.23736533497018808,
          -0.055543464758051275,
          0.29112950921053365,
          0.2773112638040265,
          1.6458947050858903,
          1.2925379757029063,
          -0.6701091336784746,
          -0.47827459840050235,
          0.19050633720407806,
          -0.19098552188197182,
          0.05945032369019998,
          -0.042435527189695676,
          0.7173194894533275,
          -1.6529405756044149,
          -0.13720605253581297,
          0.3249423925364603,
          0.10489628153362818,
          0.2743470902728682,
          -0.04591640900785848,
          0.4538532728150271,
          -1.432140265880193,
          -0.3103239654156402,
          -0.7277937192754749,
          0.736348810028046,
          1.1035369229180745,
          0.47066493109339014,
          -0.6181508531901514,
          -0.3042596147117296,
          -0.3852558884494819,
          -0.7339658135204727,
          0.175195094747016,
          0.04702163006107618,
          -0.08070748229305735,
          -0.8570967650482189,
          -0.27683669404253486,
          0.07946530383303774,
          -0.238878848501205,
          -0.6498059134484695,
          -0.23954560113303547,
          -0.34173790918384395,
          0.05296483363738691,
          0.27994819934903514,
          0.5212307539493644,
          0.6347933015141582,
          -0.5501614369541787,
          -0.24337886053502444,
          -0.6917279494967286,
          -0.25014397516667053,
          -0.5483358893138988,
          0.5790942100591181,
          -0.2855089810176814,
          -0.2726131860847181,
          0.5283669623549272,
          1.3554770278646764,
          0.15999447626694963,
          -0.9667966153454302,
          -1.0110295012985855,
          -1.0442364089195877,
          -0.818742721230767,
          0.40925145976965105,
          -0.10413846758412948,
          0.40075179300551733,
          -0.2549109219470225,
          -0.6022312952406299,
          -0.12477330070569481,
          0.05451190904486802,
          -0.3102075902432482,
          0.26203548557035017,
          -0.2923358518164241,
          -0.15436531644279317,
          -0.5221883373504426,
          -0.2730288143051456,
          -0.45385392075936437,
          -0.17300343464054624,
          -0.4139769267964475,
          -0.5350968221157064,
          -0.2665703553693106,
          -0.15189788060596676,
          -0.39757946923008625,
          -0.10974289568802575,
          -0.1903336257641346,
          0.14295158753236237,
          0.625856486541096,
          0.8011801110582448,
          0.5813504409587189,
          0.03345522282018698,
          0.10979300707288653,
          1.7411205541826575,
          1.339222013470465,
          1.5867492167958872,
          0.27895390814961196,
          -0.16524331505526124,
          -0.1009781856966594,
          -0.1372426691052322,
          -0.3607006600942313,
          -0.017100316952105565,
          0.08640540388228835,
          -1.049624936768545,
          1.3284096052821361,
          0.2632988781980039,
          -0.22256301563806336,
          -0.03790969689945456,
          0.500050315323568,
          0.12357246922828047,
          0.4528144725881438,
          0.9061654253566775,
          0.1403802678305457,
          -0.7662665801094075,
          -0.02573598735783289,
          0.17580702984865337,
          0.588246246628382,
          1.1780951053624622,
          0.5933218172613417,
          -0.29673387150455444,
          -0.43476856979389567,
          -0.06388320114347135,
          -0.2752747621210605,
          0.1878138703746608,
          -0.09236123148102315,
          0.028526892733640397,
          0.01880406952044744,
          -0.1901279734974075,
          -0.44577394041665297,
          -1.112067347704329,
          -0.2526058583329984,
          0.053292810796802925,
          0.054070926578894785,
          0.3309454607605682,
          1.5385353923025136,
          -0.7381799760927699,
          -0.7817374777827872,
          0.5573360461524892,
          0.19610911385559504,
          0.12473844294055425,
          0.5369179036775762,
          -0.09633499131742163,
          -0.12672882562977783,
          0.21191854693446732,
          0.2791092650980125,
          0.6604584570679592,
          -1.6224653566557619,
          0.0030276939163425,
          -0.08161155869997927,
          -0.21706775858367955,
          0.5086881939530166,
          -0.26005616662417097,
          1.268549939801467,
          -0.04822005478987457,
          0.26270223820218064,
          0.2925379757029062,
          -0.11120834639228505,
          -0.6095655035218046,
          0.0625382496224729,
          -0.6095655035218046,
          0.5340094599557222,
          0.12024559348758856,
          0.33042688637331596,
          -0.1981368268684518,
          -0.07027363748749771,
          0.3501390192779965,
          0.14833910104565717,
          -0.3084958125018469,
          0.04518745078949227,
          0.13506168918817263,
          1.5763404861689523,
          -0.616238908891444,
          1.3457611432883816,
          0.017491370491074854,
          0.10330896994755401,
          -0.44283991850530313,
          -0.6385101199338798,
          -0.2272402213132061,
          -0.27652661726244787,
          -0.5061632025415257,
          0.02848405128153253,
          -1.1996250265447426,
          1.2707719608802606,
          0.1011460997623399,
          -0.09214360313620817,
          0.339960581409124,
          0.6068929964574403,
          0.3348850107761647,
          -0.47975534421057553,
          -0.35720305566182553,
          -0.5455263589769288,
          3.415909096346187,
          0.07076547051159832,
          0.17343110474893475,
          0.1433719877079973,
          0.3153713417579691,
          -0.11483907403037619,
          -0.10549786774170578,
          0.02073421477993087,
          -0.020538555843059025,
          0.08707601619021332,
          0.5500214663405192,
          -0.12363298182041405,
          -0.028663544319573298,
          -0.18214880773530062,
          -0.36331915461154196,
          0.20348564835956173,
          -0.3312058647476146,
          -0.3718587823918762,
          -0.0988840518574694,
          -0.28666580786933427,
          -0.6544826038942961,
          -1.1423419264083865,
          0.7083457827484558,
          -0.16232343590369025,
          -0.18698015749828656,
          -0.2141179424601729,
          -0.0004912319796668285,
          -0.03438695286937454,
          0.15284774471078189,
          -0.44195219308187816,
          3.1363100267769326,
          -0.16552604401395143,
          -0.9727350469665321,
          0.23986555311938673,
          0.09183964394283706,
          0.2621494539941249,
          0.45714281823208713,
          0.49528597381673034,
          0.4888153402779114,
          -0.5768414659977452,
          1.8593648808529046,
          0.051747626908623445,
          -0.36607433142919277,
          -0.17882549108925616,
          1.2403900772269374,
          0.5148044147901336,
          -0.37513706548506676,
          -0.45449072029628823,
          -0.06433977929670487,
          0.019282906835450753,
          -0.14730355403662632,
          -0.1535917579680408,
          0.02144983522166033,
          0.07338440362073056,
          -0.49239544130182544,
          -0.4881274150204691,
          -0.4658815675196628,
          -0.003072834765166732,
          0.013670800921387283,
          -0.37735620612795273,
          0.6146167395402298,
          1.4353480792980555,
          -0.16452914754101222,
          -0.39262816622755636,
          0.8829234112601156,
          1.6159909962118029,
          -0.9678892792813727,
          4.695044021685,
          -0.7491044357665197,
          -0.13587085427775136,
          0.8108474029870294,
          -0.06421405873879493,
          -0.05954548469495968,
          -0.2302730896483638,
          0.20269872784031762,
          -0.5877297476938992,
          0.686513861177589,
          -0.5375955873374267,
          1.0474776929849954,
          -0.05912749126793737,
          0.027767717085589894,
          -0.309893480681219,
          0.34260489418285633,
          -0.362067738061977,
          0.298189844108272,
          -0.3845115693154266,
          0.20382036563098094,
          0.7782804154057743,
          -0.10388276974241428,
          0.9848348403295084,
          -0.7372893286914142,
          -0.25448646357039295,
          0.3068970546584353,
          -0.08595881905891112,
          -0.3099859036974397,
          0.0997074816501593,
          0.0308939876771559,
          0.03774217993950302,
          -1.2287618916370349,
          -0.39646954203153406,
          -0.5101960781760368,
          -0.21405065904163045,
          0.2925379757029062,
          0.3028737132579238,
          0.39227533922428925,
          0.04809132108103498,
          0.5032211203616441,
          -0.2053870036977905,
          -1.6070906650372034,
          0.6504591297787634,
          0.9903619419981027,
          -0.9392242874481287,
          -0.4166988314914586,
          -1.0928366477117493,
          -0.42997624334894535,
          -1.3509797634958112,
          -0.3648664700859481,
          0.007907156192990428,
          -0.8189720250722239,
          0.042076750466134016,
          0.25733387947079933,
          -0.9461871364694119,
          -0.06876077190081986,
          0.5820179073447633,
          0.3666827381505833,
          -0.5944900903703338,
          0.4483321624087555,
          -0.27586537575909453,
          -0.3036524515653021,
          -0.08491856590454727,
          -0.5520298260465673,
          0.10271980923700141,
          0.0018380589529236602,
          0.5636656386085319,
          0.23587379084711468,
          0.36224448228385997,
          0.1283882838185324,
          0.17503110616730755,
          0.4010376424670395,
          0.10558435562906343,
          0.007287303214262408,
          0.20728730321426259,
          -0.5375955873374267,
          -0.4308290197783018,
          -0.4509452785126138,
          -0.5108949505844702,
          -0.3693363304999586,
          0.04037766255703268,
          -0.29102575806056485,
          1.0234353132406522,
          0.015463051019974916,
          0.0950650010251346,
          0.3596705573085286,
          -0.4237780302660781,
          0.09410565881977728,
          -0.003584230448594461,
          0.7814066859973403,
          -0.8854687448390886,
          -0.279067071590243,
          -0.4419888096512965,
          0.8558660220179206,
          0.6193870307673635,
          0.7203370275872008,
          -1.1106296834132872,
          0.5878605715028637,
          -0.34580436719885554,
          -0.30766121161421367,
          -0.4271662490011039,
          -0.5064566947177465,
          0.4299861185552123,
          0.2925379757029062,
          -0.22139755715510478,
          -0.3246174285279766,
          0.14127544712019002,
          -0.7575638663520596,
          0.1758750524404622,
          0.06336304111371582,
          0.12747852317728725,
          -0.03321692095610551,
          0.43472102219645503,
          -0.16185893987336541,
          -0.3321391135341578,
          -0.21057103162604918,
          -0.8839154030068954,
          0.05884576581728629,
          0.2996418658069664,
          0.07558940150383853,
          0.3221403160657115,
          1.024167921782599,
          -0.47685344207583213,
          -0.26329952614234164,
          -0.29150700212418634,
          -0.011146590225188824,
          -0.4973410346509817,
          -0.015927679765322722,
          -1.7691610795963761,
          -0.048931815555507185,
          1.7510310941877805,
          0.030567902037040184,
          -0.04390294605075162,
          -0.5151043157825086,
          1.842726581958825,
          0.8979214564342577,
          1.191194411299513,
          0.13684916733155195,
          -0.07781924923079764,
          -0.020538555843059025,
          -0.3109572219808827,
          -0.3158019592074126,
          -0.7135333136379067,
          2.4979775029479825,
          0.029259561790109245,
          0.6860666284098738,
          1.928705737827342,
          0.11979284959139758,
          0.15907608399440054,
          0.009151634105655226,
          0.050333409220853054,
          -0.30363976173300244,
          0.14095341968107,
          -0.3894216984411978,
          -0.28258619601115065,
          1.1622444822838598,
          0.1363765548992375,
          -1.159956340960175,
          0.6765908714070892,
          0.2266283520214447,
          -0.0006052004034424741,
          0.6538619044463321,
          0.43648284551284444,
          0.8898400231640684,
          -0.2668201034907298,
          0.3052137770844574,
          0.016871517512347722,
          -0.03376304168965216,
          -0.12252880581726044,
          0.49172784220075805,
          0.32228972329381733,
          0.566151989160347,
          0.47648844046957883,
          -0.2365687377695771,
          -1.0546526188317946,
          0.2633544094824112,
          -0.21193043178362525,
          0.39466206263700787,
          -1.5032866034338852,
          -0.967342736078975,
          -0.09450278020263259,
          -1.1460085919571554,
          -0.305966620497923,
          -0.31109511714177707,
          0.22144432409318426,
          -0.059523964706452936,
          -0.622642035067769,
          0.08442784374038625,
          -0.4988397574778807,
          0.27898811797041256,
          -0.1793624649621819,
          0.1814983952593474,
          0.16692168795900297,
          -0.11456611292605245,
          -0.0694086098176605,
          0.36123895417961416,
          -0.05179805494197254,
          0.49248819561389645,
          -0.32090748293528115,
          0.18270649666951222,
          0.33533059209150196,
          -0.18782263472098926,
          0.13506077690906082,
          0.07942266090582795,
          -0.10039234401383723,
          0.24495713261237828,
          0.2585196801771712,
          -0.5084254247034452,
          1.1965917342091998,
          -1.0189241715979822,
          0.07908388543341327,
          0.2925379757029062,
          -0.06578631528597656,
          -0.02573598735783289,
          -0.0968787053023501,
          -0.28398748379969874,
          -0.18538326045977094,
          -0.32340049696160555,
          -0.9384363876886983,
          -0.23974576769034162,
          0.3051498126936476,
          -0.328004168916463,
          -0.5889981523436809,
          -0.4790543817579431,
          0.19009382948648046,
          0.5224029525443283,
          -0.19834656275522722,
          0.020634389115935292,
          0.09440230659429805,
          0.0576161444186154,
          0.0008032660889298882,
          -0.25260609839991943,
          0.7257882654243879,
          -0.06938780358337215,
          -0.07703875211914202,
          0.7416027105253908,
          -0.12373521423302503,
          -0.23964542679703094,
          -0.5324101064816871,
          0.12128439371447142,
          0.29721923957904384,
          -0.9122624671440356,
          1.0059583201624704,
          -0.025550677314519987,
          -0.27517036302675546,
          -0.1378773785979539,
          0.05084480490428067,
          -0.6357039852621362,
          -0.4494925176406541,
          0.47936090473873083,
          -0.4175444037979368,
          0.6425833741943539,
          -0.20366991335280993,
          0.30544815346256904,
          0.1383945912866551,
          0.1292829894208829,
          0.8230737633771521,
          -0.8674360967933605,
          -0.522565896073969,
          -0.9486895213003077,
          -0.24184373578657592,
          -0.2794915299668732,
          -0.09378238780569514,
          -0.03931122475492588,
          0.4778777775990921,
          -0.24290002322002113,
          -0.27687331061195497,
          -0.06721224356585864,
          -1.099241956692742,
          -0.5715949681481733,
          0.3937523019957627,
          -0.14561929722246525,
          0.11615518331640562,
          -0.30930574747909567,
          0.7147086473271334,
          -0.694603319620839,
          -0.8887819769263459,
          -0.3646787532940188,
          -0.8637302094016608,
          -0.550410669846281,
          -0.9253440458076003,
          0.7506652460563661,
          -0.1147923729021727,
          0.22514086609936523,
          -0.22451905579146159,
          -0.09815313630992506,
          0.18854218064868977,
          1.0568438052509705,
          0.9002488304284988,
          0.09355213543845631,
          0.13270539255765534,
          0.11312664834463604,
          0.34133097840459703,
          -0.868230461502403,
          -0.3117048855617197,
          -0.9019480510526225,
          0.05688089550768449,
          -0.16323319654493496,
          0.03794495177032342,
          -0.1423196926656729,
          -0.24079224572739388,
          -1.4488616424049763,
          -0.7047384266076797,
          -0.4773904159487561,
          -0.5071708622319946,
          0.701199764946498,
          -1.7929108697671907,
          0.08721174466941761,
          -0.3345657979630765,
          0.7714980790535435,
          -0.0057940002869116825,
          0.28730227616633464,
          -0.006795470190160913,
          0.2580238801810033,
          -0.45464324802722444,
          -0.23573125644603454,
          -0.2927682280701456,
          -0.373363016347251,
          0.04235782797244747,
          -0.14801988823256895,
          -0.02356042734031849,
          -0.15891680156002508,
          -0.1442639552658811,
          0.19985066399557816,
          0.08010261859927503,
          0.3876410516387505,
          -0.472413019527413,
          -0.4764744304248225,
          -0.5693657683655537,
          -0.17098205380635179,
          0.46240441266257326,
          -0.34557643035130425,
          0.040017565621012,
          0.15700420931697945,
          0.46015991777413756,
          0.2925379757029062,
          0.0635143398611242,
          0.09211497025375692,
          -0.660784451479147,
          -0.5802894888660362,
          -1.1327797473281223,
          -1.0546772593231282,
          -0.4923083054701296,
          0.38124675561862675,
          0.4191469031938566,
          0.2508321150719812,
          0.6543352306328609,
          0.27171546733143614,
          -0.16728191761004485,
          -0.421082269827989,
          0.2925379757029062,
          -0.3727879729774255,
          -0.02065178509356702,
          0.2209027767899494,
          -0.09265977077484511,
          0.6589374750792913,
          -0.22451905579146159,
          -0.31802493410734467,
          0.2794868238215402,
          -0.09211416527061367,
          0.0646671085117827,
          -0.5647721555504268,
          -0.18568396643528828,
          0.6220103226589355,
          -0.12204756175364029,
          -0.28274300588703305,
          0.23672802020395167,
          0.05365050098420587,
          -0.19418532619382223,
          0.28483484032950823,
          -0.26695394045062937,
          1.2417822693733072,
          0.09118026853973227,
          0.12126693192696258,
          0.15666614759877717,
          -0.049142505263419345,
          -1.8832440769447523,
          -0.7391414849798199,
          0.45957884804652305,
          0.4482708799289501,
          0.9297146519203885,
          -0.22975861500412975,
          1.3772361040504162,
          -0.232471148894569,
          -0.37232253924893577,
          -0.1396609970652367,
          0.05010309104373878,
          0.2925379757029062,
          0.154355563179859,
          0.1434205803555031,
          -0.3373497085685244,
          0.3925506655352058,
          0.04394182053079376,
          0.4187779761016337,
          -2.158357526983309,
          -0.6466422871142168,
          0.21954984158198432,
          -1.242639751947996,
          0.40489059729931043,
          0.3513475689564034,
          -0.4896814290648557,
          -0.11249952543315445,
          -0.18045898857421783,
          0.24306481678287106,
          -0.4662105335956852,
          -0.22041740871545912,
          0.005718906343177288,
          0.16907998471390684,
          -0.7504671295327725,
          -0.4793924180570919,
          0.07338440362073056,
          -1.1027898657395525,
          -0.3531064557034256,
          -0.22782200479503523,
          -0.2612135087051395,
          -0.06020151565128362,
          -0.5525136753837003,
          2.436587983780413,
          -0.5781701993061965,
          0.013624099793181355,
          -0.37612035984659364,
          -0.314817752566773,
          -0.8802894888660369,
          0.797078463982241,
          0.6918048934736691,
          0.9838865365040714,
          0.08169327463212639,
          -0.027010616890305705,
          0.2092521989429148,
          0.08773079274395945,
          -0.07263856574931804,
          -1.6417027201228525,
          0.7420868604439725,
          0.34419795696432764,
          1.0983396899282,
          0.11062185676512412,
          1.6837052846617553,
          0.24398104237372653,
          0.07530138536062303,
          0.19393950355837575,
          0.05158769652991069
         ],
         "yaxis": "y"
        },
        {
         "name": "$\\hat{Y}=Y$",
         "type": "scatter",
         "x": [
          0,
          30
         ],
         "y": [
          0,
          0
         ]
        }
       ],
       "layout": {
        "height": 400,
        "legend": {
         "tracegroupgap": 0
        },
        "margin": {
         "t": 60
        },
        "template": {
         "data": {
          "bar": [
           {
            "error_x": {
             "color": "#2a3f5f"
            },
            "error_y": {
             "color": "#2a3f5f"
            },
            "marker": {
             "line": {
              "color": "#E5ECF6",
              "width": 0.5
             },
             "pattern": {
              "fillmode": "overlay",
              "size": 10,
              "solidity": 0.2
             }
            },
            "type": "bar"
           }
          ],
          "barpolar": [
           {
            "marker": {
             "line": {
              "color": "#E5ECF6",
              "width": 0.5
             },
             "pattern": {
              "fillmode": "overlay",
              "size": 10,
              "solidity": 0.2
             }
            },
            "type": "barpolar"
           }
          ],
          "carpet": [
           {
            "aaxis": {
             "endlinecolor": "#2a3f5f",
             "gridcolor": "white",
             "linecolor": "white",
             "minorgridcolor": "white",
             "startlinecolor": "#2a3f5f"
            },
            "baxis": {
             "endlinecolor": "#2a3f5f",
             "gridcolor": "white",
             "linecolor": "white",
             "minorgridcolor": "white",
             "startlinecolor": "#2a3f5f"
            },
            "type": "carpet"
           }
          ],
          "choropleth": [
           {
            "colorbar": {
             "outlinewidth": 0,
             "ticks": ""
            },
            "type": "choropleth"
           }
          ],
          "contour": [
           {
            "colorbar": {
             "outlinewidth": 0,
             "ticks": ""
            },
            "colorscale": [
             [
              0,
              "#0d0887"
             ],
             [
              0.1111111111111111,
              "#46039f"
             ],
             [
              0.2222222222222222,
              "#7201a8"
             ],
             [
              0.3333333333333333,
              "#9c179e"
             ],
             [
              0.4444444444444444,
              "#bd3786"
             ],
             [
              0.5555555555555556,
              "#d8576b"
             ],
             [
              0.6666666666666666,
              "#ed7953"
             ],
             [
              0.7777777777777778,
              "#fb9f3a"
             ],
             [
              0.8888888888888888,
              "#fdca26"
             ],
             [
              1,
              "#f0f921"
             ]
            ],
            "type": "contour"
           }
          ],
          "contourcarpet": [
           {
            "colorbar": {
             "outlinewidth": 0,
             "ticks": ""
            },
            "type": "contourcarpet"
           }
          ],
          "heatmap": [
           {
            "colorbar": {
             "outlinewidth": 0,
             "ticks": ""
            },
            "colorscale": [
             [
              0,
              "#0d0887"
             ],
             [
              0.1111111111111111,
              "#46039f"
             ],
             [
              0.2222222222222222,
              "#7201a8"
             ],
             [
              0.3333333333333333,
              "#9c179e"
             ],
             [
              0.4444444444444444,
              "#bd3786"
             ],
             [
              0.5555555555555556,
              "#d8576b"
             ],
             [
              0.6666666666666666,
              "#ed7953"
             ],
             [
              0.7777777777777778,
              "#fb9f3a"
             ],
             [
              0.8888888888888888,
              "#fdca26"
             ],
             [
              1,
              "#f0f921"
             ]
            ],
            "type": "heatmap"
           }
          ],
          "heatmapgl": [
           {
            "colorbar": {
             "outlinewidth": 0,
             "ticks": ""
            },
            "colorscale": [
             [
              0,
              "#0d0887"
             ],
             [
              0.1111111111111111,
              "#46039f"
             ],
             [
              0.2222222222222222,
              "#7201a8"
             ],
             [
              0.3333333333333333,
              "#9c179e"
             ],
             [
              0.4444444444444444,
              "#bd3786"
             ],
             [
              0.5555555555555556,
              "#d8576b"
             ],
             [
              0.6666666666666666,
              "#ed7953"
             ],
             [
              0.7777777777777778,
              "#fb9f3a"
             ],
             [
              0.8888888888888888,
              "#fdca26"
             ],
             [
              1,
              "#f0f921"
             ]
            ],
            "type": "heatmapgl"
           }
          ],
          "histogram": [
           {
            "marker": {
             "pattern": {
              "fillmode": "overlay",
              "size": 10,
              "solidity": 0.2
             }
            },
            "type": "histogram"
           }
          ],
          "histogram2d": [
           {
            "colorbar": {
             "outlinewidth": 0,
             "ticks": ""
            },
            "colorscale": [
             [
              0,
              "#0d0887"
             ],
             [
              0.1111111111111111,
              "#46039f"
             ],
             [
              0.2222222222222222,
              "#7201a8"
             ],
             [
              0.3333333333333333,
              "#9c179e"
             ],
             [
              0.4444444444444444,
              "#bd3786"
             ],
             [
              0.5555555555555556,
              "#d8576b"
             ],
             [
              0.6666666666666666,
              "#ed7953"
             ],
             [
              0.7777777777777778,
              "#fb9f3a"
             ],
             [
              0.8888888888888888,
              "#fdca26"
             ],
             [
              1,
              "#f0f921"
             ]
            ],
            "type": "histogram2d"
           }
          ],
          "histogram2dcontour": [
           {
            "colorbar": {
             "outlinewidth": 0,
             "ticks": ""
            },
            "colorscale": [
             [
              0,
              "#0d0887"
             ],
             [
              0.1111111111111111,
              "#46039f"
             ],
             [
              0.2222222222222222,
              "#7201a8"
             ],
             [
              0.3333333333333333,
              "#9c179e"
             ],
             [
              0.4444444444444444,
              "#bd3786"
             ],
             [
              0.5555555555555556,
              "#d8576b"
             ],
             [
              0.6666666666666666,
              "#ed7953"
             ],
             [
              0.7777777777777778,
              "#fb9f3a"
             ],
             [
              0.8888888888888888,
              "#fdca26"
             ],
             [
              1,
              "#f0f921"
             ]
            ],
            "type": "histogram2dcontour"
           }
          ],
          "mesh3d": [
           {
            "colorbar": {
             "outlinewidth": 0,
             "ticks": ""
            },
            "type": "mesh3d"
           }
          ],
          "parcoords": [
           {
            "line": {
             "colorbar": {
              "outlinewidth": 0,
              "ticks": ""
             }
            },
            "type": "parcoords"
           }
          ],
          "pie": [
           {
            "automargin": true,
            "type": "pie"
           }
          ],
          "scatter": [
           {
            "fillpattern": {
             "fillmode": "overlay",
             "size": 10,
             "solidity": 0.2
            },
            "type": "scatter"
           }
          ],
          "scatter3d": [
           {
            "line": {
             "colorbar": {
              "outlinewidth": 0,
              "ticks": ""
             }
            },
            "marker": {
             "colorbar": {
              "outlinewidth": 0,
              "ticks": ""
             }
            },
            "type": "scatter3d"
           }
          ],
          "scattercarpet": [
           {
            "marker": {
             "colorbar": {
              "outlinewidth": 0,
              "ticks": ""
             }
            },
            "type": "scattercarpet"
           }
          ],
          "scattergeo": [
           {
            "marker": {
             "colorbar": {
              "outlinewidth": 0,
              "ticks": ""
             }
            },
            "type": "scattergeo"
           }
          ],
          "scattergl": [
           {
            "marker": {
             "colorbar": {
              "outlinewidth": 0,
              "ticks": ""
             }
            },
            "type": "scattergl"
           }
          ],
          "scattermapbox": [
           {
            "marker": {
             "colorbar": {
              "outlinewidth": 0,
              "ticks": ""
             }
            },
            "type": "scattermapbox"
           }
          ],
          "scatterpolar": [
           {
            "marker": {
             "colorbar": {
              "outlinewidth": 0,
              "ticks": ""
             }
            },
            "type": "scatterpolar"
           }
          ],
          "scatterpolargl": [
           {
            "marker": {
             "colorbar": {
              "outlinewidth": 0,
              "ticks": ""
             }
            },
            "type": "scatterpolargl"
           }
          ],
          "scatterternary": [
           {
            "marker": {
             "colorbar": {
              "outlinewidth": 0,
              "ticks": ""
             }
            },
            "type": "scatterternary"
           }
          ],
          "surface": [
           {
            "colorbar": {
             "outlinewidth": 0,
             "ticks": ""
            },
            "colorscale": [
             [
              0,
              "#0d0887"
             ],
             [
              0.1111111111111111,
              "#46039f"
             ],
             [
              0.2222222222222222,
              "#7201a8"
             ],
             [
              0.3333333333333333,
              "#9c179e"
             ],
             [
              0.4444444444444444,
              "#bd3786"
             ],
             [
              0.5555555555555556,
              "#d8576b"
             ],
             [
              0.6666666666666666,
              "#ed7953"
             ],
             [
              0.7777777777777778,
              "#fb9f3a"
             ],
             [
              0.8888888888888888,
              "#fdca26"
             ],
             [
              1,
              "#f0f921"
             ]
            ],
            "type": "surface"
           }
          ],
          "table": [
           {
            "cells": {
             "fill": {
              "color": "#EBF0F8"
             },
             "line": {
              "color": "white"
             }
            },
            "header": {
             "fill": {
              "color": "#C8D4E3"
             },
             "line": {
              "color": "white"
             }
            },
            "type": "table"
           }
          ]
         },
         "layout": {
          "annotationdefaults": {
           "arrowcolor": "#2a3f5f",
           "arrowhead": 0,
           "arrowwidth": 1
          },
          "autotypenumbers": "strict",
          "coloraxis": {
           "colorbar": {
            "outlinewidth": 0,
            "ticks": ""
           }
          },
          "colorscale": {
           "diverging": [
            [
             0,
             "#8e0152"
            ],
            [
             0.1,
             "#c51b7d"
            ],
            [
             0.2,
             "#de77ae"
            ],
            [
             0.3,
             "#f1b6da"
            ],
            [
             0.4,
             "#fde0ef"
            ],
            [
             0.5,
             "#f7f7f7"
            ],
            [
             0.6,
             "#e6f5d0"
            ],
            [
             0.7,
             "#b8e186"
            ],
            [
             0.8,
             "#7fbc41"
            ],
            [
             0.9,
             "#4d9221"
            ],
            [
             1,
             "#276419"
            ]
           ],
           "sequential": [
            [
             0,
             "#0d0887"
            ],
            [
             0.1111111111111111,
             "#46039f"
            ],
            [
             0.2222222222222222,
             "#7201a8"
            ],
            [
             0.3333333333333333,
             "#9c179e"
            ],
            [
             0.4444444444444444,
             "#bd3786"
            ],
            [
             0.5555555555555556,
             "#d8576b"
            ],
            [
             0.6666666666666666,
             "#ed7953"
            ],
            [
             0.7777777777777778,
             "#fb9f3a"
            ],
            [
             0.8888888888888888,
             "#fdca26"
            ],
            [
             1,
             "#f0f921"
            ]
           ],
           "sequentialminus": [
            [
             0,
             "#0d0887"
            ],
            [
             0.1111111111111111,
             "#46039f"
            ],
            [
             0.2222222222222222,
             "#7201a8"
            ],
            [
             0.3333333333333333,
             "#9c179e"
            ],
            [
             0.4444444444444444,
             "#bd3786"
            ],
            [
             0.5555555555555556,
             "#d8576b"
            ],
            [
             0.6666666666666666,
             "#ed7953"
            ],
            [
             0.7777777777777778,
             "#fb9f3a"
            ],
            [
             0.8888888888888888,
             "#fdca26"
            ],
            [
             1,
             "#f0f921"
            ]
           ]
          },
          "colorway": [
           "#636efa",
           "#EF553B",
           "#00cc96",
           "#ab63fa",
           "#FFA15A",
           "#19d3f3",
           "#FF6692",
           "#B6E880",
           "#FF97FF",
           "#FECB52"
          ],
          "font": {
           "color": "#2a3f5f"
          },
          "geo": {
           "bgcolor": "white",
           "lakecolor": "white",
           "landcolor": "#E5ECF6",
           "showlakes": true,
           "showland": true,
           "subunitcolor": "white"
          },
          "hoverlabel": {
           "align": "left"
          },
          "hovermode": "closest",
          "mapbox": {
           "style": "light"
          },
          "paper_bgcolor": "white",
          "plot_bgcolor": "#E5ECF6",
          "polar": {
           "angularaxis": {
            "gridcolor": "white",
            "linecolor": "white",
            "ticks": ""
           },
           "bgcolor": "#E5ECF6",
           "radialaxis": {
            "gridcolor": "white",
            "linecolor": "white",
            "ticks": ""
           }
          },
          "scene": {
           "xaxis": {
            "backgroundcolor": "#E5ECF6",
            "gridcolor": "white",
            "gridwidth": 2,
            "linecolor": "white",
            "showbackground": true,
            "ticks": "",
            "zerolinecolor": "white"
           },
           "yaxis": {
            "backgroundcolor": "#E5ECF6",
            "gridcolor": "white",
            "gridwidth": 2,
            "linecolor": "white",
            "showbackground": true,
            "ticks": "",
            "zerolinecolor": "white"
           },
           "zaxis": {
            "backgroundcolor": "#E5ECF6",
            "gridcolor": "white",
            "gridwidth": 2,
            "linecolor": "white",
            "showbackground": true,
            "ticks": "",
            "zerolinecolor": "white"
           }
          },
          "shapedefaults": {
           "line": {
            "color": "#2a3f5f"
           }
          },
          "ternary": {
           "aaxis": {
            "gridcolor": "white",
            "linecolor": "white",
            "ticks": ""
           },
           "baxis": {
            "gridcolor": "white",
            "linecolor": "white",
            "ticks": ""
           },
           "bgcolor": "#E5ECF6",
           "caxis": {
            "gridcolor": "white",
            "linecolor": "white",
            "ticks": ""
           }
          },
          "title": {
           "x": 0.05
          },
          "xaxis": {
           "automargin": true,
           "gridcolor": "white",
           "linecolor": "white",
           "ticks": "",
           "title": {
            "standoff": 15
           },
           "zerolinecolor": "white",
           "zerolinewidth": 2
          },
          "yaxis": {
           "automargin": true,
           "gridcolor": "white",
           "linecolor": "white",
           "ticks": "",
           "title": {
            "standoff": 15
           },
           "zerolinecolor": "white",
           "zerolinewidth": 2
          }
         }
        },
        "width": 600,
        "xaxis": {
         "anchor": "y",
         "autorange": true,
         "domain": [
          0,
          1
         ],
         "range": [
          -2.3934658246500393,
          33.50588382726213
         ],
         "title": {
          "text": "$\\hat{Y}$"
         },
         "type": "linear"
        },
        "yaxis": {
         "anchor": "x",
         "autorange": true,
         "domain": [
          0,
          1
         ],
         "range": [
          -2.665176405306462,
          5.201862900008153
         ],
         "title": {
          "text": "$\\hat{Y} - Y$"
         },
         "type": "linear"
        }
       }
      },
      "image/png": "[encoded data removed]",
      "text/html": [
       "<div>                            <div id=\"f3a9f4f7-ea81-49f3-8737-a8d581e1fc6d\" class=\"plotly-graph-div\" style=\"height:400px; width:600px;\"></div>            <script type=\"text/javascript\">                require([\"plotly\"], function(Plotly) {                    window.PLOTLYENV=window.PLOTLYENV || {};                                    if (document.getElementById(\"f3a9f4f7-ea81-49f3-8737-a8d581e1fc6d\")) {                    Plotly.newPlot(                        \"f3a9f4f7-ea81-49f3-8737-a8d581e1fc6d\",                        [{\"hovertemplate\":\"x=%{x}<br>y=%{y}<extra></extra>\",\"legendgroup\":\"\",\"marker\":{\"color\":\"#636efa\",\"opacity\":0.8,\"symbol\":\"circle\"},\"mode\":\"markers\",\"name\":\"\",\"orientation\":\"v\",\"showlegend\":false,\"x\":[5.552231884123173,1.224504199277468,3.2614289703682604,14.89101334339066,8.439733791612255,1.6086147929477523,0.9478108915190593,21.129093049813804,3.4213104213234096,5.087692657437185,10.538005464362456,9.063324166633674,8.92379480371843,3.505936468878116,8.919889978752952,2.262634665029812,3.7555434647580515,0.4088704907894663,-0.2773112638040265,26.05410529491411,-0.2925379757029062,14.070109133678475,7.478274598400502,6.509493662795922,12.690985521881972,9.8405496763098,14.142435527189695,10.982680510546672,17.952940575604416,7.437206052535813,14.57505760746354,0.7951037184663718,1.0256529097271319,0.04591640900785848,1.4461467271849728,11.332140265880193,6.51032396541564,11.627793719275475,15.663651189971953,16.596463077081925,13.82933506890661,12.118150853190151,5.30425961471173,9.685255888449483,6.833965813520472,5.424804905252984,11.552978369938923,25.68070748229306,12.15709676504822,7.276836694042535,10.420534696166962,3.538878848501205,9.04980591344847,5.2395456011330355,3.1417379091838438,7.947035166362613,7.3200518006509645,4.2787692460506355,3.765206698485842,10.150161436954178,7.543378860535024,16.59172794949673,4.450143975166671,14.648335889313898,17.420905789940882,3.7855089810176814,4.972613186084718,0.3716330376450728,25.244522972135325,3.14000552373305,10.86679661534543,9.211029501298585,17.14423640891959,6.518742721230767,4.490748540230349,7.704138467584129,3.6992482069944823,8.554910921947023,8.10223129524063,3.624773300705695,3.945488090955132,15.910207590243248,7.23796451442965,6.892335851816424,4.454365316442793,13.522188337350443,2.3730288143051457,6.853853920759365,4.973003434640546,9.713976926796448,11.035096822115706,11.566570355369311,12.251897880605966,9.697579469230087,11.009742895688026,11.990333625764135,9.557048412467637,8.174143513458905,7.5988198889417555,11.01864955904128,1.666544777179813,2.4902069929271136,16.95887944581734,19.960777986529536,16.613250783204112,8.021046091850389,2.465243315055261,11.50097818569666,6.137242669105232,7.860700660094231,4.717100316952106,1.4135945961177117,17.649624936768546,9.771590394717864,4.1367011218019965,7.622563015638064,10.337909696899455,4.299949684676432,4.176427530771719,4.947185527411857,8.293834574643322,6.159619732169454,12.666266580109408,2.525735987357833,0.6241929701513467,2.511753753371618,2.521904894637538,2.5066781827386584,6.296733871504554,7.134768569793896,4.363883201143471,2.2752747621210605,0.7121861296253392,4.292361231481023,1.7714731072663596,5.681195930479553,3.0901279734974074,7.145773940416653,17.91206734770433,19.752605858333,6.546707189203197,11.145929073421105,4.569054539239432,19.561464607697488,7.63817997609277,7.681737477782788,15.742663953847511,13.103890886144406,11.175261557059446,13.963082096322424,9.696334991317421,5.826728825629778,7.688081453065533,3.9208907349019877,3.1395415429320406,7.622465356655762,11.896972306083658,3.0816115586999793,8.11706775858368,26.791311806046984,6.460056166624171,24.63145006019853,4.048220054789875,5.537297761797819,-0.2925379757029062,10.911208346392286,6.709565503521804,6.237461750377527,6.709565503521804,0.9659905400442778,5.779754406512412,1.369573113626684,7.498136826868452,7.170273637487497,20.849860980722003,4.051660898954343,6.308495812501847,3.654812549210508,6.264938310811828,15.223659513831048,5.516238908891444,19.854238856711618,6.182508629508925,3.196691030052446,10.242839918505304,11.33851011993388,3.4272402213132063,13.976526617262447,17.806163202541526,4.871515948718468,12.499625026544743,24.72922803911974,1.59885390023766,1.5921436031362082,5.660039418590876,5.39310700354256,5.665114989223835,10.779755344210576,8.757203055661826,12.545526358976929,24.084090903653813,6.629234529488402,7.226568895251066,5.1566280122920025,1.484628658242031,1.4148390740303762,0.9054978677417058,0.8792657852200692,0.020538555843059025,10.112923983809786,6.349978533659481,10.523632981820414,5.128663544319573,13.082148807735301,12.163319154611543,3.7965143516404383,4.631205864747614,7.2718587823918766,5.99888405185747,7.786665807869334,12.454482603894297,16.242341926408386,16.591654217251545,1.6623234359036902,5.486980157498286,5.214117942460173,6.300491231979667,3.7343869528693747,3.447152255289218,8.641952193081877,16.663689973223068,8.565526044013952,7.472735046966532,13.360134446880613,15.608160356057162,8.837850546005875,3.4428571817679128,3.70471402618327,0.8111846597220886,14.276841465997745,26.140635119147095,10.748252373091377,7.366074331429193,10.978825491089257,14.659609922773063,0.8851955852098663,16.375137065485067,16.654490720296288,5.064339779296705,4.680717093164549,5.447303554036626,13.75359175796804,4.17855016477834,-0.07338440362073056,10.792395441301826,7.888127415020469,9.665881567519662,9.403072834765167,9.786329199078613,9.077356206127952,11.685383260459771,23.064651920701944,3.164529147541012,4.392628166227556,17.217076588739886,17.4840090037882,16.467889279281373,31.404955978315,8.44910443576652,16.735870854277753,5.48915259701297,12.964214058738795,13.759545484694959,20.230273089648364,20.69730127215968,18.7877297476939,2.5134861388224112,2.5375955873374267,3.2525223070150044,1.5591274912679374,6.47223228291441,8.109893480681219,1.5573951058171436,2.862067738061977,11.201810155891728,5.984511569315426,5.596179634369019,6.5217195845942255,8.903882769742415,3.0151651596704916,21.437289328691413,2.054486463570393,3.293102945341565,7.685958819058911,11.10998590369744,6.7002925183498405,4.269106012322844,5.862257820060497,22.428761891637034,10.896469542031534,12.110196078176036,9.71405065904163,-0.2925379757029062,8.597126286742077,7.80772466077571,11.151908678918964,11.696778879638355,9.80538700369779,15.207090665037203,8.749540870221237,11.809638058001898,10.639224287448128,3.4166988314914586,18.09283664771175,5.6299762433489455,16.35097976349581,6.064866470085948,6.792092843807009,12.918972025072224,-0.042076750466134016,18.0426661205292,24.746187136469413,9.66876077190082,4.417982092655237,3.333317261849417,8.694490090370333,13.351667837591245,11.775865375759095,7.503652451565302,6.7849185659045474,8.752029826046567,15.297280190762999,27.398161941047075,1.736334361391468,4.4641262091528855,1.13775551771614,5.071611716181468,6.124968893832692,0.49896235753296053,3.7944156443709365,3.2927126967857374,3.2927126967857374,2.5375955873374267,8.230829019778302,7.350945278512614,8.01089495058447,5.669336330499958,10.859622337442968,11.091025758060566,10.076564686759347,3.384536948980025,3.6049349989748656,2.4403294426914712,20.52377803026608,5.305894341180223,7.0035842304485945,4.318593314002659,5.3854687448390886,1.279067071590243,7.341988809651297,10.14413397798208,10.380612969232637,10.1796629724128,7.610629683413287,8.012139428497136,14.045804367198855,14.307661211614214,13.527166249001104,10.206456694717746,6.270013881444788,-0.2925379757029062,7.021397557155105,7.124617428527976,2.85872455287981,9.25756386635206,12.624124947559539,5.736636958886284,6.872521476822713,8.633216920956105,6.365278977803545,9.261858939873365,4.032139113534158,8.71057103162605,19.583915403006895,2.9411542341827137,2.5003581341930334,3.3244105984961614,14.97785968393429,22.6758320782174,8.076853442075832,4.1632995261423416,4.291507002124186,4.711146590225189,4.097341034650982,4.915927679765323,16.069161079596377,11.148931815555507,24.84896890581222,5.86943209796296,3.8439029460507514,14.215104315782508,23.957273418041176,8.702078543565742,9.508805588700486,6.863150832668448,4.077819249230798,0.020538555843059025,6.6109572219808825,12.815801959207413,10.213533313637907,14.502022497052018,14.17074043820989,1.7139333715901262,0.071294262172658,4.480207150408602,1.5409239160055994,6.790848365894345,0.849666590779147,8.803639761733002,2.35904658031893,7.889421698441198,8.182586196011151,1.13775551771614,3.4636234451007626,4.159956340960175,3.4234091285929105,4.773371647978555,4.700605200403443,4.846138095553668,6.863517154487155,5.810159976835932,8.466820103490729,18.394786222915542,2.6831284824876525,5.133763041689652,1.1225288058172604,11.708272157799241,12.777710276706182,6.433848010839653,10.423511559530422,5.236568737769577,5.054652618831795,2.336645590517589,1.9119304317836252,2.3053379373629923,22.503286603433885,7.367342736078975,7.394502780202632,13.146008591957155,7.905966620497923,5.011095117141777,3.6785556759068156,5.959523964706453,7.022642035067769,3.8155721562596137,5.498839757477881,1.5210118820295875,18.479362464962183,6.218501604740653,5.333078312040997,9.414566112926053,8.26940860981766,3.138761045820386,9.951798054941973,12.107511804386103,4.7209074829352815,15.017293503330487,16.364669407908497,11.787822634720989,23.66493922309094,1.0205773390941721,9.000392344013838,5.0550428673876215,4.541480319822829,3.508425424703445,12.5034082657908,12.918924171597983,1.3209161145665866,-0.2925379757029062,1.8657863152859766,2.525735987357833,13.99687870530235,9.683987483799699,11.685383260459771,6.8234004969616056,11.338436387688699,2.2397457676903416,4.294850187306352,15.128004168916464,18.78899815234368,2.579054381757943,6.8099061705135195,6.877597047455672,6.098346562755228,3.179365610884065,3.2055976934057018,1.9423838555813846,3.99919673391107,9.65260609839992,8.674211734575612,5.369387803583372,4.077038752119142,6.358397289474609,5.023735214233025,7.539645426797031,6.232410106481687,2.2787156062855285,1.8027807604209563,5.412262467144036,14.59404167983753,6.52555067731452,5.475170363026756,3.637877378597954,3.249155195095719,8.835703985262136,6.149492517640654,7.220639095261269,19.217544403797937,9.357416625805646,13.20366991335281,14.89455184653743,12.761605408713345,16.770717010579116,3.076926236622848,15.36743609679336,14.82256589607397,15.948689521300308,9.741843735786576,7.779491529966873,3.6937823878056952,1.7393112247549258,15.122122222400908,6.542900023220021,5.976873310611955,8.267212243565858,11.699241956692742,4.2715949681481735,4.106247698004237,7.945619297222465,4.283844816683595,5.809305747479096,1.0852913526728667,14.59460331962084,13.488781976926346,17.86467875329402,15.06373020940166,14.65041066984628,15.225344045807601,9.849334753943634,8.714792372902172,4.874859133900634,2.2245190557914616,5.898153136309925,5.31145781935131,20.343156194749028,17.199751169571503,1.1064478645615436,4.867294607442345,16.486873351655365,1.0586690215954029,8.968230461502403,7.51170488556172,9.601948051052622,6.643119104492316,3.4632331965449348,4.162055048229677,3.542319692665673,7.540792245727394,10.648861642404976,18.70473842660768,15.577390415948756,9.507170862231995,11.998800235053501,22.892910869767192,14.012788255330582,5.434565797963076,19.228501920946456,10.605794000286911,10.812697723833665,10.506795470190161,8.641976119818997,15.954643248027224,6.035731256446034,5.092768228070145,8.17336301634725,3.7576421720275524,7.048019888232569,5.423560427340319,8.158916801560025,16.84426395526588,8.900149336004421,8.219897381400726,10.51235894836125,7.972413019527413,9.376474430424823,5.169365768365553,17.07098205380635,2.5375955873374267,17.245576430351303,6.459982434378988,6.742995790683021,5.039840082225862,-0.2925379757029062,3.7364856601388756,8.807885029746243,14.260784451479147,13.480289488866037,15.832779747328122,9.954677259323129,7.19230830547013,2.918753244381373,3.2808530968061436,1.949167884928019,3.345664769367139,6.428284532668564,6.167281917610045,4.321082269827989,-0.2925379757029062,4.572787972977426,5.920651785093567,5.679097223210051,6.192659770774845,4.841062524920709,2.2245190557914616,7.518024934107345,2.6205131761784597,2.0921141652706137,1.8353328914882172,3.264772155550427,15.885683966435288,11.477989677341064,7.92204756175364,9.682743005887033,4.4632719797960485,3.1463494990157943,2.3941853261938224,3.0151651596704916,4.766953940450629,-0.2417822693733072,5.608819731460268,7.978733068073037,2.1433338524012227,4.549142505263419,23.383244076944752,11.63914148497982,0.540421151953477,4.55172912007105,23.47028534807961,2.92975861500413,9.522763895949584,7.532471148894569,7.172322539248936,13.439660997065237,2.249896908956261,-0.2925379757029062,15.44564443682014,12.656579419644498,20.237349708568523,1.0074493344647941,10.956058179469206,7.981222023898367,22.95835752698331,15.646642287114217,4.5804501584180155,13.242639751947996,25.19510940270069,2.2486524310435967,21.189681429064855,3.6124995254331544,13.680458988574218,3.656935183217129,18.466210533595685,2.4204174087154593,2.594281093656823,1.4309200152860932,23.65046712953277,10.379392418057092,-0.07338440362073056,13.402789865739553,18.453106455703427,3.8278220047950353,2.8612135087051396,6.560201515651284,6.6525136753837,17.563412016219587,10.678170199306196,2.4863759002068186,5.6761203598465935,6.114817752566773,13.480289488866037,7.402921536017758,2.1081951065263307,15.916113463495927,8.618306725367873,6.927010616890306,11.990747801057084,2.2122692072560404,2.372638565749318,14.241702720122852,18.35791313955603,9.755802043035672,6.6016603100718,-0.11062185676512412,9.816294715338245,7.556018957626273,8.824698614639377,8.306060496441624,9.34841230347009],\"xaxis\":\"x\",\"y\":[-0.252231884123173,0.47549580072253206,-0.06142897036826023,-0.9910133433906605,0.4602662083877451,0.09138520705224762,0.052189108480940716,0.17090695018619684,0.2786895786765906,0.5123073425628144,0.36199453563754425,0.8366758333663267,0.47620519628157076,0.19406353112188413,-0.919889978752952,0.23736533497018808,-0.055543464758051275,0.29112950921053365,0.2773112638040265,1.6458947050858903,1.2925379757029063,-0.6701091336784746,-0.47827459840050235,0.19050633720407806,-0.19098552188197182,0.05945032369019998,-0.042435527189695676,0.7173194894533275,-1.6529405756044149,-0.13720605253581297,0.3249423925364603,0.10489628153362818,0.2743470902728682,-0.04591640900785848,0.4538532728150271,-1.432140265880193,-0.3103239654156402,-0.7277937192754749,0.736348810028046,1.1035369229180745,0.47066493109339014,-0.6181508531901514,-0.3042596147117296,-0.3852558884494819,-0.7339658135204727,0.175195094747016,0.04702163006107618,-0.08070748229305735,-0.8570967650482189,-0.27683669404253486,0.07946530383303774,-0.238878848501205,-0.6498059134484695,-0.23954560113303547,-0.34173790918384395,0.05296483363738691,0.27994819934903514,0.5212307539493644,0.6347933015141582,-0.5501614369541787,-0.24337886053502444,-0.6917279494967286,-0.25014397516667053,-0.5483358893138988,0.5790942100591181,-0.2855089810176814,-0.2726131860847181,0.5283669623549272,1.3554770278646764,0.15999447626694963,-0.9667966153454302,-1.0110295012985855,-1.0442364089195877,-0.818742721230767,0.40925145976965105,-0.10413846758412948,0.40075179300551733,-0.2549109219470225,-0.6022312952406299,-0.12477330070569481,0.05451190904486802,-0.3102075902432482,0.26203548557035017,-0.2923358518164241,-0.15436531644279317,-0.5221883373504426,-0.2730288143051456,-0.45385392075936437,-0.17300343464054624,-0.4139769267964475,-0.5350968221157064,-0.2665703553693106,-0.15189788060596676,-0.39757946923008625,-0.10974289568802575,-0.1903336257641346,0.14295158753236237,0.625856486541096,0.8011801110582448,0.5813504409587189,0.03345522282018698,0.10979300707288653,1.7411205541826575,1.339222013470465,1.5867492167958872,0.27895390814961196,-0.16524331505526124,-0.1009781856966594,-0.1372426691052322,-0.3607006600942313,-0.017100316952105565,0.08640540388228835,-1.049624936768545,1.3284096052821361,0.2632988781980039,-0.22256301563806336,-0.03790969689945456,0.500050315323568,0.12357246922828047,0.4528144725881438,0.9061654253566775,0.1403802678305457,-0.7662665801094075,-0.02573598735783289,0.17580702984865337,0.588246246628382,1.1780951053624622,0.5933218172613417,-0.29673387150455444,-0.43476856979389567,-0.06388320114347135,-0.2752747621210605,0.1878138703746608,-0.09236123148102315,0.028526892733640397,0.01880406952044744,-0.1901279734974075,-0.44577394041665297,-1.112067347704329,-0.2526058583329984,0.053292810796802925,0.054070926578894785,0.3309454607605682,1.5385353923025136,-0.7381799760927699,-0.7817374777827872,0.5573360461524892,0.19610911385559504,0.12473844294055425,0.5369179036775762,-0.09633499131742163,-0.12672882562977783,0.21191854693446732,0.2791092650980125,0.6604584570679592,-1.6224653566557619,0.0030276939163425,-0.08161155869997927,-0.21706775858367955,0.5086881939530166,-0.26005616662417097,1.268549939801467,-0.04822005478987457,0.26270223820218064,0.2925379757029062,-0.11120834639228505,-0.6095655035218046,0.0625382496224729,-0.6095655035218046,0.5340094599557222,0.12024559348758856,0.33042688637331596,-0.1981368268684518,-0.07027363748749771,0.3501390192779965,0.14833910104565717,-0.3084958125018469,0.04518745078949227,0.13506168918817263,1.5763404861689523,-0.616238908891444,1.3457611432883816,0.017491370491074854,0.10330896994755401,-0.44283991850530313,-0.6385101199338798,-0.2272402213132061,-0.27652661726244787,-0.5061632025415257,0.02848405128153253,-1.1996250265447426,1.2707719608802606,0.1011460997623399,-0.09214360313620817,0.339960581409124,0.6068929964574403,0.3348850107761647,-0.47975534421057553,-0.35720305566182553,-0.5455263589769288,3.415909096346187,0.07076547051159832,0.17343110474893475,0.1433719877079973,0.3153713417579691,-0.11483907403037619,-0.10549786774170578,0.02073421477993087,-0.020538555843059025,0.08707601619021332,0.5500214663405192,-0.12363298182041405,-0.028663544319573298,-0.18214880773530062,-0.36331915461154196,0.20348564835956173,-0.3312058647476146,-0.3718587823918762,-0.0988840518574694,-0.28666580786933427,-0.6544826038942961,-1.1423419264083865,0.7083457827484558,-0.16232343590369025,-0.18698015749828656,-0.2141179424601729,-0.0004912319796668285,-0.03438695286937454,0.15284774471078189,-0.44195219308187816,3.1363100267769326,-0.16552604401395143,-0.9727350469665321,0.23986555311938673,0.09183964394283706,0.2621494539941249,0.45714281823208713,0.49528597381673034,0.4888153402779114,-0.5768414659977452,1.8593648808529046,0.051747626908623445,-0.36607433142919277,-0.17882549108925616,1.2403900772269374,0.5148044147901336,-0.37513706548506676,-0.45449072029628823,-0.06433977929670487,0.019282906835450753,-0.14730355403662632,-0.1535917579680408,0.02144983522166033,0.07338440362073056,-0.49239544130182544,-0.4881274150204691,-0.4658815675196628,-0.003072834765166732,0.013670800921387283,-0.37735620612795273,0.6146167395402298,1.4353480792980555,-0.16452914754101222,-0.39262816622755636,0.8829234112601156,1.6159909962118029,-0.9678892792813727,4.695044021685,-0.7491044357665197,-0.13587085427775136,0.8108474029870294,-0.06421405873879493,-0.05954548469495968,-0.2302730896483638,0.20269872784031762,-0.5877297476938992,0.686513861177589,-0.5375955873374267,1.0474776929849954,-0.05912749126793737,0.027767717085589894,-0.309893480681219,0.34260489418285633,-0.362067738061977,0.298189844108272,-0.3845115693154266,0.20382036563098094,0.7782804154057743,-0.10388276974241428,0.9848348403295084,-0.7372893286914142,-0.25448646357039295,0.3068970546584353,-0.08595881905891112,-0.3099859036974397,0.0997074816501593,0.0308939876771559,0.03774217993950302,-1.2287618916370349,-0.39646954203153406,-0.5101960781760368,-0.21405065904163045,0.2925379757029062,0.3028737132579238,0.39227533922428925,0.04809132108103498,0.5032211203616441,-0.2053870036977905,-1.6070906650372034,0.6504591297787634,0.9903619419981027,-0.9392242874481287,-0.4166988314914586,-1.0928366477117493,-0.42997624334894535,-1.3509797634958112,-0.3648664700859481,0.007907156192990428,-0.8189720250722239,0.042076750466134016,0.25733387947079933,-0.9461871364694119,-0.06876077190081986,0.5820179073447633,0.3666827381505833,-0.5944900903703338,0.4483321624087555,-0.27586537575909453,-0.3036524515653021,-0.08491856590454727,-0.5520298260465673,0.10271980923700141,0.0018380589529236602,0.5636656386085319,0.23587379084711468,0.36224448228385997,0.1283882838185324,0.17503110616730755,0.4010376424670395,0.10558435562906343,0.007287303214262408,0.20728730321426259,-0.5375955873374267,-0.4308290197783018,-0.4509452785126138,-0.5108949505844702,-0.3693363304999586,0.04037766255703268,-0.29102575806056485,1.0234353132406522,0.015463051019974916,0.0950650010251346,0.3596705573085286,-0.4237780302660781,0.09410565881977728,-0.003584230448594461,0.7814066859973403,-0.8854687448390886,-0.279067071590243,-0.4419888096512965,0.8558660220179206,0.6193870307673635,0.7203370275872008,-1.1106296834132872,0.5878605715028637,-0.34580436719885554,-0.30766121161421367,-0.4271662490011039,-0.5064566947177465,0.4299861185552123,0.2925379757029062,-0.22139755715510478,-0.3246174285279766,0.14127544712019002,-0.7575638663520596,0.1758750524404622,0.06336304111371582,0.12747852317728725,-0.03321692095610551,0.43472102219645503,-0.16185893987336541,-0.3321391135341578,-0.21057103162604918,-0.8839154030068954,0.05884576581728629,0.2996418658069664,0.07558940150383853,0.3221403160657115,1.024167921782599,-0.47685344207583213,-0.26329952614234164,-0.29150700212418634,-0.011146590225188824,-0.4973410346509817,-0.015927679765322722,-1.7691610795963761,-0.048931815555507185,1.7510310941877805,0.030567902037040184,-0.04390294605075162,-0.5151043157825086,1.842726581958825,0.8979214564342577,1.191194411299513,0.13684916733155195,-0.07781924923079764,-0.020538555843059025,-0.3109572219808827,-0.3158019592074126,-0.7135333136379067,2.4979775029479825,0.029259561790109245,0.6860666284098738,1.928705737827342,0.11979284959139758,0.15907608399440054,0.009151634105655226,0.050333409220853054,-0.30363976173300244,0.14095341968107,-0.3894216984411978,-0.28258619601115065,1.1622444822838598,0.1363765548992375,-1.159956340960175,0.6765908714070892,0.2266283520214447,-0.0006052004034424741,0.6538619044463321,0.43648284551284444,0.8898400231640684,-0.2668201034907298,0.3052137770844574,0.016871517512347722,-0.03376304168965216,-0.12252880581726044,0.49172784220075805,0.32228972329381733,0.566151989160347,0.47648844046957883,-0.2365687377695771,-1.0546526188317946,0.2633544094824112,-0.21193043178362525,0.39466206263700787,-1.5032866034338852,-0.967342736078975,-0.09450278020263259,-1.1460085919571554,-0.305966620497923,-0.31109511714177707,0.22144432409318426,-0.059523964706452936,-0.622642035067769,0.08442784374038625,-0.4988397574778807,0.27898811797041256,-0.1793624649621819,0.1814983952593474,0.16692168795900297,-0.11456611292605245,-0.0694086098176605,0.36123895417961416,-0.05179805494197254,0.49248819561389645,-0.32090748293528115,0.18270649666951222,0.33533059209150196,-0.18782263472098926,0.13506077690906082,0.07942266090582795,-0.10039234401383723,0.24495713261237828,0.2585196801771712,-0.5084254247034452,1.1965917342091998,-1.0189241715979822,0.07908388543341327,0.2925379757029062,-0.06578631528597656,-0.02573598735783289,-0.0968787053023501,-0.28398748379969874,-0.18538326045977094,-0.32340049696160555,-0.9384363876886983,-0.23974576769034162,0.3051498126936476,-0.328004168916463,-0.5889981523436809,-0.4790543817579431,0.19009382948648046,0.5224029525443283,-0.19834656275522722,0.020634389115935292,0.09440230659429805,0.0576161444186154,0.0008032660889298882,-0.25260609839991943,0.7257882654243879,-0.06938780358337215,-0.07703875211914202,0.7416027105253908,-0.12373521423302503,-0.23964542679703094,-0.5324101064816871,0.12128439371447142,0.29721923957904384,-0.9122624671440356,1.0059583201624704,-0.025550677314519987,-0.27517036302675546,-0.1378773785979539,0.05084480490428067,-0.6357039852621362,-0.4494925176406541,0.47936090473873083,-0.4175444037979368,0.6425833741943539,-0.20366991335280993,0.30544815346256904,0.1383945912866551,0.1292829894208829,0.8230737633771521,-0.8674360967933605,-0.522565896073969,-0.9486895213003077,-0.24184373578657592,-0.2794915299668732,-0.09378238780569514,-0.03931122475492588,0.4778777775990921,-0.24290002322002113,-0.27687331061195497,-0.06721224356585864,-1.099241956692742,-0.5715949681481733,0.3937523019957627,-0.14561929722246525,0.11615518331640562,-0.30930574747909567,0.7147086473271334,-0.694603319620839,-0.8887819769263459,-0.3646787532940188,-0.8637302094016608,-0.550410669846281,-0.9253440458076003,0.7506652460563661,-0.1147923729021727,0.22514086609936523,-0.22451905579146159,-0.09815313630992506,0.18854218064868977,1.0568438052509705,0.9002488304284988,0.09355213543845631,0.13270539255765534,0.11312664834463604,0.34133097840459703,-0.868230461502403,-0.3117048855617197,-0.9019480510526225,0.05688089550768449,-0.16323319654493496,0.03794495177032342,-0.1423196926656729,-0.24079224572739388,-1.4488616424049763,-0.7047384266076797,-0.4773904159487561,-0.5071708622319946,0.701199764946498,-1.7929108697671907,0.08721174466941761,-0.3345657979630765,0.7714980790535435,-0.0057940002869116825,0.28730227616633464,-0.006795470190160913,0.2580238801810033,-0.45464324802722444,-0.23573125644603454,-0.2927682280701456,-0.373363016347251,0.04235782797244747,-0.14801988823256895,-0.02356042734031849,-0.15891680156002508,-0.1442639552658811,0.19985066399557816,0.08010261859927503,0.3876410516387505,-0.472413019527413,-0.4764744304248225,-0.5693657683655537,-0.17098205380635179,0.46240441266257326,-0.34557643035130425,0.040017565621012,0.15700420931697945,0.46015991777413756,0.2925379757029062,0.0635143398611242,0.09211497025375692,-0.660784451479147,-0.5802894888660362,-1.1327797473281223,-1.0546772593231282,-0.4923083054701296,0.38124675561862675,0.4191469031938566,0.2508321150719812,0.6543352306328609,0.27171546733143614,-0.16728191761004485,-0.421082269827989,0.2925379757029062,-0.3727879729774255,-0.02065178509356702,0.2209027767899494,-0.09265977077484511,0.6589374750792913,-0.22451905579146159,-0.31802493410734467,0.2794868238215402,-0.09211416527061367,0.0646671085117827,-0.5647721555504268,-0.18568396643528828,0.6220103226589355,-0.12204756175364029,-0.28274300588703305,0.23672802020395167,0.05365050098420587,-0.19418532619382223,0.28483484032950823,-0.26695394045062937,1.2417822693733072,0.09118026853973227,0.12126693192696258,0.15666614759877717,-0.049142505263419345,-1.8832440769447523,-0.7391414849798199,0.45957884804652305,0.4482708799289501,0.9297146519203885,-0.22975861500412975,1.3772361040504162,-0.232471148894569,-0.37232253924893577,-0.1396609970652367,0.05010309104373878,0.2925379757029062,0.154355563179859,0.1434205803555031,-0.3373497085685244,0.3925506655352058,0.04394182053079376,0.4187779761016337,-2.158357526983309,-0.6466422871142168,0.21954984158198432,-1.242639751947996,0.40489059729931043,0.3513475689564034,-0.4896814290648557,-0.11249952543315445,-0.18045898857421783,0.24306481678287106,-0.4662105335956852,-0.22041740871545912,0.005718906343177288,0.16907998471390684,-0.7504671295327725,-0.4793924180570919,0.07338440362073056,-1.1027898657395525,-0.3531064557034256,-0.22782200479503523,-0.2612135087051395,-0.06020151565128362,-0.5525136753837003,2.436587983780413,-0.5781701993061965,0.013624099793181355,-0.37612035984659364,-0.314817752566773,-0.8802894888660369,0.797078463982241,0.6918048934736691,0.9838865365040714,0.08169327463212639,-0.027010616890305705,0.2092521989429148,0.08773079274395945,-0.07263856574931804,-1.6417027201228525,0.7420868604439725,0.34419795696432764,1.0983396899282,0.11062185676512412,1.6837052846617553,0.24398104237372653,0.07530138536062303,0.19393950355837575,0.05158769652991069],\"yaxis\":\"y\",\"type\":\"scatter\"},{\"name\":\"$\\\\hat{Y}=Y$\",\"x\":[0,30],\"y\":[0,0],\"type\":\"scatter\"}],                        {\"template\":{\"data\":{\"histogram2dcontour\":[{\"type\":\"histogram2dcontour\",\"colorbar\":{\"outlinewidth\":0,\"ticks\":\"\"},\"colorscale\":[[0.0,\"#0d0887\"],[0.1111111111111111,\"#46039f\"],[0.2222222222222222,\"#7201a8\"],[0.3333333333333333,\"#9c179e\"],[0.4444444444444444,\"#bd3786\"],[0.5555555555555556,\"#d8576b\"],[0.6666666666666666,\"#ed7953\"],[0.7777777777777778,\"#fb9f3a\"],[0.8888888888888888,\"#fdca26\"],[1.0,\"#f0f921\"]]}],\"choropleth\":[{\"type\":\"choropleth\",\"colorbar\":{\"outlinewidth\":0,\"ticks\":\"\"}}],\"histogram2d\":[{\"type\":\"histogram2d\",\"colorbar\":{\"outlinewidth\":0,\"ticks\":\"\"},\"colorscale\":[[0.0,\"#0d0887\"],[0.1111111111111111,\"#46039f\"],[0.2222222222222222,\"#7201a8\"],[0.3333333333333333,\"#9c179e\"],[0.4444444444444444,\"#bd3786\"],[0.5555555555555556,\"#d8576b\"],[0.6666666666666666,\"#ed7953\"],[0.7777777777777778,\"#fb9f3a\"],[0.8888888888888888,\"#fdca26\"],[1.0,\"#f0f921\"]]}],\"heatmap\":[{\"type\":\"heatmap\",\"colorbar\":{\"outlinewidth\":0,\"ticks\":\"\"},\"colorscale\":[[0.0,\"#0d0887\"],[0.1111111111111111,\"#46039f\"],[0.2222222222222222,\"#7201a8\"],[0.3333333333333333,\"#9c179e\"],[0.4444444444444444,\"#bd3786\"],[0.5555555555555556,\"#d8576b\"],[0.6666666666666666,\"#ed7953\"],[0.7777777777777778,\"#fb9f3a\"],[0.8888888888888888,\"#fdca26\"],[1.0,\"#f0f921\"]]}],\"heatmapgl\":[{\"type\":\"heatmapgl\",\"colorbar\":{\"outlinewidth\":0,\"ticks\":\"\"},\"colorscale\":[[0.0,\"#0d0887\"],[0.1111111111111111,\"#46039f\"],[0.2222222222222222,\"#7201a8\"],[0.3333333333333333,\"#9c179e\"],[0.4444444444444444,\"#bd3786\"],[0.5555555555555556,\"#d8576b\"],[0.6666666666666666,\"#ed7953\"],[0.7777777777777778,\"#fb9f3a\"],[0.8888888888888888,\"#fdca26\"],[1.0,\"#f0f921\"]]}],\"contourcarpet\":[{\"type\":\"contourcarpet\",\"colorbar\":{\"outlinewidth\":0,\"ticks\":\"\"}}],\"contour\":[{\"type\":\"contour\",\"colorbar\":{\"outlinewidth\":0,\"ticks\":\"\"},\"colorscale\":[[0.0,\"#0d0887\"],[0.1111111111111111,\"#46039f\"],[0.2222222222222222,\"#7201a8\"],[0.3333333333333333,\"#9c179e\"],[0.4444444444444444,\"#bd3786\"],[0.5555555555555556,\"#d8576b\"],[0.6666666666666666,\"#ed7953\"],[0.7777777777777778,\"#fb9f3a\"],[0.8888888888888888,\"#fdca26\"],[1.0,\"#f0f921\"]]}],\"surface\":[{\"type\":\"surface\",\"colorbar\":{\"outlinewidth\":0,\"ticks\":\"\"},\"colorscale\":[[0.0,\"#0d0887\"],[0.1111111111111111,\"#46039f\"],[0.2222222222222222,\"#7201a8\"],[0.3333333333333333,\"#9c179e\"],[0.4444444444444444,\"#bd3786\"],[0.5555555555555556,\"#d8576b\"],[0.6666666666666666,\"#ed7953\"],[0.7777777777777778,\"#fb9f3a\"],[0.8888888888888888,\"#fdca26\"],[1.0,\"#f0f921\"]]}],\"mesh3d\":[{\"type\":\"mesh3d\",\"colorbar\":{\"outlinewidth\":0,\"ticks\":\"\"}}],\"scatter\":[{\"fillpattern\":{\"fillmode\":\"overlay\",\"size\":10,\"solidity\":0.2},\"type\":\"scatter\"}],\"parcoords\":[{\"type\":\"parcoords\",\"line\":{\"colorbar\":{\"outlinewidth\":0,\"ticks\":\"\"}}}],\"scatterpolargl\":[{\"type\":\"scatterpolargl\",\"marker\":{\"colorbar\":{\"outlinewidth\":0,\"ticks\":\"\"}}}],\"bar\":[{\"error_x\":{\"color\":\"#2a3f5f\"},\"error_y\":{\"color\":\"#2a3f5f\"},\"marker\":{\"line\":{\"color\":\"#E5ECF6\",\"width\":0.5},\"pattern\":{\"fillmode\":\"overlay\",\"size\":10,\"solidity\":0.2}},\"type\":\"bar\"}],\"scattergeo\":[{\"type\":\"scattergeo\",\"marker\":{\"colorbar\":{\"outlinewidth\":0,\"ticks\":\"\"}}}],\"scatterpolar\":[{\"type\":\"scatterpolar\",\"marker\":{\"colorbar\":{\"outlinewidth\":0,\"ticks\":\"\"}}}],\"histogram\":[{\"marker\":{\"pattern\":{\"fillmode\":\"overlay\",\"size\":10,\"solidity\":0.2}},\"type\":\"histogram\"}],\"scattergl\":[{\"type\":\"scattergl\",\"marker\":{\"colorbar\":{\"outlinewidth\":0,\"ticks\":\"\"}}}],\"scatter3d\":[{\"type\":\"scatter3d\",\"line\":{\"colorbar\":{\"outlinewidth\":0,\"ticks\":\"\"}},\"marker\":{\"colorbar\":{\"outlinewidth\":0,\"ticks\":\"\"}}}],\"scattermapbox\":[{\"type\":\"scattermapbox\",\"marker\":{\"colorbar\":{\"outlinewidth\":0,\"ticks\":\"\"}}}],\"scatterternary\":[{\"type\":\"scatterternary\",\"marker\":{\"colorbar\":{\"outlinewidth\":0,\"ticks\":\"\"}}}],\"scattercarpet\":[{\"type\":\"scattercarpet\",\"marker\":{\"colorbar\":{\"outlinewidth\":0,\"ticks\":\"\"}}}],\"carpet\":[{\"aaxis\":{\"endlinecolor\":\"#2a3f5f\",\"gridcolor\":\"white\",\"linecolor\":\"white\",\"minorgridcolor\":\"white\",\"startlinecolor\":\"#2a3f5f\"},\"baxis\":{\"endlinecolor\":\"#2a3f5f\",\"gridcolor\":\"white\",\"linecolor\":\"white\",\"minorgridcolor\":\"white\",\"startlinecolor\":\"#2a3f5f\"},\"type\":\"carpet\"}],\"table\":[{\"cells\":{\"fill\":{\"color\":\"#EBF0F8\"},\"line\":{\"color\":\"white\"}},\"header\":{\"fill\":{\"color\":\"#C8D4E3\"},\"line\":{\"color\":\"white\"}},\"type\":\"table\"}],\"barpolar\":[{\"marker\":{\"line\":{\"color\":\"#E5ECF6\",\"width\":0.5},\"pattern\":{\"fillmode\":\"overlay\",\"size\":10,\"solidity\":0.2}},\"type\":\"barpolar\"}],\"pie\":[{\"automargin\":true,\"type\":\"pie\"}]},\"layout\":{\"autotypenumbers\":\"strict\",\"colorway\":[\"#636efa\",\"#EF553B\",\"#00cc96\",\"#ab63fa\",\"#FFA15A\",\"#19d3f3\",\"#FF6692\",\"#B6E880\",\"#FF97FF\",\"#FECB52\"],\"font\":{\"color\":\"#2a3f5f\"},\"hovermode\":\"closest\",\"hoverlabel\":{\"align\":\"left\"},\"paper_bgcolor\":\"white\",\"plot_bgcolor\":\"#E5ECF6\",\"polar\":{\"bgcolor\":\"#E5ECF6\",\"angularaxis\":{\"gridcolor\":\"white\",\"linecolor\":\"white\",\"ticks\":\"\"},\"radialaxis\":{\"gridcolor\":\"white\",\"linecolor\":\"white\",\"ticks\":\"\"}},\"ternary\":{\"bgcolor\":\"#E5ECF6\",\"aaxis\":{\"gridcolor\":\"white\",\"linecolor\":\"white\",\"ticks\":\"\"},\"baxis\":{\"gridcolor\":\"white\",\"linecolor\":\"white\",\"ticks\":\"\"},\"caxis\":{\"gridcolor\":\"white\",\"linecolor\":\"white\",\"ticks\":\"\"}},\"coloraxis\":{\"colorbar\":{\"outlinewidth\":0,\"ticks\":\"\"}},\"colorscale\":{\"sequential\":[[0.0,\"#0d0887\"],[0.1111111111111111,\"#46039f\"],[0.2222222222222222,\"#7201a8\"],[0.3333333333333333,\"#9c179e\"],[0.4444444444444444,\"#bd3786\"],[0.5555555555555556,\"#d8576b\"],[0.6666666666666666,\"#ed7953\"],[0.7777777777777778,\"#fb9f3a\"],[0.8888888888888888,\"#fdca26\"],[1.0,\"#f0f921\"]],\"sequentialminus\":[[0.0,\"#0d0887\"],[0.1111111111111111,\"#46039f\"],[0.2222222222222222,\"#7201a8\"],[0.3333333333333333,\"#9c179e\"],[0.4444444444444444,\"#bd3786\"],[0.5555555555555556,\"#d8576b\"],[0.6666666666666666,\"#ed7953\"],[0.7777777777777778,\"#fb9f3a\"],[0.8888888888888888,\"#fdca26\"],[1.0,\"#f0f921\"]],\"diverging\":[[0,\"#8e0152\"],[0.1,\"#c51b7d\"],[0.2,\"#de77ae\"],[0.3,\"#f1b6da\"],[0.4,\"#fde0ef\"],[0.5,\"#f7f7f7\"],[0.6,\"#e6f5d0\"],[0.7,\"#b8e186\"],[0.8,\"#7fbc41\"],[0.9,\"#4d9221\"],[1,\"#276419\"]]},\"xaxis\":{\"gridcolor\":\"white\",\"linecolor\":\"white\",\"ticks\":\"\",\"title\":{\"standoff\":15},\"zerolinecolor\":\"white\",\"automargin\":true,\"zerolinewidth\":2},\"yaxis\":{\"gridcolor\":\"white\",\"linecolor\":\"white\",\"ticks\":\"\",\"title\":{\"standoff\":15},\"zerolinecolor\":\"white\",\"automargin\":true,\"zerolinewidth\":2},\"scene\":{\"xaxis\":{\"backgroundcolor\":\"#E5ECF6\",\"gridcolor\":\"white\",\"linecolor\":\"white\",\"showbackground\":true,\"ticks\":\"\",\"zerolinecolor\":\"white\",\"gridwidth\":2},\"yaxis\":{\"backgroundcolor\":\"#E5ECF6\",\"gridcolor\":\"white\",\"linecolor\":\"white\",\"showbackground\":true,\"ticks\":\"\",\"zerolinecolor\":\"white\",\"gridwidth\":2},\"zaxis\":{\"backgroundcolor\":\"#E5ECF6\",\"gridcolor\":\"white\",\"linecolor\":\"white\",\"showbackground\":true,\"ticks\":\"\",\"zerolinecolor\":\"white\",\"gridwidth\":2}},\"shapedefaults\":{\"line\":{\"color\":\"#2a3f5f\"}},\"annotationdefaults\":{\"arrowcolor\":\"#2a3f5f\",\"arrowhead\":0,\"arrowwidth\":1},\"geo\":{\"bgcolor\":\"white\",\"landcolor\":\"#E5ECF6\",\"subunitcolor\":\"white\",\"showland\":true,\"showlakes\":true,\"lakecolor\":\"white\"},\"title\":{\"x\":0.05},\"mapbox\":{\"style\":\"light\"}}},\"xaxis\":{\"anchor\":\"y\",\"domain\":[0.0,1.0],\"title\":{\"text\":\"$\\\\hat{Y}$\"}},\"yaxis\":{\"anchor\":\"x\",\"domain\":[0.0,1.0],\"title\":{\"text\":\"$\\\\hat{Y} - Y$\"}},\"legend\":{\"tracegroupgap\":0},\"margin\":{\"t\":60},\"height\":400,\"width\":600},                        {\"responsive\": true}                    ).then(function(){\n",
       "                            \n",
       "var gd = document.getElementById('f3a9f4f7-ea81-49f3-8737-a8d581e1fc6d');\n",
       "var x = new MutationObserver(function (mutations, observer) {{\n",
       "        var display = window.getComputedStyle(gd).display;\n",
       "        if (!display || display === 'none') {{\n",
       "            console.log([gd, 'removed!']);\n",
       "            Plotly.purge(gd);\n",
       "            observer.disconnect();\n",
       "        }}\n",
       "}});\n",
       "\n",
       "// Listen for the removal of the full notebook cells\n",
       "var notebookContainer = gd.closest('#notebook-container');\n",
       "if (notebookContainer) {{\n",
       "    x.observe(notebookContainer, {childList: true});\n",
       "}}\n",
       "\n",
       "// Listen for the clearing of the current output cell\n",
       "var outputEl = gd.closest('.output');\n",
       "if (outputEl) {{\n",
       "    x.observe(outputEl, {childList: true});\n",
       "}}\n",
       "\n",
       "                        })                };                });            </script>        </div>"
      ]
     },
     "metadata": {},
     "output_type": "display_data"
    }
   ],
   "source": [
    "fig = px.scatter(x = Y_hat.flatten(), y = (Y - Y_hat).flatten(), opacity=0.8, width=600, height=400)\n",
    "fig.add_trace(go.Scatter(x=[0, 30], y=[0,0], name=\"$\\hat{Y}=Y$\"))\n",
    "fig.update_xaxes(title=\"$\\hat{Y}$\")\n",
    "fig.update_yaxes(title=\"$\\hat{Y} - Y$\")\n",
    "fig"
   ]
  },
  {
   "cell_type": "markdown",
   "metadata": {},
   "source": [
    "Overall while the residuals are roughly centered around 0 ($\\hat{y} = y$), we see **heteroskedasticity**: Our regression spread is uneven, particularly as predictions get big."
   ]
  },
  {
   "cell_type": "markdown",
   "metadata": {},
   "source": [
    "## Multiple $R^2$"
   ]
  },
  {
   "cell_type": "markdown",
   "metadata": {},
   "source": [
    "Let's compute the coefficient of determination, or **multiple $R^2$**, for our model."
   ]
  },
  {
   "cell_type": "code",
   "execution_count": 32,
   "metadata": {},
   "outputs": [
    {
     "data": {
      "text/plain": [
       "0.9883162128703274"
      ]
     },
     "execution_count": 32,
     "metadata": {},
     "output_type": "execute_result"
    }
   ],
   "source": [
    "r2_ast_fg_3pa = np.var(Y_hat) / np.var(Y)\n",
    "r2_ast_fg_3pa"
   ]
  },
  {
   "cell_type": "markdown",
   "metadata": {},
   "source": [
    "That's super high!!! Wait, what's up with that?\n",
    "\n",
    "(Hint: Basketball facts)\n",
    "\n",
    "Let's try reducing the number of features to see how this Multiple $R^2$ metric changes."
   ]
  },
  {
   "cell_type": "code",
   "execution_count": 33,
   "metadata": {},
   "outputs": [
    {
     "data": {
      "text/plain": [
       "0.608786276366571"
      ]
     },
     "execution_count": 33,
     "metadata": {},
     "output_type": "execute_result"
    }
   ],
   "source": [
    "# Use intercept, AST, 3PA\n",
    "X_3d = nba[['AST', '3PA']]\n",
    "X_3d.insert(0, 'Bias', 1)\n",
    "X_3d = X_3d.to_numpy()\n",
    "\n",
    "theta_ast_3pa = least_squares_estimate(X_3d, Y)\n",
    "Y_hat_ast_3pa = X_3d @ theta_ast_3pa\n",
    "\n",
    "r2_ast_3pa = np.var(Y_hat_ast_3pa) / np.var(Y)\n",
    "r2_ast_3pa"
   ]
  },
  {
   "cell_type": "code",
   "execution_count": 34,
   "metadata": {},
   "outputs": [
    {
     "data": {
      "text/plain": [
       "0.4570055507968593"
      ]
     },
     "execution_count": 34,
     "metadata": {},
     "output_type": "execute_result"
    }
   ],
   "source": [
    "# Use intercept, AST only (SLR)\n",
    "X_slr = nba[['AST']]\n",
    "X_slr.insert(0, 'Bias', 1)\n",
    "X_slr = X_slr.to_numpy()\n",
    "\n",
    "theta_ast_only = least_squares_estimate(X_slr, Y)\n",
    "Y_hat_ast_only = X_slr @ theta_ast_only\n",
    "\n",
    "r2_ast_only = np.var(Y_hat_ast_only) / np.var(Y)\n",
    "r2_ast_only"
   ]
  },
  {
   "cell_type": "code",
   "execution_count": 35,
   "metadata": {},
   "outputs": [
    {
     "data": {
      "text/plain": [
       "array([[3.98332315],\n",
       "       [2.39888152]])"
      ]
     },
     "execution_count": 35,
     "metadata": {},
     "output_type": "execute_result"
    }
   ],
   "source": [
    "theta_ast_only"
   ]
  },
  {
   "cell_type": "code",
   "execution_count": 36,
   "metadata": {},
   "outputs": [
    {
     "data": {
      "text/plain": [
       "array([[-0.29253798],\n",
       "       [ 2.51705703],\n",
       "       [ 0.05075571],\n",
       "       [ 0.31307653]])"
      ]
     },
     "execution_count": 36,
     "metadata": {},
     "output_type": "execute_result"
    }
   ],
   "source": [
    "theta_hat"
   ]
  },
  {
   "cell_type": "markdown",
   "metadata": {},
   "source": [
    "Comparing these Multiple $R^2$ together:"
   ]
  },
  {
   "cell_type": "code",
   "execution_count": 37,
   "metadata": {},
   "outputs": [
    {
     "name": "stdout",
     "output_type": "stream",
     "text": [
      "(SLR) intercept, AST:     0.4570055507968593\n",
      "intercept, 3PA, AST:      0.608786276366571\n",
      "intercept, FG, 3PA, AST:  0.9883162128703274\n"
     ]
    }
   ],
   "source": [
    "print(\"(SLR) intercept, AST:    \", r2_ast_only)\n",
    "print(\"intercept, 3PA, AST:     \", r2_ast_3pa)\n",
    "print(\"intercept, FG, 3PA, AST: \", r2_ast_fg_3pa)"
   ]
  },
  {
   "cell_type": "markdown",
   "metadata": {},
   "source": [
    "Because of how basketball is scored, knowing Field Goals `FG` *and* 3 point goal attempts `3PA` will reliably tell you how many total points a player scored in that game. This is assuming NBA players make a good number of their 3 pointers."
   ]
  },
  {
   "cell_type": "markdown",
   "metadata": {},
   "source": [
    "Side note, if you wanted to check that Multiple R^2 for Simple Linear Regression is indeed correlation coefficient $r^2$:"
   ]
  },
  {
   "cell_type": "code",
   "execution_count": 38,
   "metadata": {},
   "outputs": [
    {
     "data": {
      "text/plain": [
       "0.4570055507968595"
      ]
     },
     "execution_count": 38,
     "metadata": {},
     "output_type": "execute_result"
    }
   ],
   "source": [
    "r = np.corrcoef(nba['AST'], nba['PTS'])[0,1]\n",
    "r ** 2"
   ]
  }
 ],
 "metadata": {
  "kernelspec": {
   "display_name": "Python 3 (ipykernel)",
   "language": "python",
   "name": "python3"
  },
  "language_info": {
   "codemirror_mode": {
    "name": "ipython",
    "version": 3
   },
   "file_extension": ".py",
   "mimetype": "text/x-python",
   "name": "python",
   "nbconvert_exporter": "python",
   "pygments_lexer": "ipython3",
   "version": "3.9.0"
  }
 },
 "nbformat": 4,
 "nbformat_minor": 4
}
