{
 "cells": [
  {
   "cell_type": "markdown",
   "id": "374b42b7-3087-4b6a-95b3-315feb64767b",
   "metadata": {},
   "source": [
    "# Cross-Validation and Regularization\n",
    "\n",
    "Adapted from a dedicated team of [instructors](https://ds100.org/su23/acks/)\n",
    "\n",
    "Updated by Bella Crouch\n",
    "\n",
    "Fine-tuning model complexity."
   ]
  },
  {
   "cell_type": "code",
   "execution_count": 1,
   "id": "29e7fd03-0858-406d-9d56-c831e63bcd5d",
   "metadata": {},
   "outputs": [],
   "source": [
    "import seaborn as sns\n",
    "import pandas as pd\n",
    "import matplotlib.pyplot as plt\n",
    "import numpy as np\n",
    "\n",
    "import warnings\n",
    "warnings.filterwarnings('ignore')"
   ]
  },
  {
   "cell_type": "markdown",
   "id": "19d17a42-8459-40df-a9b3-d8c8d48bc641",
   "metadata": {},
   "source": [
    "In this lecture, we will work with the `vehicles` dataset."
   ]
  },
  {
   "cell_type": "code",
   "execution_count": 2,
   "id": "4d390cfe-927b-43d9-982b-93e149f2d31f",
   "metadata": {},
   "outputs": [
    {
     "data": {
      "text/html": [
       "<div>\n",
       "<style scoped>\n",
       "    .dataframe tbody tr th:only-of-type {\n",
       "        vertical-align: middle;\n",
       "    }\n",
       "\n",
       "    .dataframe tbody tr th {\n",
       "        vertical-align: top;\n",
       "    }\n",
       "\n",
       "    .dataframe thead th {\n",
       "        text-align: right;\n",
       "    }\n",
       "</style>\n",
       "<table border=\"1\" class=\"dataframe\">\n",
       "  <thead>\n",
       "    <tr style=\"text-align: right;\">\n",
       "      <th></th>\n",
       "      <th>mpg</th>\n",
       "      <th>cylinders</th>\n",
       "      <th>displacement</th>\n",
       "      <th>hp</th>\n",
       "      <th>weight</th>\n",
       "      <th>acceleration</th>\n",
       "      <th>model_year</th>\n",
       "      <th>origin</th>\n",
       "      <th>name</th>\n",
       "    </tr>\n",
       "  </thead>\n",
       "  <tbody>\n",
       "    <tr>\n",
       "      <th>19</th>\n",
       "      <td>26.0</td>\n",
       "      <td>4</td>\n",
       "      <td>97.0</td>\n",
       "      <td>46.0</td>\n",
       "      <td>1835</td>\n",
       "      <td>20.5</td>\n",
       "      <td>70</td>\n",
       "      <td>europe</td>\n",
       "      <td>volkswagen 1131 deluxe sedan</td>\n",
       "    </tr>\n",
       "    <tr>\n",
       "      <th>102</th>\n",
       "      <td>26.0</td>\n",
       "      <td>4</td>\n",
       "      <td>97.0</td>\n",
       "      <td>46.0</td>\n",
       "      <td>1950</td>\n",
       "      <td>21.0</td>\n",
       "      <td>73</td>\n",
       "      <td>europe</td>\n",
       "      <td>volkswagen super beetle</td>\n",
       "    </tr>\n",
       "    <tr>\n",
       "      <th>326</th>\n",
       "      <td>43.4</td>\n",
       "      <td>4</td>\n",
       "      <td>90.0</td>\n",
       "      <td>48.0</td>\n",
       "      <td>2335</td>\n",
       "      <td>23.7</td>\n",
       "      <td>80</td>\n",
       "      <td>europe</td>\n",
       "      <td>vw dasher (diesel)</td>\n",
       "    </tr>\n",
       "    <tr>\n",
       "      <th>325</th>\n",
       "      <td>44.3</td>\n",
       "      <td>4</td>\n",
       "      <td>90.0</td>\n",
       "      <td>48.0</td>\n",
       "      <td>2085</td>\n",
       "      <td>21.7</td>\n",
       "      <td>80</td>\n",
       "      <td>europe</td>\n",
       "      <td>vw rabbit c (diesel)</td>\n",
       "    </tr>\n",
       "    <tr>\n",
       "      <th>244</th>\n",
       "      <td>43.1</td>\n",
       "      <td>4</td>\n",
       "      <td>90.0</td>\n",
       "      <td>48.0</td>\n",
       "      <td>1985</td>\n",
       "      <td>21.5</td>\n",
       "      <td>78</td>\n",
       "      <td>europe</td>\n",
       "      <td>volkswagen rabbit custom diesel</td>\n",
       "    </tr>\n",
       "  </tbody>\n",
       "</table>\n",
       "</div>"
      ],
      "text/plain": [
       "      mpg  cylinders  displacement    hp  weight  acceleration  model_year  \\\n",
       "19   26.0          4          97.0  46.0    1835          20.5          70   \n",
       "102  26.0          4          97.0  46.0    1950          21.0          73   \n",
       "326  43.4          4          90.0  48.0    2335          23.7          80   \n",
       "325  44.3          4          90.0  48.0    2085          21.7          80   \n",
       "244  43.1          4          90.0  48.0    1985          21.5          78   \n",
       "\n",
       "     origin                             name  \n",
       "19   europe     volkswagen 1131 deluxe sedan  \n",
       "102  europe          volkswagen super beetle  \n",
       "326  europe               vw dasher (diesel)  \n",
       "325  europe             vw rabbit c (diesel)  \n",
       "244  europe  volkswagen rabbit custom diesel  "
      ]
     },
     "execution_count": 2,
     "metadata": {},
     "output_type": "execute_result"
    }
   ],
   "source": [
    "vehicles = sns.load_dataset(\"mpg\").rename(columns={\"horsepower\":\"hp\"}).dropna().sort_values(\"hp\")\n",
    "vehicles.head()"
   ]
  },
  {
   "cell_type": "markdown",
   "id": "86aff740-7850-452d-813f-4e3afff7e320",
   "metadata": {},
   "source": [
    "As in the last lecture, we will attempt to predict a car's `\"mpg\"` from transformations of its `\"hp\"`."
   ]
  },
  {
   "cell_type": "code",
   "execution_count": 3,
   "id": "c6bedda4-ee08-437c-87ad-51442df5d864",
   "metadata": {},
   "outputs": [],
   "source": [
    "X = vehicles[[\"hp\"]]\n",
    "X[\"hp^2\"] = vehicles[\"hp\"]**2\n",
    "X[\"hp^3\"] = vehicles[\"hp\"]**3\n",
    "X[\"hp^4\"] = vehicles[\"hp\"]**4\n",
    "\n",
    "Y = vehicles[\"mpg\"]"
   ]
  },
  {
   "cell_type": "markdown",
   "id": "4cf51354-d57b-4b14-8148-125168b6a82c",
   "metadata": {},
   "source": [
    "## Test Sets\n",
    "\n",
    "To perform a train-test split, we can use the `train_test_split` function of the `sklearn.model_selection` module."
   ]
  },
  {
   "cell_type": "code",
   "execution_count": 4,
   "id": "5d140790-b5cb-46b5-aedd-d775fdda2513",
   "metadata": {},
   "outputs": [
    {
     "name": "stdout",
     "output_type": "stream",
     "text": [
      "Size of full dataset: 392 points\n",
      "Size of training set: 313 points\n",
      "Size of test set: 79 points\n"
     ]
    }
   ],
   "source": [
    "from sklearn.model_selection import train_test_split\n",
    "\n",
    "# `test_size` specifies the proportion of the full dataset that should be allocated to testing\n",
    "# `random_state` makes our results reproducible for educational purposes\n",
    "X_train, X_test, Y_train, Y_test = train_test_split(X, Y, test_size=0.2, random_state=100)\n",
    "\n",
    "print(f\"Size of full dataset: {X.shape[0]} points\")\n",
    "print(f\"Size of training set: {X_train.shape[0]} points\")\n",
    "print(f\"Size of test set: {X_test.shape[0]} points\")"
   ]
  },
  {
   "cell_type": "markdown",
   "id": "ece2c817-5240-472c-9dfb-6fb6980dcf5e",
   "metadata": {},
   "source": [
    "We then fit the model using the training set..."
   ]
  },
  {
   "cell_type": "code",
   "execution_count": 5,
   "id": "e56abfad-f50f-4903-a52a-6f4bb6f40362",
   "metadata": {},
   "outputs": [
    {
     "data": {
      "text/html": [
       "<style>#sk-container-id-1 {color: black;background-color: white;}#sk-container-id-1 pre{padding: 0;}#sk-container-id-1 div.sk-toggleable {background-color: white;}#sk-container-id-1 label.sk-toggleable__label {cursor: pointer;display: block;width: 100%;margin-bottom: 0;padding: 0.3em;box-sizing: border-box;text-align: center;}#sk-container-id-1 label.sk-toggleable__label-arrow:before {content: \"▸\";float: left;margin-right: 0.25em;color: #696969;}#sk-container-id-1 label.sk-toggleable__label-arrow:hover:before {color: black;}#sk-container-id-1 div.sk-estimator:hover label.sk-toggleable__label-arrow:before {color: black;}#sk-container-id-1 div.sk-toggleable__content {max-height: 0;max-width: 0;overflow: hidden;text-align: left;background-color: #f0f8ff;}#sk-container-id-1 div.sk-toggleable__content pre {margin: 0.2em;color: black;border-radius: 0.25em;background-color: #f0f8ff;}#sk-container-id-1 input.sk-toggleable__control:checked~div.sk-toggleable__content {max-height: 200px;max-width: 100%;overflow: auto;}#sk-container-id-1 input.sk-toggleable__control:checked~label.sk-toggleable__label-arrow:before {content: \"▾\";}#sk-container-id-1 div.sk-estimator input.sk-toggleable__control:checked~label.sk-toggleable__label {background-color: #d4ebff;}#sk-container-id-1 div.sk-label input.sk-toggleable__control:checked~label.sk-toggleable__label {background-color: #d4ebff;}#sk-container-id-1 input.sk-hidden--visually {border: 0;clip: rect(1px 1px 1px 1px);clip: rect(1px, 1px, 1px, 1px);height: 1px;margin: -1px;overflow: hidden;padding: 0;position: absolute;width: 1px;}#sk-container-id-1 div.sk-estimator {font-family: monospace;background-color: #f0f8ff;border: 1px dotted black;border-radius: 0.25em;box-sizing: border-box;margin-bottom: 0.5em;}#sk-container-id-1 div.sk-estimator:hover {background-color: #d4ebff;}#sk-container-id-1 div.sk-parallel-item::after {content: \"\";width: 100%;border-bottom: 1px solid gray;flex-grow: 1;}#sk-container-id-1 div.sk-label:hover label.sk-toggleable__label {background-color: #d4ebff;}#sk-container-id-1 div.sk-serial::before {content: \"\";position: absolute;border-left: 1px solid gray;box-sizing: border-box;top: 0;bottom: 0;left: 50%;z-index: 0;}#sk-container-id-1 div.sk-serial {display: flex;flex-direction: column;align-items: center;background-color: white;padding-right: 0.2em;padding-left: 0.2em;position: relative;}#sk-container-id-1 div.sk-item {position: relative;z-index: 1;}#sk-container-id-1 div.sk-parallel {display: flex;align-items: stretch;justify-content: center;background-color: white;position: relative;}#sk-container-id-1 div.sk-item::before, #sk-container-id-1 div.sk-parallel-item::before {content: \"\";position: absolute;border-left: 1px solid gray;box-sizing: border-box;top: 0;bottom: 0;left: 50%;z-index: -1;}#sk-container-id-1 div.sk-parallel-item {display: flex;flex-direction: column;z-index: 1;position: relative;background-color: white;}#sk-container-id-1 div.sk-parallel-item:first-child::after {align-self: flex-end;width: 50%;}#sk-container-id-1 div.sk-parallel-item:last-child::after {align-self: flex-start;width: 50%;}#sk-container-id-1 div.sk-parallel-item:only-child::after {width: 0;}#sk-container-id-1 div.sk-dashed-wrapped {border: 1px dashed gray;margin: 0 0.4em 0.5em 0.4em;box-sizing: border-box;padding-bottom: 0.4em;background-color: white;}#sk-container-id-1 div.sk-label label {font-family: monospace;font-weight: bold;display: inline-block;line-height: 1.2em;}#sk-container-id-1 div.sk-label-container {text-align: center;}#sk-container-id-1 div.sk-container {/* jupyter's `normalize.less` sets `[hidden] { display: none; }` but bootstrap.min.css set `[hidden] { display: none !important; }` so we also need the `!important` here to be able to override the default hidden behavior on the sphinx rendered scikit-learn.org. See: https://github.com/scikit-learn/scikit-learn/issues/21755 */display: inline-block !important;position: relative;}#sk-container-id-1 div.sk-text-repr-fallback {display: none;}</style><div id=\"sk-container-id-1\" class=\"sk-top-container\"><div class=\"sk-text-repr-fallback\"><pre>LinearRegression()</pre><b>In a Jupyter environment, please rerun this cell to show the HTML representation or trust the notebook. <br />On GitHub, the HTML representation is unable to render, please try loading this page with nbviewer.org.</b></div><div class=\"sk-container\" hidden><div class=\"sk-item\"><div class=\"sk-estimator sk-toggleable\"><input class=\"sk-toggleable__control sk-hidden--visually\" id=\"sk-estimator-id-1\" type=\"checkbox\" checked><label for=\"sk-estimator-id-1\" class=\"sk-toggleable__label sk-toggleable__label-arrow\">LinearRegression</label><div class=\"sk-toggleable__content\"><pre>LinearRegression()</pre></div></div></div></div></div>"
      ],
      "text/plain": [
       "LinearRegression()"
      ]
     },
     "execution_count": 5,
     "metadata": {},
     "output_type": "execute_result"
    }
   ],
   "source": [
    "import sklearn.linear_model as lm\n",
    "\n",
    "model = lm.LinearRegression()\n",
    "\n",
    "model.fit(X_train, Y_train)"
   ]
  },
  {
   "cell_type": "markdown",
   "id": "14ff05ad-a1d1-4d0a-a1c3-4457f1b431cf",
   "metadata": {},
   "source": [
    "...and evaluate its performance by making predictions on the test set. Notice that the model performs more poorly on the test data it did not encounter during training."
   ]
  },
  {
   "cell_type": "code",
   "execution_count": 6,
   "id": "c744c410-b922-4f9f-ac1c-76e47a1e56c0",
   "metadata": {},
   "outputs": [
    {
     "name": "stdout",
     "output_type": "stream",
     "text": [
      "Training error: 18.34167355487827\n",
      "Test error: 21.527475812703674\n"
     ]
    }
   ],
   "source": [
    "from sklearn.metrics import mean_squared_error\n",
    "\n",
    "train_error = mean_squared_error(Y_train, model.predict(X_train))\n",
    "test_error = mean_squared_error(Y_test, model.predict(X_test))\n",
    "\n",
    "print(f\"Training error: {train_error}\")\n",
    "print(f\"Test error: {test_error}\")"
   ]
  },
  {
   "cell_type": "markdown",
   "id": "663f61e7-97b8-486d-bd1d-6344f0cc2a72",
   "metadata": {
    "tags": []
   },
   "source": [
    "## Validation Sets\n",
    "\n",
    "To assess model performance on unseen data, then *use* this information to finetune the model, we introduce a validation set. You can imagine this as us splitting the training set into a validation set and a \"mini\" training set."
   ]
  },
  {
   "cell_type": "code",
   "execution_count": 7,
   "id": "fac3eea7-c220-4838-bc04-bb0b06ca4458",
   "metadata": {},
   "outputs": [
    {
     "name": "stdout",
     "output_type": "stream",
     "text": [
      "Size of original training set: 313 points\n",
      "Size of mini training set: 250 points\n",
      "Size of validation set: 63 points\n"
     ]
    }
   ],
   "source": [
    "X_train_mini, X_val, Y_train_mini, Y_val = train_test_split(X_train, Y_train, test_size=0.2, random_state=100)\n",
    "\n",
    "print(f\"Size of original training set: {X_train.shape[0]} points\")\n",
    "print(f\"Size of mini training set: {X_train_mini.shape[0]} points\")\n",
    "print(f\"Size of validation set: {X_val.shape[0]} points\")"
   ]
  },
  {
   "cell_type": "markdown",
   "id": "27160655-4f96-4925-afde-647b66411318",
   "metadata": {},
   "source": [
    "In the cell below, we repeat the experiment from Lecture 13: fit several models of increasing complexity, then compute their error. Here, we find the model's errors on the **validation set** to understand how model complexity influences performance on unseen data."
   ]
  },
  {
   "cell_type": "code",
   "execution_count": 8,
   "id": "872ba3ec-b6ec-4aea-a8b7-2e1f156ea579",
   "metadata": {},
   "outputs": [
    {
     "data": {
      "image/png": "[encoded data removed]",
      "text/plain": [
       "<Figure size 2400x600 with 3 Axes>"
      ]
     },
     "metadata": {},
     "output_type": "display_data"
    }
   ],
   "source": [
    "fig, ax = plt.subplots(1, 3, dpi=200, figsize=(12, 3))\n",
    "\n",
    "for order in [2, 3, 4]:\n",
    "    model = lm.LinearRegression()\n",
    "    model.fit(X_train_mini.iloc[:, :order], Y_train_mini)\n",
    "    val_predictions = model.predict(X_val.iloc[:, :order])\n",
    "    \n",
    "    output = X_val.iloc[:, :order]\n",
    "    output[\"y_hat\"] = val_predictions\n",
    "    output = output.sort_values(\"hp\")\n",
    "    \n",
    "    ax[order-2].scatter(X_val[\"hp\"], Y_val, edgecolor=\"white\", lw=0.5)\n",
    "    ax[order-2].plot(output[\"hp\"], output[\"y_hat\"], \"tab:red\")\n",
    "    ax[order-2].set_title(f\"Model with degree {order}\")\n",
    "    ax[order-2].set_xlabel(\"hp\")\n",
    "    ax[order-2].set_ylabel(\"mpg\")\n",
    "    ax[order-2].annotate(f\"Validation MSE: {np.round(mean_squared_error(Y_val, val_predictions), 3)}\", (90, 30))\n",
    "\n",
    "plt.subplots_adjust(wspace=0.3);"
   ]
  },
  {
   "cell_type": "markdown",
   "id": "09947a6f-a2df-46d5-8549-949b58ae12a6",
   "metadata": {},
   "source": [
    "Let's repeat this process:\n",
    "\n",
    "1. Fit an degree-x model to the mini training set\n",
    "2. Evaluate the fitted model's MSE when making predictions on the validation set\n",
    "\n",
    "We use the model's performance on the validation set as a guide to selecting the best combination of features. We are not limited in the number of times we use the validation set – we just never use this set to fit the model."
   ]
  },
  {
   "cell_type": "code",
   "execution_count": 9,
   "id": "d8dfd6b9-85de-44ee-9c82-72f29e4e01bf",
   "metadata": {},
   "outputs": [
    {
     "data": {
      "image/png": "[encoded data removed]",
      "text/plain": [
       "<Figure size 768x576 with 1 Axes>"
      ]
     },
     "metadata": {},
     "output_type": "display_data"
    }
   ],
   "source": [
    "from sklearn.pipeline import Pipeline\n",
    "from sklearn.preprocessing import PolynomialFeatures\n",
    "\n",
    "def fit_model_dataset(degree):\n",
    "    pipelined_model = Pipeline([\n",
    "            ('polynomial_transformation', PolynomialFeatures(degree)),\n",
    "            ('linear_regression', lm.LinearRegression())    \n",
    "        ])\n",
    "\n",
    "    pipelined_model.fit(X_train_mini[[\"hp\"]], Y_train_mini)\n",
    "    return mean_squared_error(Y_val, pipelined_model.predict(X_val[[\"hp\"]]))\n",
    "\n",
    "errors = [fit_model_dataset(degree) for degree in range(0, 18)]\n",
    "MSEs_and_k = pd.DataFrame({\"k\": range(0, 18), \"MSE\": errors})\n",
    "\n",
    "plt.figure(dpi=120)\n",
    "plt.plot(range(0, 18), errors)\n",
    "plt.xlabel(\"Model Complexity (degree of polynomial)\")\n",
    "plt.ylabel(\"Validation MSE\")\n",
    "plt.xticks(range(0, 18));"
   ]
  },
  {
   "cell_type": "code",
   "execution_count": 10,
   "id": "a57b3792-f663-4fcf-b62e-de4d22a72898",
   "metadata": {},
   "outputs": [
    {
     "data": {
      "text/html": [
       "<div>\n",
       "<style scoped>\n",
       "    .dataframe tbody tr th:only-of-type {\n",
       "        vertical-align: middle;\n",
       "    }\n",
       "\n",
       "    .dataframe tbody tr th {\n",
       "        vertical-align: top;\n",
       "    }\n",
       "\n",
       "    .dataframe thead th {\n",
       "        text-align: right;\n",
       "    }\n",
       "</style>\n",
       "<table border=\"1\" class=\"dataframe\">\n",
       "  <thead>\n",
       "    <tr style=\"text-align: right;\">\n",
       "      <th></th>\n",
       "      <th>MSE</th>\n",
       "    </tr>\n",
       "    <tr>\n",
       "      <th>Degree</th>\n",
       "      <th></th>\n",
       "    </tr>\n",
       "  </thead>\n",
       "  <tbody>\n",
       "    <tr>\n",
       "      <th>0</th>\n",
       "      <td>54.024495</td>\n",
       "    </tr>\n",
       "    <tr>\n",
       "      <th>1</th>\n",
       "      <td>17.798108</td>\n",
       "    </tr>\n",
       "    <tr>\n",
       "      <th>2</th>\n",
       "      <td>12.415902</td>\n",
       "    </tr>\n",
       "    <tr>\n",
       "      <th>3</th>\n",
       "      <td>12.196206</td>\n",
       "    </tr>\n",
       "    <tr>\n",
       "      <th>4</th>\n",
       "      <td>12.192597</td>\n",
       "    </tr>\n",
       "    <tr>\n",
       "      <th>5</th>\n",
       "      <td>11.938316</td>\n",
       "    </tr>\n",
       "    <tr>\n",
       "      <th>6</th>\n",
       "      <td>12.168635</td>\n",
       "    </tr>\n",
       "    <tr>\n",
       "      <th>7</th>\n",
       "      <td>11.955918</td>\n",
       "    </tr>\n",
       "    <tr>\n",
       "      <th>8</th>\n",
       "      <td>11.936344</td>\n",
       "    </tr>\n",
       "    <tr>\n",
       "      <th>9</th>\n",
       "      <td>12.018955</td>\n",
       "    </tr>\n",
       "    <tr>\n",
       "      <th>10</th>\n",
       "      <td>12.037131</td>\n",
       "    </tr>\n",
       "    <tr>\n",
       "      <th>11</th>\n",
       "      <td>12.118490</td>\n",
       "    </tr>\n",
       "    <tr>\n",
       "      <th>12</th>\n",
       "      <td>15.757697</td>\n",
       "    </tr>\n",
       "    <tr>\n",
       "      <th>13</th>\n",
       "      <td>18.727578</td>\n",
       "    </tr>\n",
       "    <tr>\n",
       "      <th>14</th>\n",
       "      <td>21.780936</td>\n",
       "    </tr>\n",
       "    <tr>\n",
       "      <th>15</th>\n",
       "      <td>24.325657</td>\n",
       "    </tr>\n",
       "    <tr>\n",
       "      <th>16</th>\n",
       "      <td>26.277495</td>\n",
       "    </tr>\n",
       "    <tr>\n",
       "      <th>17</th>\n",
       "      <td>27.808360</td>\n",
       "    </tr>\n",
       "  </tbody>\n",
       "</table>\n",
       "</div>"
      ],
      "text/plain": [
       "              MSE\n",
       "Degree           \n",
       "0       54.024495\n",
       "1       17.798108\n",
       "2       12.415902\n",
       "3       12.196206\n",
       "4       12.192597\n",
       "5       11.938316\n",
       "6       12.168635\n",
       "7       11.955918\n",
       "8       11.936344\n",
       "9       12.018955\n",
       "10      12.037131\n",
       "11      12.118490\n",
       "12      15.757697\n",
       "13      18.727578\n",
       "14      21.780936\n",
       "15      24.325657\n",
       "16      26.277495\n",
       "17      27.808360"
      ]
     },
     "execution_count": 10,
     "metadata": {},
     "output_type": "execute_result"
    }
   ],
   "source": [
    "MSEs_and_k.rename(columns={\"k\":\"Degree\"}).set_index(\"Degree\")"
   ]
  },
  {
   "cell_type": "markdown",
   "id": "a3747069-c499-44b8-93a0-b30b1e6f0323",
   "metadata": {},
   "source": [
    "From this **model selection** process, we might choose to create a model with degree 8."
   ]
  },
  {
   "cell_type": "code",
   "execution_count": 11,
   "id": "4933662b-f912-4e5c-b86a-449c15135e46",
   "metadata": {},
   "outputs": [
    {
     "name": "stdout",
     "output_type": "stream",
     "text": [
      "Polynomial degree with lowest validation error: [8]\n"
     ]
    }
   ],
   "source": [
    "print(f'Polynomial degree with lowest validation error: {MSEs_and_k.sort_values(\"MSE\").head(1)[\"k\"].values}')"
   ]
  },
  {
   "cell_type": "markdown",
   "id": "8fa39fe5-a467-44e5-8f2d-0948210c3a28",
   "metadata": {},
   "source": [
    "After this choice has been finalized, and we are completely finished with the model design process, we finally assess model performance on the test set. We typically use the entire training set (both the \"mini\" training set and validation set) to fit the final model."
   ]
  },
  {
   "cell_type": "code",
   "execution_count": 12,
   "id": "bdd0937d-23d1-465e-95bd-8d878a1c56fa",
   "metadata": {},
   "outputs": [
    {
     "name": "stdout",
     "output_type": "stream",
     "text": [
      "Test MSE of final model: 20.80824130943735\n"
     ]
    }
   ],
   "source": [
    "# Update our training and test sets to include all polynomial features between 5 and 8\n",
    "for degree in range(5, 9):\n",
    "    X_train[f\"hp^{degree}\"] = X_train[\"hp\"]**degree\n",
    "    X_test[f\"hp^{degree}\"] = X_test[\"hp\"]**degree\n",
    "\n",
    "final_model = lm.LinearRegression()\n",
    "final_model.fit(X_train, Y_train)\n",
    "\n",
    "print(f\"Test MSE of final model: {mean_squared_error(Y_test, final_model.predict(X_test))}\")"
   ]
  },
  {
   "cell_type": "markdown",
   "id": "a82e44e7-e3a9-46d0-af00-9424216738d3",
   "metadata": {
    "tags": []
   },
   "source": [
    "## Cross-Validation\n",
    "\n",
    "The validation set gave us an opportunity to understand how the model performs on a **single** set of unseen data. The specific validation set we drew was fixed – we used the same validation points every time.\n",
    "\n",
    "It's possible that we may have, by random chance, selected a set of validation points that was *not* representative of other unseen data that the model might encounter (for example, if we happened to have selected all outlying datapoints for the validation set).\n",
    "\n",
    "Different train/validation splits lead to different validation errors:"
   ]
  },
  {
   "cell_type": "code",
   "execution_count": 13,
   "id": "c958576b-9488-4c7b-b741-38c3baa85e9d",
   "metadata": {},
   "outputs": [
    {
     "name": "stdout",
     "output_type": "stream",
     "text": [
      "Val error from train/validation split #1: 22.974763528141903\n",
      "Val error from train/validation split #2: 12.865589009400454\n",
      "Val error from train/validation split #3: 21.841685287642175\n"
     ]
    }
   ],
   "source": [
    "for i in range(1, 4):\n",
    "    X_train_mini, X_val, Y_train_mini, Y_val = train_test_split(X_train, Y_train, test_size=0.2)\n",
    "    model = lm.LinearRegression()\n",
    "    model.fit(X_train_mini, Y_train_mini)\n",
    "    y_hat = model.predict(X_val)\n",
    "    print(f\"Val error from train/validation split #{i}: {mean_squared_error(y_hat, Y_val)}\")"
   ]
  },
  {
   "cell_type": "markdown",
   "id": "f4b8725b-8863-4341-8641-0ae021f8ceba",
   "metadata": {},
   "source": [
    "To apply cross-validation, we use the `KFold` class of `sklearn.model_selection`. `KFold` will return the indices of each cross-validation fold. Then, we iterate over each of these folds to designate it as the validation set, while training the model on the remaining folds."
   ]
  },
  {
   "cell_type": "code",
   "execution_count": 14,
   "id": "5a577efc-ecd0-4757-854b-8d9c03e733f2",
   "metadata": {},
   "outputs": [
    {
     "name": "stdout",
     "output_type": "stream",
     "text": [
      "Cross-validation error: 19.19580505014516\n"
     ]
    }
   ],
   "source": [
    "from sklearn.model_selection import KFold\n",
    "np.random.seed(25) # Ensures reproducibility of this notebook\n",
    "\n",
    "# n_splits sets the number of folds to create\n",
    "kf = KFold(n_splits=5, shuffle=True)\n",
    "validation_errors = []\n",
    "\n",
    "for train_idx, valid_idx in kf.split(X_train):\n",
    "    # Split the data\n",
    "    split_X_train, split_X_valid = X_train.iloc[train_idx], X_train.iloc[valid_idx]\n",
    "    split_Y_train, split_Y_valid = Y_train.iloc[train_idx], Y_train.iloc[valid_idx]\n",
    "\n",
    "    # Fit the model on the training split\n",
    "    model.fit(split_X_train, split_Y_train)\n",
    "\n",
    "    error = mean_squared_error(model.predict(split_X_valid), split_Y_valid)\n",
    "\n",
    "    validation_errors.append(error)\n",
    "\n",
    "print(f\"Cross-validation error: {np.mean(validation_errors)}\")"
   ]
  },
  {
   "cell_type": "markdown",
   "id": "2c6ebecf-cd2e-4531-8225-1a44a0f2b7b6",
   "metadata": {},
   "source": [
    "## Regularization\n",
    "\n",
    "### L1 (LASSO) Regularization\n",
    "\n",
    "To apply L1 regularization, we use the `Lasso` model class of `sklearn`. `Lasso` functions just like `LinearRegression`. The difference is that now the model will apply a *regularization penalty*. We specify the strength of regularization using the `alpha` parameter, which is equivalent to $\\frac{1}{\\lambda}$ from our objective function formulation."
   ]
  },
  {
   "cell_type": "code",
   "execution_count": 15,
   "id": "ecfa88d5-27cd-4b4f-9605-0158eab59de4",
   "metadata": {},
   "outputs": [
    {
     "data": {
      "text/plain": [
       "array([-5.14100640e-01,  1.16422594e-03,  2.70209864e-06, -8.05153574e-10,\n",
       "       -2.78280269e-11, -1.02040718e-13, -5.44295812e-17,  1.83589942e-18])"
      ]
     },
     "execution_count": 15,
     "metadata": {},
     "output_type": "execute_result"
    }
   ],
   "source": [
    "import sklearn.linear_model as lm\n",
    "\n",
    "lasso_model = lm.Lasso(alpha=0.1) # In sklearn, alpha represents the lambda hyperparameter\n",
    "lasso_model.fit(X_train, Y_train) \n",
    "\n",
    "lasso_model.coef_"
   ]
  },
  {
   "cell_type": "markdown",
   "id": "49b64d1b-a53f-4df2-a51e-8f6be272cc8e",
   "metadata": {},
   "source": [
    "To increase the strength of regularization (decrease model complexity), we increase the $\\lambda$ hyperparameter by changing `alpha`."
   ]
  },
  {
   "cell_type": "code",
   "execution_count": 16,
   "id": "8c393fa4-5298-4291-bf28-c269a41f08fc",
   "metadata": {},
   "outputs": [
    {
     "data": {
      "text/plain": [
       "array([-0.00000000e+00, -3.37446532e-03,  1.31817186e-05,  1.71062658e-08,\n",
       "       -2.44893438e-11, -2.11314339e-13, -5.38994214e-16,  7.05457777e-19])"
      ]
     },
     "execution_count": 16,
     "metadata": {},
     "output_type": "execute_result"
    }
   ],
   "source": [
    "lasso_model_large_lambda = lm.Lasso(alpha=10)\n",
    "lasso_model_large_lambda.fit(X_train, Y_train) \n",
    "\n",
    "lasso_model_large_lambda.coef_"
   ]
  },
  {
   "cell_type": "markdown",
   "id": "b6efbc04-09b1-4d87-888d-f7d05c3b77b4",
   "metadata": {},
   "source": [
    "Notice that these model coefficients are very small (some are effectively 0). This reflects L1 regularization's tendency to set the parameters of unimportant features to 0. We can use this in **feature selection**.\n",
    "\n",
    "The features in our dataset are on wildly different numerical scales. To see this, compare the values of `hp` to the values of `hp^8`."
   ]
  },
  {
   "cell_type": "code",
   "execution_count": 17,
   "id": "75192b03-9de5-4435-93ae-d34226b3eafe",
   "metadata": {},
   "outputs": [
    {
     "data": {
      "text/html": [
       "<div>\n",
       "<style scoped>\n",
       "    .dataframe tbody tr th:only-of-type {\n",
       "        vertical-align: middle;\n",
       "    }\n",
       "\n",
       "    .dataframe tbody tr th {\n",
       "        vertical-align: top;\n",
       "    }\n",
       "\n",
       "    .dataframe thead th {\n",
       "        text-align: right;\n",
       "    }\n",
       "</style>\n",
       "<table border=\"1\" class=\"dataframe\">\n",
       "  <thead>\n",
       "    <tr style=\"text-align: right;\">\n",
       "      <th></th>\n",
       "      <th>hp</th>\n",
       "      <th>hp^2</th>\n",
       "      <th>hp^3</th>\n",
       "      <th>hp^4</th>\n",
       "      <th>hp^5</th>\n",
       "      <th>hp^6</th>\n",
       "      <th>hp^7</th>\n",
       "      <th>hp^8</th>\n",
       "    </tr>\n",
       "  </thead>\n",
       "  <tbody>\n",
       "    <tr>\n",
       "      <th>72</th>\n",
       "      <td>150.0</td>\n",
       "      <td>22500.0</td>\n",
       "      <td>3375000.0</td>\n",
       "      <td>5.062500e+08</td>\n",
       "      <td>7.593750e+10</td>\n",
       "      <td>1.139062e+13</td>\n",
       "      <td>1.708594e+15</td>\n",
       "      <td>2.562891e+17</td>\n",
       "    </tr>\n",
       "    <tr>\n",
       "      <th>89</th>\n",
       "      <td>150.0</td>\n",
       "      <td>22500.0</td>\n",
       "      <td>3375000.0</td>\n",
       "      <td>5.062500e+08</td>\n",
       "      <td>7.593750e+10</td>\n",
       "      <td>1.139062e+13</td>\n",
       "      <td>1.708594e+15</td>\n",
       "      <td>2.562891e+17</td>\n",
       "    </tr>\n",
       "    <tr>\n",
       "      <th>92</th>\n",
       "      <td>158.0</td>\n",
       "      <td>24964.0</td>\n",
       "      <td>3944312.0</td>\n",
       "      <td>6.232013e+08</td>\n",
       "      <td>9.846580e+10</td>\n",
       "      <td>1.555760e+13</td>\n",
       "      <td>2.458100e+15</td>\n",
       "      <td>3.883799e+17</td>\n",
       "    </tr>\n",
       "    <tr>\n",
       "      <th>124</th>\n",
       "      <td>180.0</td>\n",
       "      <td>32400.0</td>\n",
       "      <td>5832000.0</td>\n",
       "      <td>1.049760e+09</td>\n",
       "      <td>1.889568e+11</td>\n",
       "      <td>3.401222e+13</td>\n",
       "      <td>6.122200e+15</td>\n",
       "      <td>1.101996e+18</td>\n",
       "    </tr>\n",
       "    <tr>\n",
       "      <th>88</th>\n",
       "      <td>137.0</td>\n",
       "      <td>18769.0</td>\n",
       "      <td>2571353.0</td>\n",
       "      <td>3.522754e+08</td>\n",
       "      <td>4.826172e+10</td>\n",
       "      <td>6.611856e+12</td>\n",
       "      <td>9.058243e+14</td>\n",
       "      <td>1.240979e+17</td>\n",
       "    </tr>\n",
       "  </tbody>\n",
       "</table>\n",
       "</div>"
      ],
      "text/plain": [
       "        hp     hp^2       hp^3          hp^4          hp^5          hp^6  \\\n",
       "72   150.0  22500.0  3375000.0  5.062500e+08  7.593750e+10  1.139062e+13   \n",
       "89   150.0  22500.0  3375000.0  5.062500e+08  7.593750e+10  1.139062e+13   \n",
       "92   158.0  24964.0  3944312.0  6.232013e+08  9.846580e+10  1.555760e+13   \n",
       "124  180.0  32400.0  5832000.0  1.049760e+09  1.889568e+11  3.401222e+13   \n",
       "88   137.0  18769.0  2571353.0  3.522754e+08  4.826172e+10  6.611856e+12   \n",
       "\n",
       "             hp^7          hp^8  \n",
       "72   1.708594e+15  2.562891e+17  \n",
       "89   1.708594e+15  2.562891e+17  \n",
       "92   2.458100e+15  3.883799e+17  \n",
       "124  6.122200e+15  1.101996e+18  \n",
       "88   9.058243e+14  1.240979e+17  "
      ]
     },
     "execution_count": 17,
     "metadata": {},
     "output_type": "execute_result"
    }
   ],
   "source": [
    "X_train.head()"
   ]
  },
  {
   "cell_type": "markdown",
   "id": "5735ceb7-c5c1-4d71-952c-7613a30d71b2",
   "metadata": {},
   "source": [
    "In order for the feature `hp` to contribute in any meaningful way to the model, LASSO is \"forced\" to allocate disproportionately much of its parameter \"budget\" towards assigning a large value to the model parameter for `hp`. Notice how the parameter for `hp` is much, much greater in magnitude than the parameter for `hp^8`."
   ]
  },
  {
   "cell_type": "code",
   "execution_count": 18,
   "id": "2e62d6ee-3b4c-4be6-bca1-7dbaa04eadca",
   "metadata": {},
   "outputs": [
    {
     "data": {
      "text/html": [
       "<div>\n",
       "<style scoped>\n",
       "    .dataframe tbody tr th:only-of-type {\n",
       "        vertical-align: middle;\n",
       "    }\n",
       "\n",
       "    .dataframe tbody tr th {\n",
       "        vertical-align: top;\n",
       "    }\n",
       "\n",
       "    .dataframe thead th {\n",
       "        text-align: right;\n",
       "    }\n",
       "</style>\n",
       "<table border=\"1\" class=\"dataframe\">\n",
       "  <thead>\n",
       "    <tr style=\"text-align: right;\">\n",
       "      <th></th>\n",
       "      <th>Feature</th>\n",
       "      <th>Parameter</th>\n",
       "    </tr>\n",
       "  </thead>\n",
       "  <tbody>\n",
       "    <tr>\n",
       "      <th>0</th>\n",
       "      <td>hp</td>\n",
       "      <td>-5.141006e-01</td>\n",
       "    </tr>\n",
       "    <tr>\n",
       "      <th>1</th>\n",
       "      <td>hp^2</td>\n",
       "      <td>1.164226e-03</td>\n",
       "    </tr>\n",
       "    <tr>\n",
       "      <th>2</th>\n",
       "      <td>hp^3</td>\n",
       "      <td>2.702099e-06</td>\n",
       "    </tr>\n",
       "    <tr>\n",
       "      <th>3</th>\n",
       "      <td>hp^4</td>\n",
       "      <td>-8.051536e-10</td>\n",
       "    </tr>\n",
       "    <tr>\n",
       "      <th>4</th>\n",
       "      <td>hp^5</td>\n",
       "      <td>-2.782803e-11</td>\n",
       "    </tr>\n",
       "    <tr>\n",
       "      <th>5</th>\n",
       "      <td>hp^6</td>\n",
       "      <td>-1.020407e-13</td>\n",
       "    </tr>\n",
       "    <tr>\n",
       "      <th>6</th>\n",
       "      <td>hp^7</td>\n",
       "      <td>-5.442958e-17</td>\n",
       "    </tr>\n",
       "    <tr>\n",
       "      <th>7</th>\n",
       "      <td>hp^8</td>\n",
       "      <td>1.835899e-18</td>\n",
       "    </tr>\n",
       "  </tbody>\n",
       "</table>\n",
       "</div>"
      ],
      "text/plain": [
       "  Feature     Parameter\n",
       "0      hp -5.141006e-01\n",
       "1    hp^2  1.164226e-03\n",
       "2    hp^3  2.702099e-06\n",
       "3    hp^4 -8.051536e-10\n",
       "4    hp^5 -2.782803e-11\n",
       "5    hp^6 -1.020407e-13\n",
       "6    hp^7 -5.442958e-17\n",
       "7    hp^8  1.835899e-18"
      ]
     },
     "execution_count": 18,
     "metadata": {},
     "output_type": "execute_result"
    }
   ],
   "source": [
    "pd.DataFrame({\"Feature\":X_train.columns, \"Parameter\":lasso_model.coef_})"
   ]
  },
  {
   "cell_type": "markdown",
   "id": "8bf77c5d-d2fe-4165-8e02-525ad8f13695",
   "metadata": {},
   "source": [
    "We typically **scale** data before regularization such that all features are measured on the same numeric scale. One way to do this is by **standardizing** the data such that it has mean 0 and standard deviation 1."
   ]
  },
  {
   "cell_type": "code",
   "execution_count": 19,
   "id": "cd46eb1b-576e-42bb-8a87-238f8abbfedd",
   "metadata": {},
   "outputs": [
    {
     "data": {
      "text/html": [
       "<div>\n",
       "<style scoped>\n",
       "    .dataframe tbody tr th:only-of-type {\n",
       "        vertical-align: middle;\n",
       "    }\n",
       "\n",
       "    .dataframe tbody tr th {\n",
       "        vertical-align: top;\n",
       "    }\n",
       "\n",
       "    .dataframe thead th {\n",
       "        text-align: right;\n",
       "    }\n",
       "</style>\n",
       "<table border=\"1\" class=\"dataframe\">\n",
       "  <thead>\n",
       "    <tr style=\"text-align: right;\">\n",
       "      <th></th>\n",
       "      <th>hp</th>\n",
       "      <th>hp^2</th>\n",
       "      <th>hp^3</th>\n",
       "      <th>hp^4</th>\n",
       "      <th>hp^5</th>\n",
       "      <th>hp^6</th>\n",
       "      <th>hp^7</th>\n",
       "      <th>hp^8</th>\n",
       "    </tr>\n",
       "  </thead>\n",
       "  <tbody>\n",
       "    <tr>\n",
       "      <th>72</th>\n",
       "      <td>1.135297</td>\n",
       "      <td>0.984896</td>\n",
       "      <td>0.775312</td>\n",
       "      <td>0.553371</td>\n",
       "      <td>0.354272</td>\n",
       "      <td>0.194283</td>\n",
       "      <td>0.074957</td>\n",
       "      <td>-0.009505</td>\n",
       "    </tr>\n",
       "    <tr>\n",
       "      <th>89</th>\n",
       "      <td>1.135297</td>\n",
       "      <td>0.984896</td>\n",
       "      <td>0.775312</td>\n",
       "      <td>0.553371</td>\n",
       "      <td>0.354272</td>\n",
       "      <td>0.194283</td>\n",
       "      <td>0.074957</td>\n",
       "      <td>-0.009505</td>\n",
       "    </tr>\n",
       "    <tr>\n",
       "      <th>92</th>\n",
       "      <td>1.339125</td>\n",
       "      <td>1.231354</td>\n",
       "      <td>1.041813</td>\n",
       "      <td>0.815907</td>\n",
       "      <td>0.594634</td>\n",
       "      <td>0.402529</td>\n",
       "      <td>0.248159</td>\n",
       "      <td>0.130244</td>\n",
       "    </tr>\n",
       "    <tr>\n",
       "      <th>124</th>\n",
       "      <td>1.899651</td>\n",
       "      <td>1.975127</td>\n",
       "      <td>1.925462</td>\n",
       "      <td>1.773459</td>\n",
       "      <td>1.560109</td>\n",
       "      <td>1.324804</td>\n",
       "      <td>1.094889</td>\n",
       "      <td>0.885230</td>\n",
       "    </tr>\n",
       "    <tr>\n",
       "      <th>88</th>\n",
       "      <td>0.804077</td>\n",
       "      <td>0.611709</td>\n",
       "      <td>0.399115</td>\n",
       "      <td>0.207724</td>\n",
       "      <td>0.058991</td>\n",
       "      <td>-0.044537</td>\n",
       "      <td>-0.110553</td>\n",
       "      <td>-0.149359</td>\n",
       "    </tr>\n",
       "  </tbody>\n",
       "</table>\n",
       "</div>"
      ],
      "text/plain": [
       "           hp      hp^2      hp^3      hp^4      hp^5      hp^6      hp^7  \\\n",
       "72   1.135297  0.984896  0.775312  0.553371  0.354272  0.194283  0.074957   \n",
       "89   1.135297  0.984896  0.775312  0.553371  0.354272  0.194283  0.074957   \n",
       "92   1.339125  1.231354  1.041813  0.815907  0.594634  0.402529  0.248159   \n",
       "124  1.899651  1.975127  1.925462  1.773459  1.560109  1.324804  1.094889   \n",
       "88   0.804077  0.611709  0.399115  0.207724  0.058991 -0.044537 -0.110553   \n",
       "\n",
       "         hp^8  \n",
       "72  -0.009505  \n",
       "89  -0.009505  \n",
       "92   0.130244  \n",
       "124  0.885230  \n",
       "88  -0.149359  "
      ]
     },
     "execution_count": 19,
     "metadata": {},
     "output_type": "execute_result"
    }
   ],
   "source": [
    "# Center the data to have mean 0\n",
    "X_train_centered = X_train - X_train.mean() \n",
    "\n",
    "# Scale the centered data to have SD 1\n",
    "X_train_standardized = X_train_centered/X_train_centered.std()\n",
    "\n",
    "X_train_standardized.head()"
   ]
  },
  {
   "cell_type": "markdown",
   "id": "397bca1d-3d24-424a-a7b9-6d1d87c787e7",
   "metadata": {},
   "source": [
    "When we re-fit a LASSO model, the coefficients are no longer as uneven in magnitude as they were before."
   ]
  },
  {
   "cell_type": "code",
   "execution_count": 20,
   "id": "1b83c1d1-196f-481e-aba4-5750fdc34eaf",
   "metadata": {},
   "outputs": [
    {
     "data": {
      "text/plain": [
       "array([-9.31789105,  0.        ,  0.        ,  2.89288682,  0.65909948,\n",
       "        0.        ,  0.        ,  0.        ])"
      ]
     },
     "execution_count": 20,
     "metadata": {},
     "output_type": "execute_result"
    }
   ],
   "source": [
    "lasso_model_scaled = lm.Lasso(alpha=0.1)\n",
    "lasso_model_scaled.fit(X_train_standardized, Y_train)\n",
    "lasso_model_scaled.coef_"
   ]
  },
  {
   "cell_type": "markdown",
   "id": "96c807c0-650b-4f9b-ab1b-b1c393d5c745",
   "metadata": {},
   "source": [
    "### L2 (Ridge) Regression\n",
    "\n",
    "We perform ridge regression using `sklearn`'s `Ridge` class."
   ]
  },
  {
   "cell_type": "code",
   "execution_count": 21,
   "id": "f165e7f9-6cc2-4eb5-a1d7-5692edc1d698",
   "metadata": {},
   "outputs": [
    {
     "data": {
      "text/plain": [
       "array([-16.85961652,   3.26398097,   9.1167183 ,   4.53790201,\n",
       "        -2.32110639,  -5.6066523 ,  -3.15831859,   4.75104822])"
      ]
     },
     "execution_count": 21,
     "metadata": {},
     "output_type": "execute_result"
    }
   ],
   "source": [
    "ridge_model = lm.Ridge(alpha=0.1)\n",
    "ridge_model.fit(X_train_standardized, Y_train)\n",
    "\n",
    "ridge_model.coef_"
   ]
  }
 ],
 "metadata": {
  "kernelspec": {
   "display_name": "Python 3 (ipykernel)",
   "language": "python",
   "name": "python3"
  },
  "language_info": {
   "codemirror_mode": {
    "name": "ipython",
    "version": 3
   },
   "file_extension": ".py",
   "mimetype": "text/x-python",
   "name": "python",
   "nbconvert_exporter": "python",
   "pygments_lexer": "ipython3",
   "version": "3.9.0"
  }
 },
 "nbformat": 4,
 "nbformat_minor": 5
}
