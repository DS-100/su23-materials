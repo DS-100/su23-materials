{
 "cells": [
  {
   "cell_type": "markdown",
   "id": "6c6d2b77-a7bb-41eb-ab16-3542184a7b91",
   "metadata": {},
   "source": [
    "# Principal Component Analysis, I\n",
    "\n",
    "Data 100, Summer 2023"
   ]
  },
  {
   "cell_type": "code",
   "execution_count": 2,
   "id": "2f1b941e-654b-42dd-9385-afe39fcde915",
   "metadata": {},
   "outputs": [],
   "source": [
    "import pandas as pd\n",
    "import seaborn as sns\n",
    "import matplotlib.pyplot as plt\n",
    "import numpy as np\n",
    "np.random.seed(23) #kallisti\n",
    "\n",
    "plt.rcParams['figure.figsize'] = (4, 4)\n",
    "plt.rcParams['figure.dpi'] = 150\n",
    "sns.set()"
   ]
  },
  {
   "cell_type": "markdown",
   "id": "3eeeadf0-3dfb-4667-a786-12f6efc119da",
   "metadata": {},
   "source": [
    "## Singular Value Decomposition "
   ]
  },
  {
   "cell_type": "code",
   "execution_count": 3,
   "id": "5e96118f-03c1-49ff-9c15-a50a690fb3b3",
   "metadata": {},
   "outputs": [
    {
     "data": {
      "text/html": [
       "<div>\n",
       "<style scoped>\n",
       "    .dataframe tbody tr th:only-of-type {\n",
       "        vertical-align: middle;\n",
       "    }\n",
       "\n",
       "    .dataframe tbody tr th {\n",
       "        vertical-align: top;\n",
       "    }\n",
       "\n",
       "    .dataframe thead th {\n",
       "        text-align: right;\n",
       "    }\n",
       "</style>\n",
       "<table border=\"1\" class=\"dataframe\">\n",
       "  <thead>\n",
       "    <tr style=\"text-align: right;\">\n",
       "      <th></th>\n",
       "      <th>width</th>\n",
       "      <th>height</th>\n",
       "      <th>area</th>\n",
       "      <th>perimeter</th>\n",
       "    </tr>\n",
       "  </thead>\n",
       "  <tbody>\n",
       "    <tr>\n",
       "      <th>0</th>\n",
       "      <td>8</td>\n",
       "      <td>6</td>\n",
       "      <td>48</td>\n",
       "      <td>28</td>\n",
       "    </tr>\n",
       "    <tr>\n",
       "      <th>1</th>\n",
       "      <td>2</td>\n",
       "      <td>4</td>\n",
       "      <td>8</td>\n",
       "      <td>12</td>\n",
       "    </tr>\n",
       "    <tr>\n",
       "      <th>2</th>\n",
       "      <td>1</td>\n",
       "      <td>3</td>\n",
       "      <td>3</td>\n",
       "      <td>8</td>\n",
       "    </tr>\n",
       "    <tr>\n",
       "      <th>3</th>\n",
       "      <td>9</td>\n",
       "      <td>3</td>\n",
       "      <td>27</td>\n",
       "      <td>24</td>\n",
       "    </tr>\n",
       "    <tr>\n",
       "      <th>4</th>\n",
       "      <td>9</td>\n",
       "      <td>8</td>\n",
       "      <td>72</td>\n",
       "      <td>34</td>\n",
       "    </tr>\n",
       "  </tbody>\n",
       "</table>\n",
       "</div>"
      ],
      "text/plain": [
       "   width  height  area  perimeter\n",
       "0      8       6    48         28\n",
       "1      2       4     8         12\n",
       "2      1       3     3          8\n",
       "3      9       3    27         24\n",
       "4      9       8    72         34"
      ]
     },
     "execution_count": 3,
     "metadata": {},
     "output_type": "execute_result"
    }
   ],
   "source": [
    "rectangle = pd.read_csv(\"data/rectangle_data.csv\")\n",
    "rectangle.head(5)"
   ]
  },
  {
   "cell_type": "markdown",
   "id": "30ecfc87-896c-402c-ad31-c37d18c4873f",
   "metadata": {},
   "source": [
    "Singular value decomposition is a numerical technique to automatically decompose matrix into three matrices. Given an input matrix X, SVD will return $U$, $\\Sigma$ and $V^T$ such that $ X = U \\Sigma V^T $.\n",
    "\n",
    "Check the documentation of `np.linalg.svd` [here](https://numpy.org/doc/stable/reference/generated/numpy.linalg.svd.html). There are multiple versions of SVD; to get the version that we will follow, we need to set the `full_matrices` parameter to `False`."
   ]
  },
  {
   "cell_type": "code",
   "execution_count": 4,
   "id": "244b2e31-ed0b-409e-bdb3-9d9f582608b3",
   "metadata": {},
   "outputs": [],
   "source": [
    "U, S, Vt = np.linalg.svd(rectangle, full_matrices = False)"
   ]
  },
  {
   "cell_type": "code",
   "execution_count": 5,
   "id": "3ab7a5c6-dfd6-406f-8e7b-72bbd6e70dcd",
   "metadata": {},
   "outputs": [
    {
     "data": {
      "text/html": [
       "<div>\n",
       "<style scoped>\n",
       "    .dataframe tbody tr th:only-of-type {\n",
       "        vertical-align: middle;\n",
       "    }\n",
       "\n",
       "    .dataframe tbody tr th {\n",
       "        vertical-align: top;\n",
       "    }\n",
       "\n",
       "    .dataframe thead th {\n",
       "        text-align: right;\n",
       "    }\n",
       "</style>\n",
       "<table border=\"1\" class=\"dataframe\">\n",
       "  <thead>\n",
       "    <tr style=\"text-align: right;\">\n",
       "      <th></th>\n",
       "      <th>0</th>\n",
       "      <th>1</th>\n",
       "      <th>2</th>\n",
       "      <th>3</th>\n",
       "    </tr>\n",
       "  </thead>\n",
       "  <tbody>\n",
       "    <tr>\n",
       "      <th>0</th>\n",
       "      <td>-0.155151</td>\n",
       "      <td>0.064830</td>\n",
       "      <td>-0.029935</td>\n",
       "      <td>0.833096</td>\n",
       "    </tr>\n",
       "    <tr>\n",
       "      <th>1</th>\n",
       "      <td>-0.038370</td>\n",
       "      <td>-0.089155</td>\n",
       "      <td>0.062019</td>\n",
       "      <td>-0.454464</td>\n",
       "    </tr>\n",
       "    <tr>\n",
       "      <th>2</th>\n",
       "      <td>-0.020357</td>\n",
       "      <td>-0.081138</td>\n",
       "      <td>0.058997</td>\n",
       "      <td>0.004259</td>\n",
       "    </tr>\n",
       "    <tr>\n",
       "      <th>3</th>\n",
       "      <td>-0.101519</td>\n",
       "      <td>-0.076203</td>\n",
       "      <td>-0.148160</td>\n",
       "      <td>-0.019153</td>\n",
       "    </tr>\n",
       "    <tr>\n",
       "      <th>4</th>\n",
       "      <td>-0.218973</td>\n",
       "      <td>0.206423</td>\n",
       "      <td>0.007274</td>\n",
       "      <td>-0.062668</td>\n",
       "    </tr>\n",
       "  </tbody>\n",
       "</table>\n",
       "</div>"
      ],
      "text/plain": [
       "          0         1         2         3\n",
       "0 -0.155151  0.064830 -0.029935  0.833096\n",
       "1 -0.038370 -0.089155  0.062019 -0.454464\n",
       "2 -0.020357 -0.081138  0.058997  0.004259\n",
       "3 -0.101519 -0.076203 -0.148160 -0.019153\n",
       "4 -0.218973  0.206423  0.007274 -0.062668"
      ]
     },
     "execution_count": 5,
     "metadata": {},
     "output_type": "execute_result"
    }
   ],
   "source": [
    "pd.DataFrame(U).head(5)"
   ]
  },
  {
   "cell_type": "code",
   "execution_count": 6,
   "id": "15a033bb-cd81-4a82-ac99-0a93807375de",
   "metadata": {},
   "outputs": [
    {
     "data": {
      "text/plain": [
       "(100, 4)"
      ]
     },
     "execution_count": 6,
     "metadata": {},
     "output_type": "execute_result"
    }
   ],
   "source": [
    "U.shape"
   ]
  },
  {
   "cell_type": "markdown",
   "id": "28b45ca5-3be5-4ddd-b559-0e87826577fa",
   "metadata": {},
   "source": [
    "$\\Sigma$ is a little different in `NumPy`. Since the only useful values in the diagonal matrix $\\Sigma$ are the singular values on the diagonal axis, only those values are returned and they are stored in an array.\n",
    "\n",
    "Our `rectangle_data` has a rank of $3$, so we should have 3 non-zero singular values, **sorted from largest to smallest**."
   ]
  },
  {
   "cell_type": "code",
   "execution_count": 7,
   "id": "b574f6a0-38fd-4fda-9af9-dfaf47dfa25a",
   "metadata": {},
   "outputs": [
    {
     "data": {
      "text/plain": [
       "array([3.62932568e+02, 6.29904732e+01, 2.56544651e+01, 7.67147618e-15])"
      ]
     },
     "execution_count": 7,
     "metadata": {},
     "output_type": "execute_result"
    }
   ],
   "source": [
    "S"
   ]
  },
  {
   "cell_type": "markdown",
   "id": "76b37c12-ec94-4e39-9c87-b811030478db",
   "metadata": {},
   "source": [
    "Hmm, looks like are four diagonal entries are not zero. What happened?\n",
    "\n",
    "It turns out there were some numerical rounding errors, but the last value is so small ($10^{-15}$) that it's practically $0$."
   ]
  },
  {
   "cell_type": "code",
   "execution_count": 8,
   "id": "417e93d7-314f-41f5-a52b-6b91e7ad7a18",
   "metadata": {},
   "outputs": [
    {
     "data": {
      "text/plain": [
       "True"
      ]
     },
     "execution_count": 8,
     "metadata": {},
     "output_type": "execute_result"
    }
   ],
   "source": [
    "np.isclose(S[3], 0)"
   ]
  },
  {
   "cell_type": "code",
   "execution_count": 9,
   "id": "c69790fe-a431-4584-abaa-ec54cdbd2645",
   "metadata": {},
   "outputs": [
    {
     "data": {
      "text/plain": [
       "array([363.,  63.,  26.,   0.])"
      ]
     },
     "execution_count": 9,
     "metadata": {},
     "output_type": "execute_result"
    }
   ],
   "source": [
    "np.round(S)"
   ]
  },
  {
   "cell_type": "markdown",
   "id": "d03fe69f-ad01-4f3b-928b-52f526ea25d2",
   "metadata": {},
   "source": [
    "Finally, $V^{\\top}$:"
   ]
  },
  {
   "cell_type": "code",
   "execution_count": 10,
   "id": "02f98786-66f5-4e14-8116-759b174240fd",
   "metadata": {},
   "outputs": [
    {
     "data": {
      "text/html": [
       "<div>\n",
       "<style scoped>\n",
       "    .dataframe tbody tr th:only-of-type {\n",
       "        vertical-align: middle;\n",
       "    }\n",
       "\n",
       "    .dataframe tbody tr th {\n",
       "        vertical-align: top;\n",
       "    }\n",
       "\n",
       "    .dataframe thead th {\n",
       "        text-align: right;\n",
       "    }\n",
       "</style>\n",
       "<table border=\"1\" class=\"dataframe\">\n",
       "  <thead>\n",
       "    <tr style=\"text-align: right;\">\n",
       "      <th></th>\n",
       "      <th>0</th>\n",
       "      <th>1</th>\n",
       "      <th>2</th>\n",
       "      <th>3</th>\n",
       "    </tr>\n",
       "  </thead>\n",
       "  <tbody>\n",
       "    <tr>\n",
       "      <th>0</th>\n",
       "      <td>-0.146436</td>\n",
       "      <td>-0.129942</td>\n",
       "      <td>-0.810020</td>\n",
       "      <td>-0.552756</td>\n",
       "    </tr>\n",
       "    <tr>\n",
       "      <th>1</th>\n",
       "      <td>-0.192736</td>\n",
       "      <td>-0.189128</td>\n",
       "      <td>0.586348</td>\n",
       "      <td>-0.763727</td>\n",
       "    </tr>\n",
       "    <tr>\n",
       "      <th>2</th>\n",
       "      <td>-0.704957</td>\n",
       "      <td>0.709155</td>\n",
       "      <td>0.007952</td>\n",
       "      <td>0.008396</td>\n",
       "    </tr>\n",
       "    <tr>\n",
       "      <th>3</th>\n",
       "      <td>-0.666667</td>\n",
       "      <td>-0.666667</td>\n",
       "      <td>0.000000</td>\n",
       "      <td>0.333333</td>\n",
       "    </tr>\n",
       "  </tbody>\n",
       "</table>\n",
       "</div>"
      ],
      "text/plain": [
       "          0         1         2         3\n",
       "0 -0.146436 -0.129942 -0.810020 -0.552756\n",
       "1 -0.192736 -0.189128  0.586348 -0.763727\n",
       "2 -0.704957  0.709155  0.007952  0.008396\n",
       "3 -0.666667 -0.666667  0.000000  0.333333"
      ]
     },
     "execution_count": 10,
     "metadata": {},
     "output_type": "execute_result"
    }
   ],
   "source": [
    "pd.DataFrame(Vt)"
   ]
  },
  {
   "cell_type": "code",
   "execution_count": 11,
   "id": "939ee26c-78e2-4753-a013-ca239727c40a",
   "metadata": {},
   "outputs": [
    {
     "data": {
      "text/plain": [
       "(4, 4)"
      ]
     },
     "execution_count": 11,
     "metadata": {},
     "output_type": "execute_result"
    }
   ],
   "source": [
    "Vt.shape"
   ]
  },
  {
   "cell_type": "markdown",
   "id": "26fae4e1-2c09-43ed-a9b5-406aa958f58f",
   "metadata": {},
   "source": [
    "To check that this SVD is a valid decomposition, we can reverse it."
   ]
  },
  {
   "cell_type": "code",
   "execution_count": 12,
   "id": "5e2db8aa-dd4d-4942-9232-21bb8dcc71b3",
   "metadata": {},
   "outputs": [
    {
     "data": {
      "text/html": [
       "<div>\n",
       "<style scoped>\n",
       "    .dataframe tbody tr th:only-of-type {\n",
       "        vertical-align: middle;\n",
       "    }\n",
       "\n",
       "    .dataframe tbody tr th {\n",
       "        vertical-align: top;\n",
       "    }\n",
       "\n",
       "    .dataframe thead th {\n",
       "        text-align: right;\n",
       "    }\n",
       "</style>\n",
       "<table border=\"1\" class=\"dataframe\">\n",
       "  <thead>\n",
       "    <tr style=\"text-align: right;\">\n",
       "      <th></th>\n",
       "      <th>0</th>\n",
       "      <th>1</th>\n",
       "      <th>2</th>\n",
       "      <th>3</th>\n",
       "    </tr>\n",
       "  </thead>\n",
       "  <tbody>\n",
       "    <tr>\n",
       "      <th>0</th>\n",
       "      <td>8.0</td>\n",
       "      <td>6.0</td>\n",
       "      <td>48.0</td>\n",
       "      <td>28.0</td>\n",
       "    </tr>\n",
       "    <tr>\n",
       "      <th>1</th>\n",
       "      <td>2.0</td>\n",
       "      <td>4.0</td>\n",
       "      <td>8.0</td>\n",
       "      <td>12.0</td>\n",
       "    </tr>\n",
       "    <tr>\n",
       "      <th>2</th>\n",
       "      <td>1.0</td>\n",
       "      <td>3.0</td>\n",
       "      <td>3.0</td>\n",
       "      <td>8.0</td>\n",
       "    </tr>\n",
       "    <tr>\n",
       "      <th>3</th>\n",
       "      <td>9.0</td>\n",
       "      <td>3.0</td>\n",
       "      <td>27.0</td>\n",
       "      <td>24.0</td>\n",
       "    </tr>\n",
       "    <tr>\n",
       "      <th>4</th>\n",
       "      <td>9.0</td>\n",
       "      <td>8.0</td>\n",
       "      <td>72.0</td>\n",
       "      <td>34.0</td>\n",
       "    </tr>\n",
       "  </tbody>\n",
       "</table>\n",
       "</div>"
      ],
      "text/plain": [
       "     0    1     2     3\n",
       "0  8.0  6.0  48.0  28.0\n",
       "1  2.0  4.0   8.0  12.0\n",
       "2  1.0  3.0   3.0   8.0\n",
       "3  9.0  3.0  27.0  24.0\n",
       "4  9.0  8.0  72.0  34.0"
      ]
     },
     "execution_count": 12,
     "metadata": {},
     "output_type": "execute_result"
    }
   ],
   "source": [
    "pd.DataFrame(U * S @ Vt).head(5)"
   ]
  },
  {
   "cell_type": "markdown",
   "id": "8155c1e2-40f9-41d1-9917-97ef2265bd7b",
   "metadata": {},
   "source": [
    "\n",
    "</br>\n",
    "</br>\n",
    "</br>\n",
    "</br>\n",
    "</br>\n",
    "</br>\n",
    "</br>\n",
    "</br>\n",
    "</br>\n",
    "\n",
    "\n",
    "\n",
    "\n",
    "\n",
    "\n",
    "\n",
    "\n"
   ]
  },
  {
   "cell_type": "markdown",
   "id": "b05d9884-fd2e-41e4-8c0d-b174f05dfaa0",
   "metadata": {},
   "source": [
    "## PCA with SVD\n",
    "\n",
    "### Step 1: Center the Data Matrix $X$"
   ]
  },
  {
   "cell_type": "code",
   "execution_count": 16,
   "id": "693c7cfa-c71d-4d7a-a34c-f537f7f56ce8",
   "metadata": {},
   "outputs": [
    {
     "data": {
      "text/html": [
       "<div>\n",
       "<style scoped>\n",
       "    .dataframe tbody tr th:only-of-type {\n",
       "        vertical-align: middle;\n",
       "    }\n",
       "\n",
       "    .dataframe tbody tr th {\n",
       "        vertical-align: top;\n",
       "    }\n",
       "\n",
       "    .dataframe thead th {\n",
       "        text-align: right;\n",
       "    }\n",
       "</style>\n",
       "<table border=\"1\" class=\"dataframe\">\n",
       "  <thead>\n",
       "    <tr style=\"text-align: right;\">\n",
       "      <th></th>\n",
       "      <th>width</th>\n",
       "      <th>height</th>\n",
       "      <th>area</th>\n",
       "      <th>perimeter</th>\n",
       "    </tr>\n",
       "  </thead>\n",
       "  <tbody>\n",
       "    <tr>\n",
       "      <th>0</th>\n",
       "      <td>2.97</td>\n",
       "      <td>1.35</td>\n",
       "      <td>24.78</td>\n",
       "      <td>8.64</td>\n",
       "    </tr>\n",
       "    <tr>\n",
       "      <th>1</th>\n",
       "      <td>-3.03</td>\n",
       "      <td>-0.65</td>\n",
       "      <td>-15.22</td>\n",
       "      <td>-7.36</td>\n",
       "    </tr>\n",
       "    <tr>\n",
       "      <th>2</th>\n",
       "      <td>-4.03</td>\n",
       "      <td>-1.65</td>\n",
       "      <td>-20.22</td>\n",
       "      <td>-11.36</td>\n",
       "    </tr>\n",
       "    <tr>\n",
       "      <th>3</th>\n",
       "      <td>3.97</td>\n",
       "      <td>-1.65</td>\n",
       "      <td>3.78</td>\n",
       "      <td>4.64</td>\n",
       "    </tr>\n",
       "    <tr>\n",
       "      <th>4</th>\n",
       "      <td>3.97</td>\n",
       "      <td>3.35</td>\n",
       "      <td>48.78</td>\n",
       "      <td>14.64</td>\n",
       "    </tr>\n",
       "  </tbody>\n",
       "</table>\n",
       "</div>"
      ],
      "text/plain": [
       "   width  height   area  perimeter\n",
       "0   2.97    1.35  24.78       8.64\n",
       "1  -3.03   -0.65 -15.22      -7.36\n",
       "2  -4.03   -1.65 -20.22     -11.36\n",
       "3   3.97   -1.65   3.78       4.64\n",
       "4   3.97    3.35  48.78      14.64"
      ]
     },
     "execution_count": 16,
     "metadata": {},
     "output_type": "execute_result"
    }
   ],
   "source": [
    "centered_df = rectangle - np.mean(rectangle, axis = 0)\n",
    "centered_df.head(5)"
   ]
  },
  {
   "cell_type": "markdown",
   "id": "85221dc2-5ae8-4927-8dba-ba3f3428f090",
   "metadata": {},
   "source": [
    "### Step 2: Get the SVD of centered $X$"
   ]
  },
  {
   "cell_type": "code",
   "execution_count": 19,
   "id": "fe344c03-91c0-408b-b751-c26b08a5be72",
   "metadata": {},
   "outputs": [],
   "source": [
    "U, S, Vt = np.linalg.svd(centered_df, full_matrices = False)"
   ]
  },
  {
   "cell_type": "markdown",
   "id": "12c1b3f3-3e99-4a24-abb2-f500ea3d95a4",
   "metadata": {},
   "source": [
    "$U$:"
   ]
  },
  {
   "cell_type": "code",
   "execution_count": 24,
   "id": "321c720a-3684-4012-ac5a-27745a5d505d",
   "metadata": {},
   "outputs": [
    {
     "data": {
      "text/plain": [
       "(100, 4)"
      ]
     },
     "execution_count": 24,
     "metadata": {},
     "output_type": "execute_result"
    }
   ],
   "source": [
    "U.shape"
   ]
  },
  {
   "cell_type": "code",
   "execution_count": 21,
   "id": "5051d3b4-9d2c-4ce0-86b7-20289c517472",
   "metadata": {},
   "outputs": [
    {
     "data": {
      "text/html": [
       "<div>\n",
       "<style scoped>\n",
       "    .dataframe tbody tr th:only-of-type {\n",
       "        vertical-align: middle;\n",
       "    }\n",
       "\n",
       "    .dataframe tbody tr th {\n",
       "        vertical-align: top;\n",
       "    }\n",
       "\n",
       "    .dataframe thead th {\n",
       "        text-align: right;\n",
       "    }\n",
       "</style>\n",
       "<table border=\"1\" class=\"dataframe\">\n",
       "  <thead>\n",
       "    <tr style=\"text-align: right;\">\n",
       "      <th></th>\n",
       "      <th>0</th>\n",
       "      <th>1</th>\n",
       "      <th>2</th>\n",
       "      <th>3</th>\n",
       "    </tr>\n",
       "  </thead>\n",
       "  <tbody>\n",
       "    <tr>\n",
       "      <th>0</th>\n",
       "      <td>-0.133910</td>\n",
       "      <td>0.005930</td>\n",
       "      <td>0.034734</td>\n",
       "      <td>-0.296836</td>\n",
       "    </tr>\n",
       "    <tr>\n",
       "      <th>1</th>\n",
       "      <td>0.086354</td>\n",
       "      <td>-0.079515</td>\n",
       "      <td>0.014948</td>\n",
       "      <td>0.711478</td>\n",
       "    </tr>\n",
       "    <tr>\n",
       "      <th>2</th>\n",
       "      <td>0.117766</td>\n",
       "      <td>-0.128963</td>\n",
       "      <td>0.085774</td>\n",
       "      <td>-0.065318</td>\n",
       "    </tr>\n",
       "    <tr>\n",
       "      <th>3</th>\n",
       "      <td>-0.027274</td>\n",
       "      <td>0.183177</td>\n",
       "      <td>0.010895</td>\n",
       "      <td>-0.031055</td>\n",
       "    </tr>\n",
       "    <tr>\n",
       "      <th>4</th>\n",
       "      <td>-0.258806</td>\n",
       "      <td>-0.094295</td>\n",
       "      <td>0.090270</td>\n",
       "      <td>-0.032818</td>\n",
       "    </tr>\n",
       "  </tbody>\n",
       "</table>\n",
       "</div>"
      ],
      "text/plain": [
       "          0         1         2         3\n",
       "0 -0.133910  0.005930  0.034734 -0.296836\n",
       "1  0.086354 -0.079515  0.014948  0.711478\n",
       "2  0.117766 -0.128963  0.085774 -0.065318\n",
       "3 -0.027274  0.183177  0.010895 -0.031055\n",
       "4 -0.258806 -0.094295  0.090270 -0.032818"
      ]
     },
     "execution_count": 21,
     "metadata": {},
     "output_type": "execute_result"
    }
   ],
   "source": [
    "pd.DataFrame(U).head(5)"
   ]
  },
  {
   "cell_type": "markdown",
   "id": "5090ecce-b88f-45c7-89d0-4cec5f42f166",
   "metadata": {},
   "source": [
    "$\\Sigma$:"
   ]
  },
  {
   "cell_type": "code",
   "execution_count": 22,
   "id": "b4dd5b04-c62f-4d40-8f19-bdccc4f6857e",
   "metadata": {},
   "outputs": [
    {
     "data": {
      "text/html": [
       "<div>\n",
       "<style scoped>\n",
       "    .dataframe tbody tr th:only-of-type {\n",
       "        vertical-align: middle;\n",
       "    }\n",
       "\n",
       "    .dataframe tbody tr th {\n",
       "        vertical-align: top;\n",
       "    }\n",
       "\n",
       "    .dataframe thead th {\n",
       "        text-align: right;\n",
       "    }\n",
       "</style>\n",
       "<table border=\"1\" class=\"dataframe\">\n",
       "  <thead>\n",
       "    <tr style=\"text-align: right;\">\n",
       "      <th></th>\n",
       "      <th>0</th>\n",
       "      <th>1</th>\n",
       "      <th>2</th>\n",
       "      <th>3</th>\n",
       "    </tr>\n",
       "  </thead>\n",
       "  <tbody>\n",
       "    <tr>\n",
       "      <th>0</th>\n",
       "      <td>197.4</td>\n",
       "      <td>0.0</td>\n",
       "      <td>0.0</td>\n",
       "      <td>0.0</td>\n",
       "    </tr>\n",
       "    <tr>\n",
       "      <th>1</th>\n",
       "      <td>0.0</td>\n",
       "      <td>27.4</td>\n",
       "      <td>0.0</td>\n",
       "      <td>0.0</td>\n",
       "    </tr>\n",
       "    <tr>\n",
       "      <th>2</th>\n",
       "      <td>0.0</td>\n",
       "      <td>0.0</td>\n",
       "      <td>23.3</td>\n",
       "      <td>0.0</td>\n",
       "    </tr>\n",
       "    <tr>\n",
       "      <th>3</th>\n",
       "      <td>0.0</td>\n",
       "      <td>0.0</td>\n",
       "      <td>0.0</td>\n",
       "      <td>0.0</td>\n",
       "    </tr>\n",
       "  </tbody>\n",
       "</table>\n",
       "</div>"
      ],
      "text/plain": [
       "       0     1     2    3\n",
       "0  197.4   0.0   0.0  0.0\n",
       "1    0.0  27.4   0.0  0.0\n",
       "2    0.0   0.0  23.3  0.0\n",
       "3    0.0   0.0   0.0  0.0"
      ]
     },
     "execution_count": 22,
     "metadata": {},
     "output_type": "execute_result"
    }
   ],
   "source": [
    "pd.DataFrame(np.diag(np.round(S, 1)))"
   ]
  },
  {
   "cell_type": "markdown",
   "id": "46df6ab3-22b0-4477-81e0-3ea2d12e391b",
   "metadata": {},
   "source": [
    "$V^{\\top}$:"
   ]
  },
  {
   "cell_type": "code",
   "execution_count": 23,
   "id": "a3481713-964a-4270-b32a-85c30c209e81",
   "metadata": {},
   "outputs": [
    {
     "data": {
      "text/html": [
       "<div>\n",
       "<style scoped>\n",
       "    .dataframe tbody tr th:only-of-type {\n",
       "        vertical-align: middle;\n",
       "    }\n",
       "\n",
       "    .dataframe tbody tr th {\n",
       "        vertical-align: top;\n",
       "    }\n",
       "\n",
       "    .dataframe thead th {\n",
       "        text-align: right;\n",
       "    }\n",
       "</style>\n",
       "<table border=\"1\" class=\"dataframe\">\n",
       "  <thead>\n",
       "    <tr style=\"text-align: right;\">\n",
       "      <th></th>\n",
       "      <th>0</th>\n",
       "      <th>1</th>\n",
       "      <th>2</th>\n",
       "      <th>3</th>\n",
       "    </tr>\n",
       "  </thead>\n",
       "  <tbody>\n",
       "    <tr>\n",
       "      <th>0</th>\n",
       "      <td>-0.098631</td>\n",
       "      <td>-0.072956</td>\n",
       "      <td>-0.931226</td>\n",
       "      <td>-0.343173</td>\n",
       "    </tr>\n",
       "    <tr>\n",
       "      <th>1</th>\n",
       "      <td>0.668460</td>\n",
       "      <td>-0.374186</td>\n",
       "      <td>-0.258375</td>\n",
       "      <td>0.588548</td>\n",
       "    </tr>\n",
       "    <tr>\n",
       "      <th>2</th>\n",
       "      <td>0.314625</td>\n",
       "      <td>-0.640483</td>\n",
       "      <td>0.257023</td>\n",
       "      <td>-0.651715</td>\n",
       "    </tr>\n",
       "    <tr>\n",
       "      <th>3</th>\n",
       "      <td>0.666667</td>\n",
       "      <td>0.666667</td>\n",
       "      <td>0.000000</td>\n",
       "      <td>-0.333333</td>\n",
       "    </tr>\n",
       "  </tbody>\n",
       "</table>\n",
       "</div>"
      ],
      "text/plain": [
       "          0         1         2         3\n",
       "0 -0.098631 -0.072956 -0.931226 -0.343173\n",
       "1  0.668460 -0.374186 -0.258375  0.588548\n",
       "2  0.314625 -0.640483  0.257023 -0.651715\n",
       "3  0.666667  0.666667  0.000000 -0.333333"
      ]
     },
     "execution_count": 23,
     "metadata": {},
     "output_type": "execute_result"
    }
   ],
   "source": [
    "pd.DataFrame(Vt)"
   ]
  },
  {
   "cell_type": "markdown",
   "id": "635795fe-8c63-46a4-91d7-bf904f5c6d5d",
   "metadata": {},
   "source": [
    "### Step 3: Multiply either $U\\Sigma$ or $XV$"
   ]
  },
  {
   "cell_type": "markdown",
   "id": "08d0d844-ad65-4ba3-873b-a6d5a6dfb7e1",
   "metadata": {},
   "source": [
    "Try $U\\Sigma$ first:"
   ]
  },
  {
   "cell_type": "code",
   "execution_count": 26,
   "id": "efed9062-4698-4052-a378-08768b6c7f79",
   "metadata": {},
   "outputs": [
    {
     "data": {
      "text/html": [
       "<div>\n",
       "<style scoped>\n",
       "    .dataframe tbody tr th:only-of-type {\n",
       "        vertical-align: middle;\n",
       "    }\n",
       "\n",
       "    .dataframe tbody tr th {\n",
       "        vertical-align: top;\n",
       "    }\n",
       "\n",
       "    .dataframe thead th {\n",
       "        text-align: right;\n",
       "    }\n",
       "</style>\n",
       "<table border=\"1\" class=\"dataframe\">\n",
       "  <thead>\n",
       "    <tr style=\"text-align: right;\">\n",
       "      <th></th>\n",
       "      <th>0</th>\n",
       "      <th>1</th>\n",
       "      <th>2</th>\n",
       "      <th>3</th>\n",
       "    </tr>\n",
       "  </thead>\n",
       "  <tbody>\n",
       "    <tr>\n",
       "      <th>0</th>\n",
       "      <td>-26.432217</td>\n",
       "      <td>0.162686</td>\n",
       "      <td>0.807998</td>\n",
       "      <td>-2.738093e-15</td>\n",
       "    </tr>\n",
       "    <tr>\n",
       "      <th>1</th>\n",
       "      <td>17.045285</td>\n",
       "      <td>-2.181451</td>\n",
       "      <td>0.347732</td>\n",
       "      <td>6.562857e-15</td>\n",
       "    </tr>\n",
       "    <tr>\n",
       "      <th>2</th>\n",
       "      <td>23.245695</td>\n",
       "      <td>-3.538040</td>\n",
       "      <td>1.995334</td>\n",
       "      <td>-6.025133e-16</td>\n",
       "    </tr>\n",
       "    <tr>\n",
       "      <th>3</th>\n",
       "      <td>-5.383546</td>\n",
       "      <td>5.025395</td>\n",
       "      <td>0.253448</td>\n",
       "      <td>-2.864630e-16</td>\n",
       "    </tr>\n",
       "    <tr>\n",
       "      <th>4</th>\n",
       "      <td>-51.085217</td>\n",
       "      <td>-2.586948</td>\n",
       "      <td>2.099919</td>\n",
       "      <td>-3.027184e-16</td>\n",
       "    </tr>\n",
       "  </tbody>\n",
       "</table>\n",
       "</div>"
      ],
      "text/plain": [
       "           0         1         2             3\n",
       "0 -26.432217  0.162686  0.807998 -2.738093e-15\n",
       "1  17.045285 -2.181451  0.347732  6.562857e-15\n",
       "2  23.245695 -3.538040  1.995334 -6.025133e-16\n",
       "3  -5.383546  5.025395  0.253448 -2.864630e-16\n",
       "4 -51.085217 -2.586948  2.099919 -3.027184e-16"
      ]
     },
     "execution_count": 26,
     "metadata": {},
     "output_type": "execute_result"
    }
   ],
   "source": [
    "pd.DataFrame(U @ np.diag(S)).head(5)"
   ]
  },
  {
   "cell_type": "markdown",
   "id": "69b36a27-04b3-4801-8a95-00adfccb2fff",
   "metadata": {},
   "source": [
    "Then $XV$:"
   ]
  },
  {
   "cell_type": "code",
   "execution_count": 28,
   "id": "296aab42-b2f1-4cb0-a522-59ace922f98f",
   "metadata": {},
   "outputs": [
    {
     "data": {
      "text/html": [
       "<div>\n",
       "<style scoped>\n",
       "    .dataframe tbody tr th:only-of-type {\n",
       "        vertical-align: middle;\n",
       "    }\n",
       "\n",
       "    .dataframe tbody tr th {\n",
       "        vertical-align: top;\n",
       "    }\n",
       "\n",
       "    .dataframe thead th {\n",
       "        text-align: right;\n",
       "    }\n",
       "</style>\n",
       "<table border=\"1\" class=\"dataframe\">\n",
       "  <thead>\n",
       "    <tr style=\"text-align: right;\">\n",
       "      <th></th>\n",
       "      <th>0</th>\n",
       "      <th>1</th>\n",
       "      <th>2</th>\n",
       "      <th>3</th>\n",
       "    </tr>\n",
       "  </thead>\n",
       "  <tbody>\n",
       "    <tr>\n",
       "      <th>0</th>\n",
       "      <td>-26.432217</td>\n",
       "      <td>0.162686</td>\n",
       "      <td>0.807998</td>\n",
       "      <td>-2.978358e-15</td>\n",
       "    </tr>\n",
       "    <tr>\n",
       "      <th>1</th>\n",
       "      <td>17.045285</td>\n",
       "      <td>-2.181451</td>\n",
       "      <td>0.347732</td>\n",
       "      <td>1.462534e-15</td>\n",
       "    </tr>\n",
       "    <tr>\n",
       "      <th>2</th>\n",
       "      <td>23.245695</td>\n",
       "      <td>-3.538040</td>\n",
       "      <td>1.995334</td>\n",
       "      <td>2.350712e-15</td>\n",
       "    </tr>\n",
       "    <tr>\n",
       "      <th>3</th>\n",
       "      <td>-5.383546</td>\n",
       "      <td>5.025395</td>\n",
       "      <td>0.253448</td>\n",
       "      <td>-1.868135e-15</td>\n",
       "    </tr>\n",
       "    <tr>\n",
       "      <th>4</th>\n",
       "      <td>-51.085217</td>\n",
       "      <td>-2.586948</td>\n",
       "      <td>2.099919</td>\n",
       "      <td>-4.088581e-15</td>\n",
       "    </tr>\n",
       "  </tbody>\n",
       "</table>\n",
       "</div>"
      ],
      "text/plain": [
       "           0         1         2             3\n",
       "0 -26.432217  0.162686  0.807998 -2.978358e-15\n",
       "1  17.045285 -2.181451  0.347732  1.462534e-15\n",
       "2  23.245695 -3.538040  1.995334  2.350712e-15\n",
       "3  -5.383546  5.025395  0.253448 -1.868135e-15\n",
       "4 -51.085217 -2.586948  2.099919 -4.088581e-15"
      ]
     },
     "execution_count": 28,
     "metadata": {},
     "output_type": "execute_result"
    }
   ],
   "source": [
    "pd.DataFrame(centered_df @ Vt.T).head(5)"
   ]
  },
  {
   "cell_type": "markdown",
   "id": "72da5c3d-c7de-407c-a3e5-6276750dc07a",
   "metadata": {},
   "source": [
    "We can see these are exactly the same."
   ]
  },
  {
   "cell_type": "markdown",
   "id": "33f514db-5493-4e14-9580-1a539a2ee45d",
   "metadata": {},
   "source": [
    "### Step 4: Get the first $k$ columns\n",
    "\n",
    "Let's get the first two principal components of $X$"
   ]
  },
  {
   "cell_type": "code",
   "execution_count": 30,
   "id": "e0b73b2b-ef4c-4321-bf8c-797ef084f18c",
   "metadata": {},
   "outputs": [],
   "source": [
    "two_PCs = (U @ np.diag(S))[:, :2]"
   ]
  },
  {
   "cell_type": "code",
   "execution_count": 31,
   "id": "e7770557-8d96-4034-8a84-b20cfcfd3d8e",
   "metadata": {},
   "outputs": [
    {
     "data": {
      "text/html": [
       "<div>\n",
       "<style scoped>\n",
       "    .dataframe tbody tr th:only-of-type {\n",
       "        vertical-align: middle;\n",
       "    }\n",
       "\n",
       "    .dataframe tbody tr th {\n",
       "        vertical-align: top;\n",
       "    }\n",
       "\n",
       "    .dataframe thead th {\n",
       "        text-align: right;\n",
       "    }\n",
       "</style>\n",
       "<table border=\"1\" class=\"dataframe\">\n",
       "  <thead>\n",
       "    <tr style=\"text-align: right;\">\n",
       "      <th></th>\n",
       "      <th>0</th>\n",
       "      <th>1</th>\n",
       "    </tr>\n",
       "  </thead>\n",
       "  <tbody>\n",
       "    <tr>\n",
       "      <th>0</th>\n",
       "      <td>-26.432217</td>\n",
       "      <td>0.162686</td>\n",
       "    </tr>\n",
       "    <tr>\n",
       "      <th>1</th>\n",
       "      <td>17.045285</td>\n",
       "      <td>-2.181451</td>\n",
       "    </tr>\n",
       "    <tr>\n",
       "      <th>2</th>\n",
       "      <td>23.245695</td>\n",
       "      <td>-3.538040</td>\n",
       "    </tr>\n",
       "    <tr>\n",
       "      <th>3</th>\n",
       "      <td>-5.383546</td>\n",
       "      <td>5.025395</td>\n",
       "    </tr>\n",
       "    <tr>\n",
       "      <th>4</th>\n",
       "      <td>-51.085217</td>\n",
       "      <td>-2.586948</td>\n",
       "    </tr>\n",
       "    <tr>\n",
       "      <th>...</th>\n",
       "      <td>...</td>\n",
       "      <td>...</td>\n",
       "    </tr>\n",
       "    <tr>\n",
       "      <th>95</th>\n",
       "      <td>-18.223108</td>\n",
       "      <td>1.426779</td>\n",
       "    </tr>\n",
       "    <tr>\n",
       "      <th>96</th>\n",
       "      <td>-34.641325</td>\n",
       "      <td>-1.101407</td>\n",
       "    </tr>\n",
       "    <tr>\n",
       "      <th>97</th>\n",
       "      <td>21.555166</td>\n",
       "      <td>-2.993505</td>\n",
       "    </tr>\n",
       "    <tr>\n",
       "      <th>98</th>\n",
       "      <td>18.174109</td>\n",
       "      <td>-1.904436</td>\n",
       "    </tr>\n",
       "    <tr>\n",
       "      <th>99</th>\n",
       "      <td>11.801777</td>\n",
       "      <td>-1.609133</td>\n",
       "    </tr>\n",
       "  </tbody>\n",
       "</table>\n",
       "<p>100 rows × 2 columns</p>\n",
       "</div>"
      ],
      "text/plain": [
       "            0         1\n",
       "0  -26.432217  0.162686\n",
       "1   17.045285 -2.181451\n",
       "2   23.245695 -3.538040\n",
       "3   -5.383546  5.025395\n",
       "4  -51.085217 -2.586948\n",
       "..        ...       ...\n",
       "95 -18.223108  1.426779\n",
       "96 -34.641325 -1.101407\n",
       "97  21.555166 -2.993505\n",
       "98  18.174109 -1.904436\n",
       "99  11.801777 -1.609133\n",
       "\n",
       "[100 rows x 2 columns]"
      ]
     },
     "execution_count": 31,
     "metadata": {},
     "output_type": "execute_result"
    }
   ],
   "source": [
    "pd.DataFrame(two_PCs)"
   ]
  },
  {
   "cell_type": "markdown",
   "id": "c8cd3acf-e9e4-4e05-ae5a-306853d8db55",
   "metadata": {},
   "source": [
    "Using $XV$:"
   ]
  },
  {
   "cell_type": "code",
   "execution_count": 36,
   "id": "492d0fbc-7861-4373-b718-26581e64ec4f",
   "metadata": {},
   "outputs": [
    {
     "data": {
      "text/html": [
       "<div>\n",
       "<style scoped>\n",
       "    .dataframe tbody tr th:only-of-type {\n",
       "        vertical-align: middle;\n",
       "    }\n",
       "\n",
       "    .dataframe tbody tr th {\n",
       "        vertical-align: top;\n",
       "    }\n",
       "\n",
       "    .dataframe thead th {\n",
       "        text-align: right;\n",
       "    }\n",
       "</style>\n",
       "<table border=\"1\" class=\"dataframe\">\n",
       "  <thead>\n",
       "    <tr style=\"text-align: right;\">\n",
       "      <th></th>\n",
       "      <th>0</th>\n",
       "      <th>1</th>\n",
       "    </tr>\n",
       "  </thead>\n",
       "  <tbody>\n",
       "    <tr>\n",
       "      <th>0</th>\n",
       "      <td>-26.432217</td>\n",
       "      <td>0.162686</td>\n",
       "    </tr>\n",
       "    <tr>\n",
       "      <th>1</th>\n",
       "      <td>17.045285</td>\n",
       "      <td>-2.181451</td>\n",
       "    </tr>\n",
       "    <tr>\n",
       "      <th>2</th>\n",
       "      <td>23.245695</td>\n",
       "      <td>-3.538040</td>\n",
       "    </tr>\n",
       "    <tr>\n",
       "      <th>3</th>\n",
       "      <td>-5.383546</td>\n",
       "      <td>5.025395</td>\n",
       "    </tr>\n",
       "    <tr>\n",
       "      <th>4</th>\n",
       "      <td>-51.085217</td>\n",
       "      <td>-2.586948</td>\n",
       "    </tr>\n",
       "    <tr>\n",
       "      <th>...</th>\n",
       "      <td>...</td>\n",
       "      <td>...</td>\n",
       "    </tr>\n",
       "    <tr>\n",
       "      <th>95</th>\n",
       "      <td>-18.223108</td>\n",
       "      <td>1.426779</td>\n",
       "    </tr>\n",
       "    <tr>\n",
       "      <th>96</th>\n",
       "      <td>-34.641325</td>\n",
       "      <td>-1.101407</td>\n",
       "    </tr>\n",
       "    <tr>\n",
       "      <th>97</th>\n",
       "      <td>21.555166</td>\n",
       "      <td>-2.993505</td>\n",
       "    </tr>\n",
       "    <tr>\n",
       "      <th>98</th>\n",
       "      <td>18.174109</td>\n",
       "      <td>-1.904436</td>\n",
       "    </tr>\n",
       "    <tr>\n",
       "      <th>99</th>\n",
       "      <td>11.801777</td>\n",
       "      <td>-1.609133</td>\n",
       "    </tr>\n",
       "  </tbody>\n",
       "</table>\n",
       "<p>100 rows × 2 columns</p>\n",
       "</div>"
      ],
      "text/plain": [
       "            0         1\n",
       "0  -26.432217  0.162686\n",
       "1   17.045285 -2.181451\n",
       "2   23.245695 -3.538040\n",
       "3   -5.383546  5.025395\n",
       "4  -51.085217 -2.586948\n",
       "..        ...       ...\n",
       "95 -18.223108  1.426779\n",
       "96 -34.641325 -1.101407\n",
       "97  21.555166 -2.993505\n",
       "98  18.174109 -1.904436\n",
       "99  11.801777 -1.609133\n",
       "\n",
       "[100 rows x 2 columns]"
      ]
     },
     "execution_count": 36,
     "metadata": {},
     "output_type": "execute_result"
    }
   ],
   "source": [
    "(centered_df @ Vt.T).iloc[:, :2]"
   ]
  },
  {
   "cell_type": "markdown",
   "id": "151db728-3fb9-4969-9a9c-39bc5f2a937d",
   "metadata": {},
   "source": [
    "## Lower Rank Approximation of $X$"
   ]
  },
  {
   "cell_type": "markdown",
   "id": "22b899dc-367f-4f3b-bcd7-dd3a4675ccb3",
   "metadata": {},
   "source": [
    "Remember we said we can recover $X$ by mutiplying $U$, $\\Sigma$, and $V^{\\top}$ in the first part of the demo?"
   ]
  },
  {
   "cell_type": "code",
   "execution_count": 37,
   "id": "7d338e87-305b-4efb-9bdc-0ee2c9a824e0",
   "metadata": {},
   "outputs": [
    {
     "data": {
      "text/html": [
       "<div>\n",
       "<style scoped>\n",
       "    .dataframe tbody tr th:only-of-type {\n",
       "        vertical-align: middle;\n",
       "    }\n",
       "\n",
       "    .dataframe tbody tr th {\n",
       "        vertical-align: top;\n",
       "    }\n",
       "\n",
       "    .dataframe thead th {\n",
       "        text-align: right;\n",
       "    }\n",
       "</style>\n",
       "<table border=\"1\" class=\"dataframe\">\n",
       "  <thead>\n",
       "    <tr style=\"text-align: right;\">\n",
       "      <th></th>\n",
       "      <th>0</th>\n",
       "      <th>1</th>\n",
       "      <th>2</th>\n",
       "      <th>3</th>\n",
       "    </tr>\n",
       "  </thead>\n",
       "  <tbody>\n",
       "    <tr>\n",
       "      <th>0</th>\n",
       "      <td>2.97</td>\n",
       "      <td>1.35</td>\n",
       "      <td>24.78</td>\n",
       "      <td>8.64</td>\n",
       "    </tr>\n",
       "    <tr>\n",
       "      <th>1</th>\n",
       "      <td>-3.03</td>\n",
       "      <td>-0.65</td>\n",
       "      <td>-15.22</td>\n",
       "      <td>-7.36</td>\n",
       "    </tr>\n",
       "    <tr>\n",
       "      <th>2</th>\n",
       "      <td>-4.03</td>\n",
       "      <td>-1.65</td>\n",
       "      <td>-20.22</td>\n",
       "      <td>-11.36</td>\n",
       "    </tr>\n",
       "    <tr>\n",
       "      <th>3</th>\n",
       "      <td>3.97</td>\n",
       "      <td>-1.65</td>\n",
       "      <td>3.78</td>\n",
       "      <td>4.64</td>\n",
       "    </tr>\n",
       "    <tr>\n",
       "      <th>4</th>\n",
       "      <td>3.97</td>\n",
       "      <td>3.35</td>\n",
       "      <td>48.78</td>\n",
       "      <td>14.64</td>\n",
       "    </tr>\n",
       "  </tbody>\n",
       "</table>\n",
       "</div>"
      ],
      "text/plain": [
       "      0     1      2      3\n",
       "0  2.97  1.35  24.78   8.64\n",
       "1 -3.03 -0.65 -15.22  -7.36\n",
       "2 -4.03 -1.65 -20.22 -11.36\n",
       "3  3.97 -1.65   3.78   4.64\n",
       "4  3.97  3.35  48.78  14.64"
      ]
     },
     "execution_count": 37,
     "metadata": {},
     "output_type": "execute_result"
    }
   ],
   "source": [
    "pd.DataFrame(U * S @ Vt).head(5)"
   ]
  },
  {
   "cell_type": "markdown",
   "id": "35bd29d1-e071-4406-af72-a30d73d05790",
   "metadata": {},
   "source": [
    "Compared to the centered $X$:"
   ]
  },
  {
   "cell_type": "code",
   "execution_count": 38,
   "id": "91315f22-99fa-4584-b2f9-5184237ee6aa",
   "metadata": {},
   "outputs": [
    {
     "data": {
      "text/html": [
       "<div>\n",
       "<style scoped>\n",
       "    .dataframe tbody tr th:only-of-type {\n",
       "        vertical-align: middle;\n",
       "    }\n",
       "\n",
       "    .dataframe tbody tr th {\n",
       "        vertical-align: top;\n",
       "    }\n",
       "\n",
       "    .dataframe thead th {\n",
       "        text-align: right;\n",
       "    }\n",
       "</style>\n",
       "<table border=\"1\" class=\"dataframe\">\n",
       "  <thead>\n",
       "    <tr style=\"text-align: right;\">\n",
       "      <th></th>\n",
       "      <th>width</th>\n",
       "      <th>height</th>\n",
       "      <th>area</th>\n",
       "      <th>perimeter</th>\n",
       "    </tr>\n",
       "  </thead>\n",
       "  <tbody>\n",
       "    <tr>\n",
       "      <th>0</th>\n",
       "      <td>2.97</td>\n",
       "      <td>1.35</td>\n",
       "      <td>24.78</td>\n",
       "      <td>8.64</td>\n",
       "    </tr>\n",
       "    <tr>\n",
       "      <th>1</th>\n",
       "      <td>-3.03</td>\n",
       "      <td>-0.65</td>\n",
       "      <td>-15.22</td>\n",
       "      <td>-7.36</td>\n",
       "    </tr>\n",
       "    <tr>\n",
       "      <th>2</th>\n",
       "      <td>-4.03</td>\n",
       "      <td>-1.65</td>\n",
       "      <td>-20.22</td>\n",
       "      <td>-11.36</td>\n",
       "    </tr>\n",
       "    <tr>\n",
       "      <th>3</th>\n",
       "      <td>3.97</td>\n",
       "      <td>-1.65</td>\n",
       "      <td>3.78</td>\n",
       "      <td>4.64</td>\n",
       "    </tr>\n",
       "    <tr>\n",
       "      <th>4</th>\n",
       "      <td>3.97</td>\n",
       "      <td>3.35</td>\n",
       "      <td>48.78</td>\n",
       "      <td>14.64</td>\n",
       "    </tr>\n",
       "  </tbody>\n",
       "</table>\n",
       "</div>"
      ],
      "text/plain": [
       "   width  height   area  perimeter\n",
       "0   2.97    1.35  24.78       8.64\n",
       "1  -3.03   -0.65 -15.22      -7.36\n",
       "2  -4.03   -1.65 -20.22     -11.36\n",
       "3   3.97   -1.65   3.78       4.64\n",
       "4   3.97    3.35  48.78      14.64"
      ]
     },
     "execution_count": 38,
     "metadata": {},
     "output_type": "execute_result"
    }
   ],
   "source": [
    "centered_df.head(5)"
   ]
  },
  {
   "cell_type": "markdown",
   "id": "0d003981-9125-456d-bf79-0f6b3d924423",
   "metadata": {},
   "source": [
    "In fact, since the matrix is only rank $3$, we can recover $X$ using only the first three columns of $U$, the first three entries of $\\Sigma$, and the first three rows of $V^{\\top}$."
   ]
  },
  {
   "cell_type": "code",
   "execution_count": 39,
   "id": "ddce0a5c-8450-43f7-acbe-713366a26e50",
   "metadata": {},
   "outputs": [
    {
     "data": {
      "text/html": [
       "<div>\n",
       "<style scoped>\n",
       "    .dataframe tbody tr th:only-of-type {\n",
       "        vertical-align: middle;\n",
       "    }\n",
       "\n",
       "    .dataframe tbody tr th {\n",
       "        vertical-align: top;\n",
       "    }\n",
       "\n",
       "    .dataframe thead th {\n",
       "        text-align: right;\n",
       "    }\n",
       "</style>\n",
       "<table border=\"1\" class=\"dataframe\">\n",
       "  <thead>\n",
       "    <tr style=\"text-align: right;\">\n",
       "      <th></th>\n",
       "      <th>0</th>\n",
       "      <th>1</th>\n",
       "      <th>2</th>\n",
       "      <th>3</th>\n",
       "    </tr>\n",
       "  </thead>\n",
       "  <tbody>\n",
       "    <tr>\n",
       "      <th>0</th>\n",
       "      <td>2.97</td>\n",
       "      <td>1.35</td>\n",
       "      <td>24.78</td>\n",
       "      <td>8.64</td>\n",
       "    </tr>\n",
       "    <tr>\n",
       "      <th>1</th>\n",
       "      <td>-3.03</td>\n",
       "      <td>-0.65</td>\n",
       "      <td>-15.22</td>\n",
       "      <td>-7.36</td>\n",
       "    </tr>\n",
       "    <tr>\n",
       "      <th>2</th>\n",
       "      <td>-4.03</td>\n",
       "      <td>-1.65</td>\n",
       "      <td>-20.22</td>\n",
       "      <td>-11.36</td>\n",
       "    </tr>\n",
       "    <tr>\n",
       "      <th>3</th>\n",
       "      <td>3.97</td>\n",
       "      <td>-1.65</td>\n",
       "      <td>3.78</td>\n",
       "      <td>4.64</td>\n",
       "    </tr>\n",
       "    <tr>\n",
       "      <th>4</th>\n",
       "      <td>3.97</td>\n",
       "      <td>3.35</td>\n",
       "      <td>48.78</td>\n",
       "      <td>14.64</td>\n",
       "    </tr>\n",
       "  </tbody>\n",
       "</table>\n",
       "</div>"
      ],
      "text/plain": [
       "      0     1      2      3\n",
       "0  2.97  1.35  24.78   8.64\n",
       "1 -3.03 -0.65 -15.22  -7.36\n",
       "2 -4.03 -1.65 -20.22 -11.36\n",
       "3  3.97 -1.65   3.78   4.64\n",
       "4  3.97  3.35  48.78  14.64"
      ]
     },
     "execution_count": 39,
     "metadata": {},
     "output_type": "execute_result"
    }
   ],
   "source": [
    "pd.DataFrame(U[:, 0:3] * S[0:3] @ Vt[0:3, ]).head(5)"
   ]
  },
  {
   "cell_type": "markdown",
   "id": "ec504261-8d11-4fa4-a1e0-df566b3d346f",
   "metadata": {},
   "source": [
    "This shows the last column of $U$ is redundant. This is also why in some other formulations of SVD, $U$ is $n \\times r$ instead of $n \\times d$."
   ]
  },
  {
   "cell_type": "markdown",
   "id": "e7fbb2b2-7dc4-4406-83e5-0cc4297af7c8",
   "metadata": {},
   "source": [
    "If we use even less columns, we will get a lower rank approximation of $X$.\n",
    "\n",
    "Below is a rank 2 approximation of $X$. We can see it's pretty close to the centered $X$:"
   ]
  },
  {
   "cell_type": "code",
   "execution_count": 40,
   "id": "72bed6d9-8f97-4cf3-83b9-e3cf29aa6fb5",
   "metadata": {},
   "outputs": [
    {
     "data": {
      "text/html": [
       "<div>\n",
       "<style scoped>\n",
       "    .dataframe tbody tr th:only-of-type {\n",
       "        vertical-align: middle;\n",
       "    }\n",
       "\n",
       "    .dataframe tbody tr th {\n",
       "        vertical-align: top;\n",
       "    }\n",
       "\n",
       "    .dataframe thead th {\n",
       "        text-align: right;\n",
       "    }\n",
       "</style>\n",
       "<table border=\"1\" class=\"dataframe\">\n",
       "  <thead>\n",
       "    <tr style=\"text-align: right;\">\n",
       "      <th></th>\n",
       "      <th>0</th>\n",
       "      <th>1</th>\n",
       "      <th>2</th>\n",
       "      <th>3</th>\n",
       "    </tr>\n",
       "  </thead>\n",
       "  <tbody>\n",
       "    <tr>\n",
       "      <th>0</th>\n",
       "      <td>2.715784</td>\n",
       "      <td>1.867508</td>\n",
       "      <td>24.572326</td>\n",
       "      <td>9.166584</td>\n",
       "    </tr>\n",
       "    <tr>\n",
       "      <th>1</th>\n",
       "      <td>-3.139405</td>\n",
       "      <td>-0.427284</td>\n",
       "      <td>-15.309375</td>\n",
       "      <td>-7.133378</td>\n",
       "    </tr>\n",
       "    <tr>\n",
       "      <th>2</th>\n",
       "      <td>-4.657782</td>\n",
       "      <td>-0.372023</td>\n",
       "      <td>-20.732847</td>\n",
       "      <td>-10.059611</td>\n",
       "    </tr>\n",
       "    <tr>\n",
       "      <th>3</th>\n",
       "      <td>3.890259</td>\n",
       "      <td>-1.487671</td>\n",
       "      <td>3.714858</td>\n",
       "      <td>4.805176</td>\n",
       "    </tr>\n",
       "    <tr>\n",
       "      <th>4</th>\n",
       "      <td>3.309313</td>\n",
       "      <td>4.694962</td>\n",
       "      <td>48.240272</td>\n",
       "      <td>16.008549</td>\n",
       "    </tr>\n",
       "  </tbody>\n",
       "</table>\n",
       "</div>"
      ],
      "text/plain": [
       "          0         1          2          3\n",
       "0  2.715784  1.867508  24.572326   9.166584\n",
       "1 -3.139405 -0.427284 -15.309375  -7.133378\n",
       "2 -4.657782 -0.372023 -20.732847 -10.059611\n",
       "3  3.890259 -1.487671   3.714858   4.805176\n",
       "4  3.309313  4.694962  48.240272  16.008549"
      ]
     },
     "execution_count": 40,
     "metadata": {},
     "output_type": "execute_result"
    }
   ],
   "source": [
    "pd.DataFrame(U[:, 0:2] * S[0:2] @ Vt[0:2, ]).head(5)"
   ]
  },
  {
   "cell_type": "markdown",
   "id": "ae1e68ae-09e6-4b66-b0fe-c419ba73c144",
   "metadata": {},
   "source": [
    "We can even get a rank 1 approximation:"
   ]
  },
  {
   "cell_type": "code",
   "execution_count": 41,
   "id": "cae3d798-9f6d-4964-9279-83c2110b3434",
   "metadata": {},
   "outputs": [
    {
     "data": {
      "text/html": [
       "<div>\n",
       "<style scoped>\n",
       "    .dataframe tbody tr th:only-of-type {\n",
       "        vertical-align: middle;\n",
       "    }\n",
       "\n",
       "    .dataframe tbody tr th {\n",
       "        vertical-align: top;\n",
       "    }\n",
       "\n",
       "    .dataframe thead th {\n",
       "        text-align: right;\n",
       "    }\n",
       "</style>\n",
       "<table border=\"1\" class=\"dataframe\">\n",
       "  <thead>\n",
       "    <tr style=\"text-align: right;\">\n",
       "      <th></th>\n",
       "      <th>0</th>\n",
       "      <th>1</th>\n",
       "      <th>2</th>\n",
       "      <th>3</th>\n",
       "    </tr>\n",
       "  </thead>\n",
       "  <tbody>\n",
       "    <tr>\n",
       "      <th>0</th>\n",
       "      <td>2.607034</td>\n",
       "      <td>1.928383</td>\n",
       "      <td>24.614360</td>\n",
       "      <td>9.070835</td>\n",
       "    </tr>\n",
       "    <tr>\n",
       "      <th>1</th>\n",
       "      <td>-1.681193</td>\n",
       "      <td>-1.243552</td>\n",
       "      <td>-15.873008</td>\n",
       "      <td>-5.849490</td>\n",
       "    </tr>\n",
       "    <tr>\n",
       "      <th>2</th>\n",
       "      <td>-2.292745</td>\n",
       "      <td>-1.695908</td>\n",
       "      <td>-21.646989</td>\n",
       "      <td>-7.977306</td>\n",
       "    </tr>\n",
       "    <tr>\n",
       "      <th>3</th>\n",
       "      <td>0.530984</td>\n",
       "      <td>0.392761</td>\n",
       "      <td>5.013297</td>\n",
       "      <td>1.847490</td>\n",
       "    </tr>\n",
       "    <tr>\n",
       "      <th>4</th>\n",
       "      <td>5.038583</td>\n",
       "      <td>3.726962</td>\n",
       "      <td>47.571869</td>\n",
       "      <td>17.531091</td>\n",
       "    </tr>\n",
       "  </tbody>\n",
       "</table>\n",
       "</div>"
      ],
      "text/plain": [
       "          0         1          2          3\n",
       "0  2.607034  1.928383  24.614360   9.070835\n",
       "1 -1.681193 -1.243552 -15.873008  -5.849490\n",
       "2 -2.292745 -1.695908 -21.646989  -7.977306\n",
       "3  0.530984  0.392761   5.013297   1.847490\n",
       "4  5.038583  3.726962  47.571869  17.531091"
      ]
     },
     "execution_count": 41,
     "metadata": {},
     "output_type": "execute_result"
    }
   ],
   "source": [
    "pd.DataFrame(U[:, 0:1] * S[0:1] @ Vt[0:1, ]).head(5)"
   ]
  },
  {
   "cell_type": "markdown",
   "id": "a0522969-80aa-4817-a929-b7c3dfd0f4fd",
   "metadata": {},
   "source": [
    "This matrix is only rank 1, but it's still fairly close to our original matrix $X$ centered."
   ]
  }
 ],
 "metadata": {
  "kernelspec": {
   "display_name": "Python 3 (ipykernel)",
   "language": "python",
   "name": "python3"
  },
  "language_info": {
   "codemirror_mode": {
    "name": "ipython",
    "version": 3
   },
   "file_extension": ".py",
   "mimetype": "text/x-python",
   "name": "python",
   "nbconvert_exporter": "python",
   "pygments_lexer": "ipython3",
   "version": "3.11.0"
  }
 },
 "nbformat": 4,
 "nbformat_minor": 5
}
